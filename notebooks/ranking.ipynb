{
 "cells": [
  {
   "cell_type": "code",
   "execution_count": 1,
   "metadata": {},
   "outputs": [
    {
     "data": {
      "text/html": [
       "<div>\n",
       "<style scoped>\n",
       "    .dataframe tbody tr th:only-of-type {\n",
       "        vertical-align: middle;\n",
       "    }\n",
       "\n",
       "    .dataframe tbody tr th {\n",
       "        vertical-align: top;\n",
       "    }\n",
       "\n",
       "    .dataframe thead th {\n",
       "        text-align: right;\n",
       "    }\n",
       "</style>\n",
       "<table border=\"1\" class=\"dataframe\">\n",
       "  <thead>\n",
       "    <tr style=\"text-align: right;\">\n",
       "      <th></th>\n",
       "      <th>user</th>\n",
       "      <th>campaign</th>\n",
       "      <th>ds</th>\n",
       "      <th>counter</th>\n",
       "      <th>score</th>\n",
       "      <th>item</th>\n",
       "    </tr>\n",
       "  </thead>\n",
       "  <tbody>\n",
       "    <tr>\n",
       "      <th>0</th>\n",
       "      <td>u_00144002f1614ee9a45f7822760e3746</td>\n",
       "      <td>HSC_Lecco_2023</td>\n",
       "      <td>2023-03-05</td>\n",
       "      <td>green leaves</td>\n",
       "      <td>15</td>\n",
       "      <td>green leaves/15</td>\n",
       "    </tr>\n",
       "    <tr>\n",
       "      <th>1</th>\n",
       "      <td>u_00144002f1614ee9a45f7822760e3746</td>\n",
       "      <td>HSC_Lecco_2023</td>\n",
       "      <td>2023-03-05</td>\n",
       "      <td>walk</td>\n",
       "      <td>2</td>\n",
       "      <td>walk/2</td>\n",
       "    </tr>\n",
       "    <tr>\n",
       "      <th>2</th>\n",
       "      <td>u_00567a7bce8c4d09bea7db9bae375af4</td>\n",
       "      <td>HSC_Lecco_2023</td>\n",
       "      <td>2023-03-05</td>\n",
       "      <td>bus</td>\n",
       "      <td>7</td>\n",
       "      <td>bus/7</td>\n",
       "    </tr>\n",
       "    <tr>\n",
       "      <th>3</th>\n",
       "      <td>u_00567a7bce8c4d09bea7db9bae375af4</td>\n",
       "      <td>HSC_Lecco_2023</td>\n",
       "      <td>2023-03-05</td>\n",
       "      <td>green leaves</td>\n",
       "      <td>47</td>\n",
       "      <td>green leaves/47</td>\n",
       "    </tr>\n",
       "    <tr>\n",
       "      <th>4</th>\n",
       "      <td>u_00567a7bce8c4d09bea7db9bae375af4</td>\n",
       "      <td>HSC_Lecco_2023</td>\n",
       "      <td>2023-03-05</td>\n",
       "      <td>walk</td>\n",
       "      <td>2</td>\n",
       "      <td>walk/2</td>\n",
       "    </tr>\n",
       "    <tr>\n",
       "      <th>...</th>\n",
       "      <td>...</td>\n",
       "      <td>...</td>\n",
       "      <td>...</td>\n",
       "      <td>...</td>\n",
       "      <td>...</td>\n",
       "      <td>...</td>\n",
       "    </tr>\n",
       "    <tr>\n",
       "      <th>10522</th>\n",
       "      <td>u_e6a0be423c7e417aab5cff748e8d3685</td>\n",
       "      <td>HSC_Ferrara_2023</td>\n",
       "      <td>2023-06-04</td>\n",
       "      <td>walk</td>\n",
       "      <td>7</td>\n",
       "      <td>walk/7</td>\n",
       "    </tr>\n",
       "    <tr>\n",
       "      <th>10523</th>\n",
       "      <td>u_e6eeaa10dd9a4477be1039b97cb61cc1</td>\n",
       "      <td>HSC_Ferrara_2023</td>\n",
       "      <td>2023-06-04</td>\n",
       "      <td>green leaves</td>\n",
       "      <td>101</td>\n",
       "      <td>green leaves/101</td>\n",
       "    </tr>\n",
       "    <tr>\n",
       "      <th>10524</th>\n",
       "      <td>u_e6eeaa10dd9a4477be1039b97cb61cc1</td>\n",
       "      <td>HSC_Ferrara_2023</td>\n",
       "      <td>2023-06-04</td>\n",
       "      <td>walk</td>\n",
       "      <td>5</td>\n",
       "      <td>walk/5</td>\n",
       "    </tr>\n",
       "    <tr>\n",
       "      <th>10525</th>\n",
       "      <td>u_eb38ede33d7e49deae2d346646d642d6</td>\n",
       "      <td>HSC_Ferrara_2023</td>\n",
       "      <td>2023-06-04</td>\n",
       "      <td>green leaves</td>\n",
       "      <td>50</td>\n",
       "      <td>green leaves/50</td>\n",
       "    </tr>\n",
       "    <tr>\n",
       "      <th>10526</th>\n",
       "      <td>u_f74f565c3dc44c84b31b4ac0fc3a093b</td>\n",
       "      <td>HSC_Ferrara_2023</td>\n",
       "      <td>2023-06-04</td>\n",
       "      <td>green leaves</td>\n",
       "      <td>50</td>\n",
       "      <td>green leaves/50</td>\n",
       "    </tr>\n",
       "  </tbody>\n",
       "</table>\n",
       "<p>10527 rows × 6 columns</p>\n",
       "</div>"
      ],
      "text/plain": [
       "                                     user          campaign         ds  \\\n",
       "0      u_00144002f1614ee9a45f7822760e3746    HSC_Lecco_2023 2023-03-05   \n",
       "1      u_00144002f1614ee9a45f7822760e3746    HSC_Lecco_2023 2023-03-05   \n",
       "2      u_00567a7bce8c4d09bea7db9bae375af4    HSC_Lecco_2023 2023-03-05   \n",
       "3      u_00567a7bce8c4d09bea7db9bae375af4    HSC_Lecco_2023 2023-03-05   \n",
       "4      u_00567a7bce8c4d09bea7db9bae375af4    HSC_Lecco_2023 2023-03-05   \n",
       "...                                   ...               ...        ...   \n",
       "10522  u_e6a0be423c7e417aab5cff748e8d3685  HSC_Ferrara_2023 2023-06-04   \n",
       "10523  u_e6eeaa10dd9a4477be1039b97cb61cc1  HSC_Ferrara_2023 2023-06-04   \n",
       "10524  u_e6eeaa10dd9a4477be1039b97cb61cc1  HSC_Ferrara_2023 2023-06-04   \n",
       "10525  u_eb38ede33d7e49deae2d346646d642d6  HSC_Ferrara_2023 2023-06-04   \n",
       "10526  u_f74f565c3dc44c84b31b4ac0fc3a093b  HSC_Ferrara_2023 2023-06-04   \n",
       "\n",
       "            counter  score              item  \n",
       "0      green leaves     15   green leaves/15  \n",
       "1              walk      2            walk/2  \n",
       "2               bus      7             bus/7  \n",
       "3      green leaves     47   green leaves/47  \n",
       "4              walk      2            walk/2  \n",
       "...             ...    ...               ...  \n",
       "10522          walk      7            walk/7  \n",
       "10523  green leaves    101  green leaves/101  \n",
       "10524          walk      5            walk/5  \n",
       "10525  green leaves     50   green leaves/50  \n",
       "10526  green leaves     50   green leaves/50  \n",
       "\n",
       "[10527 rows x 6 columns]"
      ]
     },
     "execution_count": 1,
     "metadata": {},
     "output_type": "execute_result"
    }
   ],
   "source": [
    "import pandas as pd\n",
    "import numpy as np\n",
    "\n",
    "STATS_FILES = {\n",
    "    'HSC_Lecco_2023': '../data/HSC_Lecco_2023-Players_Daily_Mobility_Stats.parquet',\n",
    "    'HSC_Ferrara_2023': '../data/HSC_Ferrara_2023-Players_Daily_Mobility_Stats.parquet',\n",
    "}\n",
    "\n",
    "SCORES_FILES = {\n",
    "    'HSC_Lecco_2023': '../data/HSC_Lecco_2023-Players_Daily_Mobility_Scores.parquet',\n",
    "    'HSC_Ferrara_2023': '../data/HSC_Ferrara_2023-Players_Daily_Mobility_Scores.parquet',\n",
    "}\n",
    "\n",
    "def load_stats(path: str, c: str) -> pd.DataFrame:\n",
    "    df = pd.read_parquet(path)\n",
    "    df['distance'] = df['distance'] / 1000 # convert to km\n",
    "    df['campaign'] = c\n",
    "    df.rename(columns={'playerId': 'user', 'modeType': 'counter', 'distance': 'score', 'stat_date': 'ds'}, inplace=True)\n",
    "    return df[['user', 'campaign', 'ds', 'counter', 'score']]\n",
    "\n",
    "def load_scores(path: str, c: str) -> pd.DataFrame:\n",
    "    df = pd.read_parquet(path)\n",
    "    df.rename(columns={'player_id': 'user', 'mobilityScore': 'score', 'day': 'ds'}, inplace=True)\n",
    "    df['counter'] = 'green leaves'\n",
    "    df['campaign'] = c\n",
    "    return df[['user', 'campaign', 'ds', 'counter', 'score']]\n",
    "\n",
    "df = pd.concat([\n",
    "    *[load_stats(f, k) for k, f in STATS_FILES.items()],\n",
    "    *[load_scores(f, k) for k, f in SCORES_FILES.items()]\n",
    "])\n",
    "df['ds'] = pd.to_datetime(df['ds'])\n",
    "df = df.groupby(['user', 'campaign', pd.Grouper(key='ds', freq='W'), 'counter']).sum().reset_index()\n",
    "df['score'] = np.ceil(df['score']).astype(int)\n",
    "df = df[df['score'] > 0]\n",
    "\n",
    "df['item'] = (df['counter'] + '/' + df['score'].astype(str)).astype('category')\n",
    "df['user'] = df['user'].astype('category')\n",
    "df['campaign'] = df['campaign'].astype('category')\n",
    "\n",
    "df.sort_values(['ds', 'user'], inplace=True, ascending=True, ignore_index=True)\n",
    "\n",
    "df"
   ]
  },
  {
   "cell_type": "code",
   "execution_count": 15,
   "metadata": {},
   "outputs": [
    {
     "data": {
      "text/html": [
       "<div>\n",
       "<style scoped>\n",
       "    .dataframe tbody tr th:only-of-type {\n",
       "        vertical-align: middle;\n",
       "    }\n",
       "\n",
       "    .dataframe tbody tr th {\n",
       "        vertical-align: top;\n",
       "    }\n",
       "\n",
       "    .dataframe thead th {\n",
       "        text-align: right;\n",
       "    }\n",
       "</style>\n",
       "<table border=\"1\" class=\"dataframe\">\n",
       "  <thead>\n",
       "    <tr style=\"text-align: right;\">\n",
       "      <th></th>\n",
       "      <th>min</th>\n",
       "      <th>max</th>\n",
       "    </tr>\n",
       "    <tr>\n",
       "      <th>counter</th>\n",
       "      <th></th>\n",
       "      <th></th>\n",
       "    </tr>\n",
       "  </thead>\n",
       "  <tbody>\n",
       "    <tr>\n",
       "      <th>bike</th>\n",
       "      <td>1</td>\n",
       "      <td>139</td>\n",
       "    </tr>\n",
       "    <tr>\n",
       "      <th>bus</th>\n",
       "      <td>1</td>\n",
       "      <td>380</td>\n",
       "    </tr>\n",
       "    <tr>\n",
       "      <th>car</th>\n",
       "      <td>2</td>\n",
       "      <td>964</td>\n",
       "    </tr>\n",
       "    <tr>\n",
       "      <th>green leaves</th>\n",
       "      <td>1</td>\n",
       "      <td>1371</td>\n",
       "    </tr>\n",
       "    <tr>\n",
       "      <th>train</th>\n",
       "      <td>1</td>\n",
       "      <td>687</td>\n",
       "    </tr>\n",
       "    <tr>\n",
       "      <th>walk</th>\n",
       "      <td>1</td>\n",
       "      <td>77</td>\n",
       "    </tr>\n",
       "  </tbody>\n",
       "</table>\n",
       "</div>"
      ],
      "text/plain": [
       "              min   max\n",
       "counter                \n",
       "bike            1   139\n",
       "bus             1   380\n",
       "car             2   964\n",
       "green leaves    1  1371\n",
       "train           1   687\n",
       "walk            1    77"
      ]
     },
     "execution_count": 15,
     "metadata": {},
     "output_type": "execute_result"
    }
   ],
   "source": [
    "df.groupby('counter')['score'].agg(['min', 'max'])"
   ]
  },
  {
   "cell_type": "code",
   "execution_count": null,
   "metadata": {},
   "outputs": [],
   "source": [
    "items = [\n",
    "    *[('bike', i) for i in range(1, 6) ]\n",
    "]"
   ]
  },
  {
   "cell_type": "code",
   "execution_count": 2,
   "metadata": {},
   "outputs": [],
   "source": [
    "dataset = pd.DataFrame({\n",
    "    'user': df['user'].cat.codes,\n",
    "    'item': df['item'].cat.codes,\n",
    "})"
   ]
  },
  {
   "cell_type": "code",
   "execution_count": 3,
   "metadata": {},
   "outputs": [],
   "source": [
    "import torch\n",
    "import torch.nn as nn\n",
    "import torch.optim as optim\n",
    "from torch.utils.data import DataLoader, Dataset\n",
    "from tqdm.auto import tqdm\n",
    "\n",
    "DEVICE = torch.device('cuda' if torch.cuda.is_available() else 'cpu')\n",
    "torch.manual_seed(0)\n",
    "np.random.seed(0)\n",
    "\n",
    "class FactorizationMachine(nn.Module):\n",
    "    def __init__(self, field_dims, num_factors):\n",
    "        super(FactorizationMachine, self).__init__()\n",
    "        num_inputs = sum(field_dims)\n",
    "        self.offsets = torch.tensor((0, *np.cumsum(field_dims)[:-1]), dtype=torch.long)\n",
    "        self.offsets = nn.Parameter(self.offsets, requires_grad=False)\n",
    "        print(self.offsets)\n",
    "\n",
    "        self.embedding = nn.Embedding(num_inputs, num_factors)\n",
    "        self.fc = nn.Embedding(num_inputs, 1)\n",
    "        self.linear = nn.Linear(1, 1, bias=True)\n",
    "\n",
    "    def forward(self, x: torch.Tensor):\n",
    "        x = x + self.offsets\n",
    "        square_of_sum = torch.sum(self.embedding(x), dim=1).pow(2)\n",
    "        sum_of_square = torch.sum(self.embedding(x).pow(2), dim=1)\n",
    "        x = self.linear(self.fc(x).sum(1)) + 0.5 * \\\n",
    "            (square_of_sum - sum_of_square).sum(1, keepdim=True)\n",
    "        return x\n",
    "\n",
    "\n",
    "class FMDataWithNegativeSample(Dataset):\n",
    "    def __init__(self, data: pd.DataFrame):\n",
    "        self.data = data.copy()\n",
    "\n",
    "        self.all_items = set(data['item'])\n",
    "        self.field_dims = [len(set(data[c])) for c in data.columns]\n",
    "\n",
    "    def __len__(self):\n",
    "        return len(self.data)\n",
    "\n",
    "    def __getitem__(self, idx):\n",
    "        row = self.data.iloc[idx]\n",
    "        user = row['user']\n",
    "        I_u = set(self.data.loc[self.data['user'] == user, 'item'])\n",
    "\n",
    "        positive_item = row['item']\n",
    "        negative_item = np.random.choice(list(self.all_items - I_u))\n",
    "\n",
    "        return torch.tensor((user, positive_item), dtype=torch.long), torch.tensor((user, negative_item), dtype=torch.long)\n",
    "\n",
    "\n",
    "class BPRLoss(nn.Module):\n",
    "    def __init__(self):\n",
    "        super(BPRLoss, self).__init__()\n",
    "\n",
    "    def forward(self, positive: torch.Tensor, negative: torch.Tensor):\n",
    "        return - torch.sum(torch.log(torch.sigmoid(positive - negative)), dim=0, keepdim=True)\n",
    "\n",
    "\n",
    "def train(model: nn.Module, data: Dataset, epochs: int = 10, batch_size: int = 32, lr: float = 1e-2, weight_decay: float = 0.0):\n",
    "    model.to(DEVICE)\n",
    "    model.train()\n",
    "    optimizer = optim.Adam(model.parameters(), lr=lr,\n",
    "                           weight_decay=weight_decay)\n",
    "    criterion = BPRLoss()\n",
    "    data_loader = DataLoader(data, batch_size=batch_size, shuffle=False)\n",
    "\n",
    "    for _ in (bar := tqdm(range(epochs))):\n",
    "        for positive, negative in (epoch_bar := tqdm(data_loader, leave=False)):\n",
    "            positive, negative = positive.to(DEVICE), negative.to(DEVICE)\n",
    "            optimizer.zero_grad()\n",
    "            positive_score = model(positive)\n",
    "            negative_score = model(negative)\n",
    "            loss = criterion(positive_score, negative_score)\n",
    "            loss.backward()\n",
    "            optimizer.step()\n",
    "            epoch_bar.set_postfix(loss=loss.item())\n",
    "        bar.set_postfix(loss=loss.item())\n",
    "    return model"
   ]
  },
  {
   "cell_type": "code",
   "execution_count": 4,
   "metadata": {},
   "outputs": [
    {
     "name": "stdout",
     "output_type": "stream",
     "text": [
      "Parameter containing:\n",
      "tensor([  0, 689])\n"
     ]
    },
    {
     "data": {
      "application/vnd.jupyter.widget-view+json": {
       "model_id": "5acc39221ec74373981ba0f05d4add9e",
       "version_major": 2,
       "version_minor": 0
      },
      "text/plain": [
       "  0%|          | 0/10 [00:00<?, ?it/s]"
      ]
     },
     "metadata": {},
     "output_type": "display_data"
    },
    {
     "data": {
      "application/vnd.jupyter.widget-view+json": {
       "model_id": "20c0d6543a324503a93ef4f23765e939",
       "version_major": 2,
       "version_minor": 0
      },
      "text/plain": [
       "  0%|          | 0/329 [00:00<?, ?it/s]"
      ]
     },
     "metadata": {},
     "output_type": "display_data"
    },
    {
     "data": {
      "application/vnd.jupyter.widget-view+json": {
       "model_id": "666a229dc6e84ba49e85cde996d442dd",
       "version_major": 2,
       "version_minor": 0
      },
      "text/plain": [
       "  0%|          | 0/329 [00:00<?, ?it/s]"
      ]
     },
     "metadata": {},
     "output_type": "display_data"
    },
    {
     "data": {
      "application/vnd.jupyter.widget-view+json": {
       "model_id": "45c6d6409ec143e8b7473cb6003fc9a4",
       "version_major": 2,
       "version_minor": 0
      },
      "text/plain": [
       "  0%|          | 0/329 [00:00<?, ?it/s]"
      ]
     },
     "metadata": {},
     "output_type": "display_data"
    },
    {
     "data": {
      "application/vnd.jupyter.widget-view+json": {
       "model_id": "32f12048bb2c497381c686cf81d1760b",
       "version_major": 2,
       "version_minor": 0
      },
      "text/plain": [
       "  0%|          | 0/329 [00:00<?, ?it/s]"
      ]
     },
     "metadata": {},
     "output_type": "display_data"
    },
    {
     "data": {
      "application/vnd.jupyter.widget-view+json": {
       "model_id": "458b0fa7bbb74d54be5c0d8cabd7a8c5",
       "version_major": 2,
       "version_minor": 0
      },
      "text/plain": [
       "  0%|          | 0/329 [00:00<?, ?it/s]"
      ]
     },
     "metadata": {},
     "output_type": "display_data"
    },
    {
     "data": {
      "application/vnd.jupyter.widget-view+json": {
       "model_id": "cd3b0dc82ec3430093820cfc7e7aadf6",
       "version_major": 2,
       "version_minor": 0
      },
      "text/plain": [
       "  0%|          | 0/329 [00:00<?, ?it/s]"
      ]
     },
     "metadata": {},
     "output_type": "display_data"
    },
    {
     "data": {
      "application/vnd.jupyter.widget-view+json": {
       "model_id": "ddbc008b83214a768de87e155a43ff4e",
       "version_major": 2,
       "version_minor": 0
      },
      "text/plain": [
       "  0%|          | 0/329 [00:00<?, ?it/s]"
      ]
     },
     "metadata": {},
     "output_type": "display_data"
    },
    {
     "data": {
      "application/vnd.jupyter.widget-view+json": {
       "model_id": "2d01f465992a4516b262c0a2e10bd8dd",
       "version_major": 2,
       "version_minor": 0
      },
      "text/plain": [
       "  0%|          | 0/329 [00:00<?, ?it/s]"
      ]
     },
     "metadata": {},
     "output_type": "display_data"
    },
    {
     "data": {
      "application/vnd.jupyter.widget-view+json": {
       "model_id": "101fe566b9b84fda860722337a22facf",
       "version_major": 2,
       "version_minor": 0
      },
      "text/plain": [
       "  0%|          | 0/329 [00:00<?, ?it/s]"
      ]
     },
     "metadata": {},
     "output_type": "display_data"
    },
    {
     "data": {
      "application/vnd.jupyter.widget-view+json": {
       "model_id": "7b6e3b9879d1450b80f1dcfdc88c1cd6",
       "version_major": 2,
       "version_minor": 0
      },
      "text/plain": [
       "  0%|          | 0/329 [00:00<?, ?it/s]"
      ]
     },
     "metadata": {},
     "output_type": "display_data"
    }
   ],
   "source": [
    "ds = FMDataWithNegativeSample(dataset)\n",
    "model = FactorizationMachine(ds.field_dims, 8).to(DEVICE)\n",
    "model = train(model, ds, epochs=10, batch_size=32, lr=1e-2, weight_decay=1e-6)"
   ]
  },
  {
   "cell_type": "code",
   "execution_count": 13,
   "metadata": {},
   "outputs": [
    {
     "name": "stdout",
     "output_type": "stream",
     "text": [
      "User: u_51493203bd174219808f5a8d129b8a0d\n"
     ]
    },
    {
     "data": {
      "text/plain": [
       "[('walk/10', np.float32(9.045524)),\n",
       " ('walk/4', np.float32(8.897294)),\n",
       " ('walk/2', np.float32(8.202766)),\n",
       " ('bike/7', np.float32(6.866133)),\n",
       " ('green leaves/19', np.float32(6.669152)),\n",
       " ('green leaves/56', np.float32(6.449106)),\n",
       " ('walk/9', np.float32(6.3551283)),\n",
       " ('walk/1', np.float32(6.3482113)),\n",
       " ('bike/1', np.float32(6.323927)),\n",
       " ('green leaves/167', np.float32(6.305286))]"
      ]
     },
     "execution_count": 13,
     "metadata": {},
     "output_type": "execute_result"
    }
   ],
   "source": [
    "USER = np.random.choice(dataset['user'].unique())\n",
    "ITEMS = dataset['item'].unique()\n",
    "\n",
    "with torch.no_grad():\n",
    "    scores = model(torch.tensor([(USER, i) for i in ITEMS], dtype=torch.long).to(DEVICE)).cpu().numpy().flatten()\n",
    "    \n",
    "scores = list(zip(ITEMS, scores))\n",
    "scores = sorted(scores, key=lambda x: x[1], reverse=True)\n",
    "scores = [(df['item'].cat.categories[i], s) for i, s in scores][:10]\n",
    "\n",
    "print(f'User: {df[\"user\"].cat.categories[USER]}')\n",
    "scores"
   ]
  },
  {
   "cell_type": "code",
   "execution_count": 14,
   "metadata": {},
   "outputs": [
    {
     "data": {
      "text/plain": [
       "['bike/4',\n",
       " 'green leaves/146',\n",
       " 'walk/9',\n",
       " 'bike/7',\n",
       " 'bus/2',\n",
       " 'green leaves/278',\n",
       " 'walk/22',\n",
       " 'green leaves/56',\n",
       " 'walk/5']"
      ]
     },
     "execution_count": 14,
     "metadata": {},
     "output_type": "execute_result"
    }
   ],
   "source": [
    "[df['item'].cat.categories[i] for i in dataset[dataset['user'] == USER]['item']]"
   ]
  }
 ],
 "metadata": {
  "kernelspec": {
   "display_name": "Python 3",
   "language": "python",
   "name": "python3"
  },
  "language_info": {
   "codemirror_mode": {
    "name": "ipython",
    "version": 3
   },
   "file_extension": ".py",
   "mimetype": "text/x-python",
   "name": "python",
   "nbconvert_exporter": "python",
   "pygments_lexer": "ipython3",
   "version": "3.10.14"
  }
 },
 "nbformat": 4,
 "nbformat_minor": 2
}
