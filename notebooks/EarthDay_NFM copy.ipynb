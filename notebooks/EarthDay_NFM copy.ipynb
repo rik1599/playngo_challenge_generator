{
 "cells": [
  {
   "cell_type": "code",
   "execution_count": 1,
   "metadata": {},
   "outputs": [],
   "source": [
    "import zipfile\n",
    "\n",
    "with zipfile.ZipFile('./../data/earth_day_missions.csv.zip', 'r') as myzip:\n",
    "    myzip.extract('earth_day_missions.csv', './../data/')\n",
    "    myzip.close()"
   ]
  },
  {
   "cell_type": "code",
   "execution_count": 2,
   "metadata": {},
   "outputs": [
    {
     "data": {
      "text/html": [
       "<div>\n",
       "<style scoped>\n",
       "    .dataframe tbody tr th:only-of-type {\n",
       "        vertical-align: middle;\n",
       "    }\n",
       "\n",
       "    .dataframe tbody tr th {\n",
       "        vertical-align: top;\n",
       "    }\n",
       "\n",
       "    .dataframe thead th {\n",
       "        text-align: right;\n",
       "    }\n",
       "</style>\n",
       "<table border=\"1\" class=\"dataframe\">\n",
       "  <thead>\n",
       "    <tr style=\"text-align: right;\">\n",
       "      <th></th>\n",
       "      <th>start_date</th>\n",
       "      <th>user</th>\n",
       "      <th>missionId</th>\n",
       "      <th>missionType</th>\n",
       "      <th>missionSubType</th>\n",
       "      <th>period</th>\n",
       "      <th>target</th>\n",
       "      <th>title</th>\n",
       "      <th>satisfied</th>\n",
       "      <th>performance</th>\n",
       "    </tr>\n",
       "  </thead>\n",
       "  <tbody>\n",
       "    <tr>\n",
       "      <th>0</th>\n",
       "      <td>2024-03-25</td>\n",
       "      <td>21190</td>\n",
       "      <td>30</td>\n",
       "      <td>TICKET</td>\n",
       "      <td>TICKET</td>\n",
       "      <td>CUSTOM</td>\n",
       "      <td>1</td>\n",
       "      <td>ticket</td>\n",
       "      <td>True</td>\n",
       "      <td>1.0</td>\n",
       "    </tr>\n",
       "    <tr>\n",
       "      <th>1</th>\n",
       "      <td>2024-03-25</td>\n",
       "      <td>18882</td>\n",
       "      <td>30</td>\n",
       "      <td>TICKET</td>\n",
       "      <td>TICKET</td>\n",
       "      <td>CUSTOM</td>\n",
       "      <td>1</td>\n",
       "      <td>ticket</td>\n",
       "      <td>True</td>\n",
       "      <td>1.0</td>\n",
       "    </tr>\n",
       "    <tr>\n",
       "      <th>2</th>\n",
       "      <td>2024-03-25</td>\n",
       "      <td>17304</td>\n",
       "      <td>14</td>\n",
       "      <td>MEASURE</td>\n",
       "      <td>TYPEFORM_BASE</td>\n",
       "      <td>CUSTOM</td>\n",
       "      <td>1</td>\n",
       "      <td>calculate_carbon_footprint</td>\n",
       "      <td>True</td>\n",
       "      <td>1.0</td>\n",
       "    </tr>\n",
       "    <tr>\n",
       "      <th>3</th>\n",
       "      <td>2024-03-25</td>\n",
       "      <td>17304</td>\n",
       "      <td>16</td>\n",
       "      <td>LEARN</td>\n",
       "      <td>JOURNEY</td>\n",
       "      <td>CUSTOM</td>\n",
       "      <td>1</td>\n",
       "      <td>complete_journey</td>\n",
       "      <td>True</td>\n",
       "      <td>1.0</td>\n",
       "    </tr>\n",
       "    <tr>\n",
       "      <th>4</th>\n",
       "      <td>2024-03-25</td>\n",
       "      <td>17304</td>\n",
       "      <td>30</td>\n",
       "      <td>TICKET</td>\n",
       "      <td>TICKET</td>\n",
       "      <td>CUSTOM</td>\n",
       "      <td>1</td>\n",
       "      <td>ticket</td>\n",
       "      <td>True</td>\n",
       "      <td>1.0</td>\n",
       "    </tr>\n",
       "    <tr>\n",
       "      <th>...</th>\n",
       "      <td>...</td>\n",
       "      <td>...</td>\n",
       "      <td>...</td>\n",
       "      <td>...</td>\n",
       "      <td>...</td>\n",
       "      <td>...</td>\n",
       "      <td>...</td>\n",
       "      <td>...</td>\n",
       "      <td>...</td>\n",
       "      <td>...</td>\n",
       "    </tr>\n",
       "    <tr>\n",
       "      <th>45115</th>\n",
       "      <td>2024-04-20</td>\n",
       "      <td>8951</td>\n",
       "      <td>28</td>\n",
       "      <td>LEARN</td>\n",
       "      <td>DAILYEPISODE</td>\n",
       "      <td>DAILY</td>\n",
       "      <td>1</td>\n",
       "      <td>watch_the_daily_episode</td>\n",
       "      <td>True</td>\n",
       "      <td>1.0</td>\n",
       "    </tr>\n",
       "    <tr>\n",
       "      <th>45116</th>\n",
       "      <td>2024-04-20</td>\n",
       "      <td>8951</td>\n",
       "      <td>32</td>\n",
       "      <td>CHECKIN</td>\n",
       "      <td>CHECKIN</td>\n",
       "      <td>DAILY</td>\n",
       "      <td>1</td>\n",
       "      <td>do_checkin</td>\n",
       "      <td>True</td>\n",
       "      <td>1.0</td>\n",
       "    </tr>\n",
       "    <tr>\n",
       "      <th>45117</th>\n",
       "      <td>2024-04-20</td>\n",
       "      <td>22776</td>\n",
       "      <td>3</td>\n",
       "      <td>CHECKIN</td>\n",
       "      <td>CHECKIN</td>\n",
       "      <td>DAILY</td>\n",
       "      <td>1</td>\n",
       "      <td>do_checkin</td>\n",
       "      <td>True</td>\n",
       "      <td>1.0</td>\n",
       "    </tr>\n",
       "    <tr>\n",
       "      <th>45118</th>\n",
       "      <td>2024-04-20</td>\n",
       "      <td>19837</td>\n",
       "      <td>28</td>\n",
       "      <td>LEARN</td>\n",
       "      <td>DAILYEPISODE</td>\n",
       "      <td>DAILY</td>\n",
       "      <td>1</td>\n",
       "      <td>watch_the_daily_episode</td>\n",
       "      <td>True</td>\n",
       "      <td>1.0</td>\n",
       "    </tr>\n",
       "    <tr>\n",
       "      <th>45119</th>\n",
       "      <td>2024-04-20</td>\n",
       "      <td>6713</td>\n",
       "      <td>23</td>\n",
       "      <td>CHECKIN</td>\n",
       "      <td>CHECKIN</td>\n",
       "      <td>DAILY</td>\n",
       "      <td>1</td>\n",
       "      <td>do_checkin</td>\n",
       "      <td>True</td>\n",
       "      <td>1.0</td>\n",
       "    </tr>\n",
       "  </tbody>\n",
       "</table>\n",
       "<p>45120 rows × 10 columns</p>\n",
       "</div>"
      ],
      "text/plain": [
       "      start_date   user  missionId missionType missionSubType  period  target  \\\n",
       "0     2024-03-25  21190         30      TICKET         TICKET  CUSTOM       1   \n",
       "1     2024-03-25  18882         30      TICKET         TICKET  CUSTOM       1   \n",
       "2     2024-03-25  17304         14     MEASURE  TYPEFORM_BASE  CUSTOM       1   \n",
       "3     2024-03-25  17304         16       LEARN        JOURNEY  CUSTOM       1   \n",
       "4     2024-03-25  17304         30      TICKET         TICKET  CUSTOM       1   \n",
       "...          ...    ...        ...         ...            ...     ...     ...   \n",
       "45115 2024-04-20   8951         28       LEARN   DAILYEPISODE   DAILY       1   \n",
       "45116 2024-04-20   8951         32     CHECKIN        CHECKIN   DAILY       1   \n",
       "45117 2024-04-20  22776          3     CHECKIN        CHECKIN   DAILY       1   \n",
       "45118 2024-04-20  19837         28       LEARN   DAILYEPISODE   DAILY       1   \n",
       "45119 2024-04-20   6713         23     CHECKIN        CHECKIN   DAILY       1   \n",
       "\n",
       "                            title  satisfied  performance  \n",
       "0                          ticket       True          1.0  \n",
       "1                          ticket       True          1.0  \n",
       "2      calculate_carbon_footprint       True          1.0  \n",
       "3                complete_journey       True          1.0  \n",
       "4                          ticket       True          1.0  \n",
       "...                           ...        ...          ...  \n",
       "45115     watch_the_daily_episode       True          1.0  \n",
       "45116                  do_checkin       True          1.0  \n",
       "45117                  do_checkin       True          1.0  \n",
       "45118     watch_the_daily_episode       True          1.0  \n",
       "45119                  do_checkin       True          1.0  \n",
       "\n",
       "[45120 rows x 10 columns]"
      ]
     },
     "execution_count": 2,
     "metadata": {},
     "output_type": "execute_result"
    }
   ],
   "source": [
    "import pandas as pd\n",
    "import numpy as np\n",
    "\n",
    "df = pd.read_csv('./../data/earth_day_missions.csv', index_col=0, low_memory=False)\n",
    "df = df[~df['ignored']]\n",
    "df = df[['start_date', 'user', 'missionId', 'missionType', 'missionSubType', 'period', 'target', 'title', 'satisfied', 'performance']]\n",
    "\n",
    "df['start_date'] = pd.to_datetime(df['start_date'])\n",
    "df['user'] = df['user'].astype('category').cat.codes\n",
    "df['missionId'] = df['missionId'].astype('category').cat.codes\n",
    "df['missionType'] = df['missionType'].astype('category')\n",
    "df['missionSubType'] = df['missionSubType'].astype('category')\n",
    "df['period'] = df['period'].astype('category')\n",
    "\n",
    "df = df.sort_values(by=['start_date'], ignore_index=True)\n",
    "\n",
    "df"
   ]
  },
  {
   "cell_type": "code",
   "execution_count": 3,
   "metadata": {},
   "outputs": [
    {
     "data": {
      "text/html": [
       "<div>\n",
       "<style scoped>\n",
       "    .dataframe tbody tr th:only-of-type {\n",
       "        vertical-align: middle;\n",
       "    }\n",
       "\n",
       "    .dataframe tbody tr th {\n",
       "        vertical-align: top;\n",
       "    }\n",
       "\n",
       "    .dataframe thead th {\n",
       "        text-align: right;\n",
       "    }\n",
       "</style>\n",
       "<table border=\"1\" class=\"dataframe\">\n",
       "  <thead>\n",
       "    <tr style=\"text-align: right;\">\n",
       "      <th></th>\n",
       "      <th></th>\n",
       "      <th></th>\n",
       "      <th></th>\n",
       "      <th></th>\n",
       "      <th>satisfied</th>\n",
       "      <th>False</th>\n",
       "      <th>True</th>\n",
       "    </tr>\n",
       "    <tr>\n",
       "      <th>missionId</th>\n",
       "      <th>title</th>\n",
       "      <th>missionType</th>\n",
       "      <th>missionSubType</th>\n",
       "      <th>period</th>\n",
       "      <th>target</th>\n",
       "      <th></th>\n",
       "      <th></th>\n",
       "    </tr>\n",
       "  </thead>\n",
       "  <tbody>\n",
       "    <tr>\n",
       "      <th>8</th>\n",
       "      <th>log_1_action</th>\n",
       "      <th>ACT</th>\n",
       "      <th>ALL</th>\n",
       "      <th>DAILY</th>\n",
       "      <th>1</th>\n",
       "      <td>0</td>\n",
       "      <td>636</td>\n",
       "    </tr>\n",
       "    <tr>\n",
       "      <th>24</th>\n",
       "      <th>log_2_action</th>\n",
       "      <th>ACT</th>\n",
       "      <th>ALL</th>\n",
       "      <th>DAILY</th>\n",
       "      <th>2</th>\n",
       "      <td>113</td>\n",
       "      <td>1087</td>\n",
       "    </tr>\n",
       "    <tr>\n",
       "      <th>18</th>\n",
       "      <th>log_3_action</th>\n",
       "      <th>ACT</th>\n",
       "      <th>ALL</th>\n",
       "      <th>DAILY</th>\n",
       "      <th>3</th>\n",
       "      <td>115</td>\n",
       "      <td>517</td>\n",
       "    </tr>\n",
       "    <tr>\n",
       "      <th>33</th>\n",
       "      <th>log_2_action2_consecutive</th>\n",
       "      <th>ACT</th>\n",
       "      <th>ALL</th>\n",
       "      <th>WEEKLY</th>\n",
       "      <th>2</th>\n",
       "      <td>1425</td>\n",
       "      <td>190</td>\n",
       "    </tr>\n",
       "    <tr>\n",
       "      <th>25</th>\n",
       "      <th>log_1_action_energy</th>\n",
       "      <th>ACT</th>\n",
       "      <th>ENERGY</th>\n",
       "      <th>DAILY</th>\n",
       "      <th>1</th>\n",
       "      <td>0</td>\n",
       "      <td>101</td>\n",
       "    </tr>\n",
       "    <tr>\n",
       "      <th>21</th>\n",
       "      <th>log_2_action_energy</th>\n",
       "      <th>ACT</th>\n",
       "      <th>ENERGY</th>\n",
       "      <th>DAILY</th>\n",
       "      <th>2</th>\n",
       "      <td>48</td>\n",
       "      <td>814</td>\n",
       "    </tr>\n",
       "    <tr>\n",
       "      <th>26</th>\n",
       "      <th>log_1_action_environment</th>\n",
       "      <th>ACT</th>\n",
       "      <th>ENVIRONMENT</th>\n",
       "      <th>DAILY</th>\n",
       "      <th>1</th>\n",
       "      <td>0</td>\n",
       "      <td>554</td>\n",
       "    </tr>\n",
       "    <tr>\n",
       "      <th>11</th>\n",
       "      <th>log_1_action_vegetarian</th>\n",
       "      <th>ACT</th>\n",
       "      <th>FIXED</th>\n",
       "      <th>DAILY</th>\n",
       "      <th>1</th>\n",
       "      <td>0</td>\n",
       "      <td>98</td>\n",
       "    </tr>\n",
       "    <tr>\n",
       "      <th>31</th>\n",
       "      <th>log_action_take5minutesshower</th>\n",
       "      <th>ACT</th>\n",
       "      <th>FIXED</th>\n",
       "      <th>DAILY</th>\n",
       "      <th>1</th>\n",
       "      <td>0</td>\n",
       "      <td>101</td>\n",
       "    </tr>\n",
       "    <tr>\n",
       "      <th>29</th>\n",
       "      <th>log_2_action_vegetarian</th>\n",
       "      <th>ACT</th>\n",
       "      <th>FIXED</th>\n",
       "      <th>WEEKLY</th>\n",
       "      <th>2</th>\n",
       "      <td>134</td>\n",
       "      <td>225</td>\n",
       "    </tr>\n",
       "    <tr>\n",
       "      <th>2</th>\n",
       "      <th>log_1_action_food</th>\n",
       "      <th>ACT</th>\n",
       "      <th>FOOD</th>\n",
       "      <th>DAILY</th>\n",
       "      <th>1</th>\n",
       "      <td>0</td>\n",
       "      <td>383</td>\n",
       "    </tr>\n",
       "    <tr>\n",
       "      <th>13</th>\n",
       "      <th>log_1_action_food</th>\n",
       "      <th>ACT</th>\n",
       "      <th>FOOD</th>\n",
       "      <th>DAILY</th>\n",
       "      <th>1</th>\n",
       "      <td>0</td>\n",
       "      <td>119</td>\n",
       "    </tr>\n",
       "    <tr>\n",
       "      <th>7</th>\n",
       "      <th>log_2_action_mobility</th>\n",
       "      <th>ACT</th>\n",
       "      <th>MOBILITY</th>\n",
       "      <th>WEEKLY</th>\n",
       "      <th>2</th>\n",
       "      <td>61</td>\n",
       "      <td>310</td>\n",
       "    </tr>\n",
       "    <tr>\n",
       "      <th>0</th>\n",
       "      <th>log_1_action_purchase</th>\n",
       "      <th>ACT</th>\n",
       "      <th>PURCHASE</th>\n",
       "      <th>DAILY</th>\n",
       "      <th>1</th>\n",
       "      <td>0</td>\n",
       "      <td>494</td>\n",
       "    </tr>\n",
       "    <tr>\n",
       "      <th>6</th>\n",
       "      <th>log_1_action_social</th>\n",
       "      <th>ACT</th>\n",
       "      <th>SOCIAL</th>\n",
       "      <th>DAILY</th>\n",
       "      <th>1</th>\n",
       "      <td>0</td>\n",
       "      <td>108</td>\n",
       "    </tr>\n",
       "    <tr>\n",
       "      <th>34</th>\n",
       "      <th>log_1_action_water</th>\n",
       "      <th>ACT</th>\n",
       "      <th>WATER</th>\n",
       "      <th>DAILY</th>\n",
       "      <th>1</th>\n",
       "      <td>0</td>\n",
       "      <td>184</td>\n",
       "    </tr>\n",
       "    <tr>\n",
       "      <th>35</th>\n",
       "      <th>log_2_action_water</th>\n",
       "      <th>ACT</th>\n",
       "      <th>WATER</th>\n",
       "      <th>DAILY</th>\n",
       "      <th>2</th>\n",
       "      <td>11</td>\n",
       "      <td>293</td>\n",
       "    </tr>\n",
       "    <tr>\n",
       "      <th>3</th>\n",
       "      <th>do_checkin</th>\n",
       "      <th>CHECKIN</th>\n",
       "      <th>CHECKIN</th>\n",
       "      <th>DAILY</th>\n",
       "      <th>1</th>\n",
       "      <td>0</td>\n",
       "      <td>169</td>\n",
       "    </tr>\n",
       "    <tr>\n",
       "      <th>5</th>\n",
       "      <th>do_checkin</th>\n",
       "      <th>CHECKIN</th>\n",
       "      <th>CHECKIN</th>\n",
       "      <th>DAILY</th>\n",
       "      <th>1</th>\n",
       "      <td>0</td>\n",
       "      <td>152</td>\n",
       "    </tr>\n",
       "    <tr>\n",
       "      <th>10</th>\n",
       "      <th>do_checkin</th>\n",
       "      <th>CHECKIN</th>\n",
       "      <th>CHECKIN</th>\n",
       "      <th>DAILY</th>\n",
       "      <th>1</th>\n",
       "      <td>0</td>\n",
       "      <td>212</td>\n",
       "    </tr>\n",
       "    <tr>\n",
       "      <th>12</th>\n",
       "      <th>do_checkin</th>\n",
       "      <th>CHECKIN</th>\n",
       "      <th>CHECKIN</th>\n",
       "      <th>DAILY</th>\n",
       "      <th>1</th>\n",
       "      <td>0</td>\n",
       "      <td>215</td>\n",
       "    </tr>\n",
       "    <tr>\n",
       "      <th>15</th>\n",
       "      <th>do_checkin</th>\n",
       "      <th>CHECKIN</th>\n",
       "      <th>CHECKIN</th>\n",
       "      <th>DAILY</th>\n",
       "      <th>1</th>\n",
       "      <td>0</td>\n",
       "      <td>112</td>\n",
       "    </tr>\n",
       "    <tr>\n",
       "      <th>17</th>\n",
       "      <th>do_checkin</th>\n",
       "      <th>CHECKIN</th>\n",
       "      <th>CHECKIN</th>\n",
       "      <th>DAILY</th>\n",
       "      <th>1</th>\n",
       "      <td>0</td>\n",
       "      <td>221</td>\n",
       "    </tr>\n",
       "    <tr>\n",
       "      <th>20</th>\n",
       "      <th>do_checkin</th>\n",
       "      <th>CHECKIN</th>\n",
       "      <th>CHECKIN</th>\n",
       "      <th>DAILY</th>\n",
       "      <th>1</th>\n",
       "      <td>0</td>\n",
       "      <td>158</td>\n",
       "    </tr>\n",
       "    <tr>\n",
       "      <th>22</th>\n",
       "      <th>do_checkin</th>\n",
       "      <th>CHECKIN</th>\n",
       "      <th>CHECKIN</th>\n",
       "      <th>DAILY</th>\n",
       "      <th>1</th>\n",
       "      <td>0</td>\n",
       "      <td>76</td>\n",
       "    </tr>\n",
       "    <tr>\n",
       "      <th>23</th>\n",
       "      <th>do_checkin</th>\n",
       "      <th>CHECKIN</th>\n",
       "      <th>CHECKIN</th>\n",
       "      <th>DAILY</th>\n",
       "      <th>1</th>\n",
       "      <td>0</td>\n",
       "      <td>137</td>\n",
       "    </tr>\n",
       "    <tr>\n",
       "      <th>32</th>\n",
       "      <th>do_checkin</th>\n",
       "      <th>CHECKIN</th>\n",
       "      <th>CHECKIN</th>\n",
       "      <th>DAILY</th>\n",
       "      <th>1</th>\n",
       "      <td>0</td>\n",
       "      <td>178</td>\n",
       "    </tr>\n",
       "    <tr>\n",
       "      <th>28</th>\n",
       "      <th>watch_the_daily_episode</th>\n",
       "      <th>LEARN</th>\n",
       "      <th>DAILYEPISODE</th>\n",
       "      <th>DAILY</th>\n",
       "      <th>1</th>\n",
       "      <td>0</td>\n",
       "      <td>4927</td>\n",
       "    </tr>\n",
       "    <tr>\n",
       "      <th>4</th>\n",
       "      <th>watch_the_daily_episode_2</th>\n",
       "      <th>LEARN</th>\n",
       "      <th>DAILYEPISODE</th>\n",
       "      <th>WEEKLY</th>\n",
       "      <th>2</th>\n",
       "      <td>376</td>\n",
       "      <td>72</td>\n",
       "    </tr>\n",
       "    <tr>\n",
       "      <th>19</th>\n",
       "      <th>watch_the_daily_episode_3</th>\n",
       "      <th>LEARN</th>\n",
       "      <th>DAILYEPISODE</th>\n",
       "      <th>WEEKLY</th>\n",
       "      <th>3</th>\n",
       "      <td>294</td>\n",
       "      <td>73</td>\n",
       "    </tr>\n",
       "    <tr>\n",
       "      <th>27</th>\n",
       "      <th>watch_the_daily_episode_3_consecutive</th>\n",
       "      <th>LEARN</th>\n",
       "      <th>DAILYEPISODE</th>\n",
       "      <th>WEEKLY</th>\n",
       "      <th>3</th>\n",
       "      <td>954</td>\n",
       "      <td>106</td>\n",
       "    </tr>\n",
       "    <tr>\n",
       "      <th>16</th>\n",
       "      <th>complete_journey</th>\n",
       "      <th>LEARN</th>\n",
       "      <th>JOURNEY</th>\n",
       "      <th>CUSTOM</th>\n",
       "      <th>1</th>\n",
       "      <td>0</td>\n",
       "      <td>997</td>\n",
       "    </tr>\n",
       "    <tr>\n",
       "      <th>14</th>\n",
       "      <th>calculate_carbon_footprint</th>\n",
       "      <th>MEASURE</th>\n",
       "      <th>TYPEFORM_BASE</th>\n",
       "      <th>CUSTOM</th>\n",
       "      <th>1</th>\n",
       "      <td>0</td>\n",
       "      <td>2003</td>\n",
       "    </tr>\n",
       "    <tr>\n",
       "      <th>1</th>\n",
       "      <th>fill_survey</th>\n",
       "      <th>SURVEY</th>\n",
       "      <th>SURVEY</th>\n",
       "      <th>WEEKLY</th>\n",
       "      <th>1</th>\n",
       "      <td>0</td>\n",
       "      <td>1338</td>\n",
       "    </tr>\n",
       "    <tr>\n",
       "      <th>9</th>\n",
       "      <th>fill_survey</th>\n",
       "      <th>SURVEY</th>\n",
       "      <th>SURVEY</th>\n",
       "      <th>WEEKLY</th>\n",
       "      <th>1</th>\n",
       "      <td>0</td>\n",
       "      <td>997</td>\n",
       "    </tr>\n",
       "    <tr>\n",
       "      <th>30</th>\n",
       "      <th>ticket</th>\n",
       "      <th>TICKET</th>\n",
       "      <th>TICKET</th>\n",
       "      <th>CUSTOM</th>\n",
       "      <th>1</th>\n",
       "      <td>0</td>\n",
       "      <td>23232</td>\n",
       "    </tr>\n",
       "  </tbody>\n",
       "</table>\n",
       "</div>"
      ],
      "text/plain": [
       "satisfied                                                                                 False  \\\n",
       "missionId title                                 missionType missionSubType period target          \n",
       "8         log_1_action                          ACT         ALL            DAILY  1           0   \n",
       "24        log_2_action                          ACT         ALL            DAILY  2         113   \n",
       "18        log_3_action                          ACT         ALL            DAILY  3         115   \n",
       "33        log_2_action2_consecutive             ACT         ALL            WEEKLY 2        1425   \n",
       "25        log_1_action_energy                   ACT         ENERGY         DAILY  1           0   \n",
       "21        log_2_action_energy                   ACT         ENERGY         DAILY  2          48   \n",
       "26        log_1_action_environment              ACT         ENVIRONMENT    DAILY  1           0   \n",
       "11        log_1_action_vegetarian               ACT         FIXED          DAILY  1           0   \n",
       "31        log_action_take5minutesshower         ACT         FIXED          DAILY  1           0   \n",
       "29        log_2_action_vegetarian               ACT         FIXED          WEEKLY 2         134   \n",
       "2         log_1_action_food                     ACT         FOOD           DAILY  1           0   \n",
       "13        log_1_action_food                     ACT         FOOD           DAILY  1           0   \n",
       "7         log_2_action_mobility                 ACT         MOBILITY       WEEKLY 2          61   \n",
       "0         log_1_action_purchase                 ACT         PURCHASE       DAILY  1           0   \n",
       "6         log_1_action_social                   ACT         SOCIAL         DAILY  1           0   \n",
       "34        log_1_action_water                    ACT         WATER          DAILY  1           0   \n",
       "35        log_2_action_water                    ACT         WATER          DAILY  2          11   \n",
       "3         do_checkin                            CHECKIN     CHECKIN        DAILY  1           0   \n",
       "5         do_checkin                            CHECKIN     CHECKIN        DAILY  1           0   \n",
       "10        do_checkin                            CHECKIN     CHECKIN        DAILY  1           0   \n",
       "12        do_checkin                            CHECKIN     CHECKIN        DAILY  1           0   \n",
       "15        do_checkin                            CHECKIN     CHECKIN        DAILY  1           0   \n",
       "17        do_checkin                            CHECKIN     CHECKIN        DAILY  1           0   \n",
       "20        do_checkin                            CHECKIN     CHECKIN        DAILY  1           0   \n",
       "22        do_checkin                            CHECKIN     CHECKIN        DAILY  1           0   \n",
       "23        do_checkin                            CHECKIN     CHECKIN        DAILY  1           0   \n",
       "32        do_checkin                            CHECKIN     CHECKIN        DAILY  1           0   \n",
       "28        watch_the_daily_episode               LEARN       DAILYEPISODE   DAILY  1           0   \n",
       "4         watch_the_daily_episode_2             LEARN       DAILYEPISODE   WEEKLY 2         376   \n",
       "19        watch_the_daily_episode_3             LEARN       DAILYEPISODE   WEEKLY 3         294   \n",
       "27        watch_the_daily_episode_3_consecutive LEARN       DAILYEPISODE   WEEKLY 3         954   \n",
       "16        complete_journey                      LEARN       JOURNEY        CUSTOM 1           0   \n",
       "14        calculate_carbon_footprint            MEASURE     TYPEFORM_BASE  CUSTOM 1           0   \n",
       "1         fill_survey                           SURVEY      SURVEY         WEEKLY 1           0   \n",
       "9         fill_survey                           SURVEY      SURVEY         WEEKLY 1           0   \n",
       "30        ticket                                TICKET      TICKET         CUSTOM 1           0   \n",
       "\n",
       "satisfied                                                                                 True   \n",
       "missionId title                                 missionType missionSubType period target         \n",
       "8         log_1_action                          ACT         ALL            DAILY  1         636  \n",
       "24        log_2_action                          ACT         ALL            DAILY  2        1087  \n",
       "18        log_3_action                          ACT         ALL            DAILY  3         517  \n",
       "33        log_2_action2_consecutive             ACT         ALL            WEEKLY 2         190  \n",
       "25        log_1_action_energy                   ACT         ENERGY         DAILY  1         101  \n",
       "21        log_2_action_energy                   ACT         ENERGY         DAILY  2         814  \n",
       "26        log_1_action_environment              ACT         ENVIRONMENT    DAILY  1         554  \n",
       "11        log_1_action_vegetarian               ACT         FIXED          DAILY  1          98  \n",
       "31        log_action_take5minutesshower         ACT         FIXED          DAILY  1         101  \n",
       "29        log_2_action_vegetarian               ACT         FIXED          WEEKLY 2         225  \n",
       "2         log_1_action_food                     ACT         FOOD           DAILY  1         383  \n",
       "13        log_1_action_food                     ACT         FOOD           DAILY  1         119  \n",
       "7         log_2_action_mobility                 ACT         MOBILITY       WEEKLY 2         310  \n",
       "0         log_1_action_purchase                 ACT         PURCHASE       DAILY  1         494  \n",
       "6         log_1_action_social                   ACT         SOCIAL         DAILY  1         108  \n",
       "34        log_1_action_water                    ACT         WATER          DAILY  1         184  \n",
       "35        log_2_action_water                    ACT         WATER          DAILY  2         293  \n",
       "3         do_checkin                            CHECKIN     CHECKIN        DAILY  1         169  \n",
       "5         do_checkin                            CHECKIN     CHECKIN        DAILY  1         152  \n",
       "10        do_checkin                            CHECKIN     CHECKIN        DAILY  1         212  \n",
       "12        do_checkin                            CHECKIN     CHECKIN        DAILY  1         215  \n",
       "15        do_checkin                            CHECKIN     CHECKIN        DAILY  1         112  \n",
       "17        do_checkin                            CHECKIN     CHECKIN        DAILY  1         221  \n",
       "20        do_checkin                            CHECKIN     CHECKIN        DAILY  1         158  \n",
       "22        do_checkin                            CHECKIN     CHECKIN        DAILY  1          76  \n",
       "23        do_checkin                            CHECKIN     CHECKIN        DAILY  1         137  \n",
       "32        do_checkin                            CHECKIN     CHECKIN        DAILY  1         178  \n",
       "28        watch_the_daily_episode               LEARN       DAILYEPISODE   DAILY  1        4927  \n",
       "4         watch_the_daily_episode_2             LEARN       DAILYEPISODE   WEEKLY 2          72  \n",
       "19        watch_the_daily_episode_3             LEARN       DAILYEPISODE   WEEKLY 3          73  \n",
       "27        watch_the_daily_episode_3_consecutive LEARN       DAILYEPISODE   WEEKLY 3         106  \n",
       "16        complete_journey                      LEARN       JOURNEY        CUSTOM 1         997  \n",
       "14        calculate_carbon_footprint            MEASURE     TYPEFORM_BASE  CUSTOM 1        2003  \n",
       "1         fill_survey                           SURVEY      SURVEY         WEEKLY 1        1338  \n",
       "9         fill_survey                           SURVEY      SURVEY         WEEKLY 1         997  \n",
       "30        ticket                                TICKET      TICKET         CUSTOM 1       23232  "
      ]
     },
     "execution_count": 3,
     "metadata": {},
     "output_type": "execute_result"
    }
   ],
   "source": [
    "summary = df.groupby(['missionId', 'title', 'missionType', 'missionSubType', 'period', 'target', 'satisfied'], observed=True).size().unstack(fill_value=0)\n",
    "summary.sort_index(level=[2, 3, 4, 5], inplace=True)\n",
    "\n",
    "summary"
   ]
  },
  {
   "cell_type": "code",
   "execution_count": 4,
   "metadata": {},
   "outputs": [
    {
     "data": {
      "text/plain": [
       "user           23233\n",
       "missionId         36\n",
       "performance       33\n",
       "dtype: int64"
      ]
     },
     "metadata": {},
     "output_type": "display_data"
    },
    {
     "data": {
      "text/plain": [
       "user         3298\n",
       "missionId      36\n",
       "satisfied       2\n",
       "dtype: int64"
      ]
     },
     "metadata": {},
     "output_type": "display_data"
    },
    {
     "name": "stdout",
     "output_type": "stream",
     "text": [
      "(37300, 3) (4476, 3)\n"
     ]
    }
   ],
   "source": [
    "dataset = df[['user', 'missionId', 'performance', 'satisfied']] \\\n",
    "    .drop_duplicates(subset=['user', 'missionId'], keep='last')\n",
    "\n",
    "train_dataset = dataset.groupby('user').sample(frac=0.8, random_state=0).drop(columns=['satisfied'])\n",
    "\n",
    "test_dataset = dataset.drop(train_dataset.index).drop(columns=['performance'])\n",
    "test_dataset['satisfied'] = test_dataset['satisfied'].astype(int)\n",
    "\n",
    "display(train_dataset.nunique())\n",
    "display(test_dataset.nunique())\n",
    "\n",
    "print(train_dataset.shape, test_dataset.shape)"
   ]
  },
  {
   "cell_type": "code",
   "execution_count": 5,
   "metadata": {},
   "outputs": [
    {
     "data": {
      "text/html": [
       "<div>\n",
       "<style scoped>\n",
       "    .dataframe tbody tr th:only-of-type {\n",
       "        vertical-align: middle;\n",
       "    }\n",
       "\n",
       "    .dataframe tbody tr th {\n",
       "        vertical-align: top;\n",
       "    }\n",
       "\n",
       "    .dataframe thead th {\n",
       "        text-align: right;\n",
       "    }\n",
       "</style>\n",
       "<table border=\"1\" class=\"dataframe\">\n",
       "  <thead>\n",
       "    <tr style=\"text-align: right;\">\n",
       "      <th>missionId</th>\n",
       "      <th>0</th>\n",
       "      <th>1</th>\n",
       "      <th>2</th>\n",
       "      <th>3</th>\n",
       "      <th>4</th>\n",
       "      <th>5</th>\n",
       "      <th>6</th>\n",
       "      <th>7</th>\n",
       "      <th>8</th>\n",
       "      <th>9</th>\n",
       "      <th>...</th>\n",
       "      <th>26</th>\n",
       "      <th>27</th>\n",
       "      <th>28</th>\n",
       "      <th>29</th>\n",
       "      <th>30</th>\n",
       "      <th>31</th>\n",
       "      <th>32</th>\n",
       "      <th>33</th>\n",
       "      <th>34</th>\n",
       "      <th>35</th>\n",
       "    </tr>\n",
       "    <tr>\n",
       "      <th>user</th>\n",
       "      <th></th>\n",
       "      <th></th>\n",
       "      <th></th>\n",
       "      <th></th>\n",
       "      <th></th>\n",
       "      <th></th>\n",
       "      <th></th>\n",
       "      <th></th>\n",
       "      <th></th>\n",
       "      <th></th>\n",
       "      <th></th>\n",
       "      <th></th>\n",
       "      <th></th>\n",
       "      <th></th>\n",
       "      <th></th>\n",
       "      <th></th>\n",
       "      <th></th>\n",
       "      <th></th>\n",
       "      <th></th>\n",
       "      <th></th>\n",
       "      <th></th>\n",
       "    </tr>\n",
       "  </thead>\n",
       "  <tbody>\n",
       "    <tr>\n",
       "      <th>0</th>\n",
       "      <td>0.0</td>\n",
       "      <td>0.0</td>\n",
       "      <td>0.0</td>\n",
       "      <td>0.0</td>\n",
       "      <td>0.0</td>\n",
       "      <td>0.0</td>\n",
       "      <td>0.0</td>\n",
       "      <td>0.0</td>\n",
       "      <td>0.0</td>\n",
       "      <td>1.0</td>\n",
       "      <td>...</td>\n",
       "      <td>0.0</td>\n",
       "      <td>0.333333</td>\n",
       "      <td>1.0</td>\n",
       "      <td>0.0</td>\n",
       "      <td>1.0</td>\n",
       "      <td>0.0</td>\n",
       "      <td>0.0</td>\n",
       "      <td>0.5</td>\n",
       "      <td>0.0</td>\n",
       "      <td>0.0</td>\n",
       "    </tr>\n",
       "    <tr>\n",
       "      <th>1</th>\n",
       "      <td>0.0</td>\n",
       "      <td>0.0</td>\n",
       "      <td>0.0</td>\n",
       "      <td>0.0</td>\n",
       "      <td>0.0</td>\n",
       "      <td>0.0</td>\n",
       "      <td>0.0</td>\n",
       "      <td>0.0</td>\n",
       "      <td>0.0</td>\n",
       "      <td>0.0</td>\n",
       "      <td>...</td>\n",
       "      <td>0.0</td>\n",
       "      <td>0.000000</td>\n",
       "      <td>0.0</td>\n",
       "      <td>0.0</td>\n",
       "      <td>1.0</td>\n",
       "      <td>0.0</td>\n",
       "      <td>0.0</td>\n",
       "      <td>0.0</td>\n",
       "      <td>0.0</td>\n",
       "      <td>0.0</td>\n",
       "    </tr>\n",
       "    <tr>\n",
       "      <th>2</th>\n",
       "      <td>0.0</td>\n",
       "      <td>0.0</td>\n",
       "      <td>0.0</td>\n",
       "      <td>0.0</td>\n",
       "      <td>0.0</td>\n",
       "      <td>0.0</td>\n",
       "      <td>0.0</td>\n",
       "      <td>0.0</td>\n",
       "      <td>0.0</td>\n",
       "      <td>0.0</td>\n",
       "      <td>...</td>\n",
       "      <td>0.0</td>\n",
       "      <td>0.000000</td>\n",
       "      <td>0.0</td>\n",
       "      <td>0.0</td>\n",
       "      <td>1.0</td>\n",
       "      <td>0.0</td>\n",
       "      <td>0.0</td>\n",
       "      <td>0.0</td>\n",
       "      <td>0.0</td>\n",
       "      <td>0.0</td>\n",
       "    </tr>\n",
       "    <tr>\n",
       "      <th>3</th>\n",
       "      <td>0.0</td>\n",
       "      <td>0.0</td>\n",
       "      <td>0.0</td>\n",
       "      <td>0.0</td>\n",
       "      <td>0.0</td>\n",
       "      <td>0.0</td>\n",
       "      <td>0.0</td>\n",
       "      <td>0.0</td>\n",
       "      <td>0.0</td>\n",
       "      <td>0.0</td>\n",
       "      <td>...</td>\n",
       "      <td>0.0</td>\n",
       "      <td>0.000000</td>\n",
       "      <td>0.0</td>\n",
       "      <td>0.0</td>\n",
       "      <td>1.0</td>\n",
       "      <td>0.0</td>\n",
       "      <td>0.0</td>\n",
       "      <td>0.0</td>\n",
       "      <td>0.0</td>\n",
       "      <td>0.0</td>\n",
       "    </tr>\n",
       "    <tr>\n",
       "      <th>4</th>\n",
       "      <td>0.0</td>\n",
       "      <td>0.0</td>\n",
       "      <td>0.0</td>\n",
       "      <td>0.0</td>\n",
       "      <td>0.0</td>\n",
       "      <td>0.0</td>\n",
       "      <td>0.0</td>\n",
       "      <td>0.0</td>\n",
       "      <td>0.0</td>\n",
       "      <td>0.0</td>\n",
       "      <td>...</td>\n",
       "      <td>0.0</td>\n",
       "      <td>0.000000</td>\n",
       "      <td>0.0</td>\n",
       "      <td>0.0</td>\n",
       "      <td>1.0</td>\n",
       "      <td>0.0</td>\n",
       "      <td>0.0</td>\n",
       "      <td>0.0</td>\n",
       "      <td>0.0</td>\n",
       "      <td>0.0</td>\n",
       "    </tr>\n",
       "    <tr>\n",
       "      <th>...</th>\n",
       "      <td>...</td>\n",
       "      <td>...</td>\n",
       "      <td>...</td>\n",
       "      <td>...</td>\n",
       "      <td>...</td>\n",
       "      <td>...</td>\n",
       "      <td>...</td>\n",
       "      <td>...</td>\n",
       "      <td>...</td>\n",
       "      <td>...</td>\n",
       "      <td>...</td>\n",
       "      <td>...</td>\n",
       "      <td>...</td>\n",
       "      <td>...</td>\n",
       "      <td>...</td>\n",
       "      <td>...</td>\n",
       "      <td>...</td>\n",
       "      <td>...</td>\n",
       "      <td>...</td>\n",
       "      <td>...</td>\n",
       "      <td>...</td>\n",
       "    </tr>\n",
       "    <tr>\n",
       "      <th>23228</th>\n",
       "      <td>0.0</td>\n",
       "      <td>0.0</td>\n",
       "      <td>0.0</td>\n",
       "      <td>0.0</td>\n",
       "      <td>0.0</td>\n",
       "      <td>0.0</td>\n",
       "      <td>0.0</td>\n",
       "      <td>0.0</td>\n",
       "      <td>0.0</td>\n",
       "      <td>0.0</td>\n",
       "      <td>...</td>\n",
       "      <td>0.0</td>\n",
       "      <td>0.000000</td>\n",
       "      <td>0.0</td>\n",
       "      <td>0.0</td>\n",
       "      <td>1.0</td>\n",
       "      <td>0.0</td>\n",
       "      <td>0.0</td>\n",
       "      <td>0.0</td>\n",
       "      <td>0.0</td>\n",
       "      <td>0.0</td>\n",
       "    </tr>\n",
       "    <tr>\n",
       "      <th>23229</th>\n",
       "      <td>0.0</td>\n",
       "      <td>0.0</td>\n",
       "      <td>0.0</td>\n",
       "      <td>0.0</td>\n",
       "      <td>0.0</td>\n",
       "      <td>0.0</td>\n",
       "      <td>0.0</td>\n",
       "      <td>0.0</td>\n",
       "      <td>0.0</td>\n",
       "      <td>0.0</td>\n",
       "      <td>...</td>\n",
       "      <td>0.0</td>\n",
       "      <td>0.000000</td>\n",
       "      <td>0.0</td>\n",
       "      <td>0.0</td>\n",
       "      <td>1.0</td>\n",
       "      <td>0.0</td>\n",
       "      <td>0.0</td>\n",
       "      <td>0.0</td>\n",
       "      <td>0.0</td>\n",
       "      <td>0.0</td>\n",
       "    </tr>\n",
       "    <tr>\n",
       "      <th>23230</th>\n",
       "      <td>0.0</td>\n",
       "      <td>0.0</td>\n",
       "      <td>0.0</td>\n",
       "      <td>0.0</td>\n",
       "      <td>0.0</td>\n",
       "      <td>0.0</td>\n",
       "      <td>0.0</td>\n",
       "      <td>0.0</td>\n",
       "      <td>0.0</td>\n",
       "      <td>0.0</td>\n",
       "      <td>...</td>\n",
       "      <td>0.0</td>\n",
       "      <td>0.000000</td>\n",
       "      <td>0.0</td>\n",
       "      <td>0.0</td>\n",
       "      <td>1.0</td>\n",
       "      <td>0.0</td>\n",
       "      <td>0.0</td>\n",
       "      <td>0.0</td>\n",
       "      <td>0.0</td>\n",
       "      <td>0.0</td>\n",
       "    </tr>\n",
       "    <tr>\n",
       "      <th>23231</th>\n",
       "      <td>0.0</td>\n",
       "      <td>0.0</td>\n",
       "      <td>0.0</td>\n",
       "      <td>0.0</td>\n",
       "      <td>0.0</td>\n",
       "      <td>0.0</td>\n",
       "      <td>0.0</td>\n",
       "      <td>0.0</td>\n",
       "      <td>1.0</td>\n",
       "      <td>0.0</td>\n",
       "      <td>...</td>\n",
       "      <td>0.0</td>\n",
       "      <td>0.000000</td>\n",
       "      <td>0.0</td>\n",
       "      <td>0.0</td>\n",
       "      <td>1.0</td>\n",
       "      <td>0.0</td>\n",
       "      <td>0.0</td>\n",
       "      <td>0.0</td>\n",
       "      <td>0.0</td>\n",
       "      <td>0.0</td>\n",
       "    </tr>\n",
       "    <tr>\n",
       "      <th>23232</th>\n",
       "      <td>0.0</td>\n",
       "      <td>0.0</td>\n",
       "      <td>0.0</td>\n",
       "      <td>0.0</td>\n",
       "      <td>0.0</td>\n",
       "      <td>0.0</td>\n",
       "      <td>0.0</td>\n",
       "      <td>0.0</td>\n",
       "      <td>0.0</td>\n",
       "      <td>0.0</td>\n",
       "      <td>...</td>\n",
       "      <td>0.0</td>\n",
       "      <td>0.000000</td>\n",
       "      <td>0.0</td>\n",
       "      <td>0.0</td>\n",
       "      <td>1.0</td>\n",
       "      <td>0.0</td>\n",
       "      <td>0.0</td>\n",
       "      <td>0.0</td>\n",
       "      <td>0.0</td>\n",
       "      <td>0.0</td>\n",
       "    </tr>\n",
       "  </tbody>\n",
       "</table>\n",
       "<p>23233 rows × 36 columns</p>\n",
       "</div>"
      ],
      "text/plain": [
       "missionId   0    1    2    3    4    5    6    7    8    9   ...   26  \\\n",
       "user                                                         ...        \n",
       "0          0.0  0.0  0.0  0.0  0.0  0.0  0.0  0.0  0.0  1.0  ...  0.0   \n",
       "1          0.0  0.0  0.0  0.0  0.0  0.0  0.0  0.0  0.0  0.0  ...  0.0   \n",
       "2          0.0  0.0  0.0  0.0  0.0  0.0  0.0  0.0  0.0  0.0  ...  0.0   \n",
       "3          0.0  0.0  0.0  0.0  0.0  0.0  0.0  0.0  0.0  0.0  ...  0.0   \n",
       "4          0.0  0.0  0.0  0.0  0.0  0.0  0.0  0.0  0.0  0.0  ...  0.0   \n",
       "...        ...  ...  ...  ...  ...  ...  ...  ...  ...  ...  ...  ...   \n",
       "23228      0.0  0.0  0.0  0.0  0.0  0.0  0.0  0.0  0.0  0.0  ...  0.0   \n",
       "23229      0.0  0.0  0.0  0.0  0.0  0.0  0.0  0.0  0.0  0.0  ...  0.0   \n",
       "23230      0.0  0.0  0.0  0.0  0.0  0.0  0.0  0.0  0.0  0.0  ...  0.0   \n",
       "23231      0.0  0.0  0.0  0.0  0.0  0.0  0.0  0.0  1.0  0.0  ...  0.0   \n",
       "23232      0.0  0.0  0.0  0.0  0.0  0.0  0.0  0.0  0.0  0.0  ...  0.0   \n",
       "\n",
       "missionId        27   28   29   30   31   32   33   34   35  \n",
       "user                                                         \n",
       "0          0.333333  1.0  0.0  1.0  0.0  0.0  0.5  0.0  0.0  \n",
       "1          0.000000  0.0  0.0  1.0  0.0  0.0  0.0  0.0  0.0  \n",
       "2          0.000000  0.0  0.0  1.0  0.0  0.0  0.0  0.0  0.0  \n",
       "3          0.000000  0.0  0.0  1.0  0.0  0.0  0.0  0.0  0.0  \n",
       "4          0.000000  0.0  0.0  1.0  0.0  0.0  0.0  0.0  0.0  \n",
       "...             ...  ...  ...  ...  ...  ...  ...  ...  ...  \n",
       "23228      0.000000  0.0  0.0  1.0  0.0  0.0  0.0  0.0  0.0  \n",
       "23229      0.000000  0.0  0.0  1.0  0.0  0.0  0.0  0.0  0.0  \n",
       "23230      0.000000  0.0  0.0  1.0  0.0  0.0  0.0  0.0  0.0  \n",
       "23231      0.000000  0.0  0.0  1.0  0.0  0.0  0.0  0.0  0.0  \n",
       "23232      0.000000  0.0  0.0  1.0  0.0  0.0  0.0  0.0  0.0  \n",
       "\n",
       "[23233 rows x 36 columns]"
      ]
     },
     "execution_count": 5,
     "metadata": {},
     "output_type": "execute_result"
    }
   ],
   "source": [
    "user_missions_matrix = train_dataset \\\n",
    "    .pivot(index='user', columns='missionId', values='performance').fillna(0)\n",
    "\n",
    "user_missions_matrix"
   ]
  },
  {
   "cell_type": "code",
   "execution_count": 6,
   "metadata": {},
   "outputs": [
    {
     "name": "stderr",
     "output_type": "stream",
     "text": [
      "100%|██████████| 23233/23233 [00:52<00:00, 444.37it/s]\n"
     ]
    },
    {
     "data": {
      "text/html": [
       "<div>\n",
       "<style scoped>\n",
       "    .dataframe tbody tr th:only-of-type {\n",
       "        vertical-align: middle;\n",
       "    }\n",
       "\n",
       "    .dataframe tbody tr th {\n",
       "        vertical-align: top;\n",
       "    }\n",
       "\n",
       "    .dataframe thead th {\n",
       "        text-align: right;\n",
       "    }\n",
       "</style>\n",
       "<table border=\"1\" class=\"dataframe\">\n",
       "  <thead>\n",
       "    <tr style=\"text-align: right;\">\n",
       "      <th></th>\n",
       "      <th>user</th>\n",
       "      <th>positive</th>\n",
       "      <th>negative</th>\n",
       "    </tr>\n",
       "  </thead>\n",
       "  <tbody>\n",
       "    <tr>\n",
       "      <th>0</th>\n",
       "      <td>0</td>\n",
       "      <td>30</td>\n",
       "      <td>7</td>\n",
       "    </tr>\n",
       "    <tr>\n",
       "      <th>1</th>\n",
       "      <td>0</td>\n",
       "      <td>18</td>\n",
       "      <td>3</td>\n",
       "    </tr>\n",
       "    <tr>\n",
       "      <th>2</th>\n",
       "      <td>0</td>\n",
       "      <td>27</td>\n",
       "      <td>26</td>\n",
       "    </tr>\n",
       "    <tr>\n",
       "      <th>3</th>\n",
       "      <td>0</td>\n",
       "      <td>28</td>\n",
       "      <td>8</td>\n",
       "    </tr>\n",
       "    <tr>\n",
       "      <th>4</th>\n",
       "      <td>0</td>\n",
       "      <td>21</td>\n",
       "      <td>1</td>\n",
       "    </tr>\n",
       "    <tr>\n",
       "      <th>...</th>\n",
       "      <td>...</td>\n",
       "      <td>...</td>\n",
       "      <td>...</td>\n",
       "    </tr>\n",
       "    <tr>\n",
       "      <th>36982</th>\n",
       "      <td>23229</td>\n",
       "      <td>30</td>\n",
       "      <td>19</td>\n",
       "    </tr>\n",
       "    <tr>\n",
       "      <th>36983</th>\n",
       "      <td>23230</td>\n",
       "      <td>30</td>\n",
       "      <td>27</td>\n",
       "    </tr>\n",
       "    <tr>\n",
       "      <th>36984</th>\n",
       "      <td>23231</td>\n",
       "      <td>30</td>\n",
       "      <td>33</td>\n",
       "    </tr>\n",
       "    <tr>\n",
       "      <th>36985</th>\n",
       "      <td>23231</td>\n",
       "      <td>8</td>\n",
       "      <td>1</td>\n",
       "    </tr>\n",
       "    <tr>\n",
       "      <th>36986</th>\n",
       "      <td>23232</td>\n",
       "      <td>30</td>\n",
       "      <td>28</td>\n",
       "    </tr>\n",
       "  </tbody>\n",
       "</table>\n",
       "<p>36987 rows × 3 columns</p>\n",
       "</div>"
      ],
      "text/plain": [
       "        user  positive  negative\n",
       "0          0        30         7\n",
       "1          0        18         3\n",
       "2          0        27        26\n",
       "3          0        28         8\n",
       "4          0        21         1\n",
       "...      ...       ...       ...\n",
       "36982  23229        30        19\n",
       "36983  23230        30        27\n",
       "36984  23231        30        33\n",
       "36985  23231         8         1\n",
       "36986  23232        30        28\n",
       "\n",
       "[36987 rows x 3 columns]"
      ]
     },
     "execution_count": 6,
     "metadata": {},
     "output_type": "execute_result"
    }
   ],
   "source": [
    "import random\n",
    "from tqdm import tqdm\n",
    "\n",
    "random.seed(42)\n",
    "\n",
    "data = []\n",
    "for i, row in tqdm(user_missions_matrix.iterrows(), total=user_missions_matrix.shape[0]):\n",
    "    couples = set()\n",
    "\n",
    "    for pos_idx in row.index:\n",
    "        positive = row[pos_idx]\n",
    "\n",
    "        neg_idx = row[row < positive].index\n",
    "        if len(neg_idx) == 0:\n",
    "            continue\n",
    "        \n",
    "        neg_idx = random.choice(neg_idx)\n",
    "\n",
    "        couples.add((i, pos_idx, neg_idx))\n",
    "\n",
    "    data.extend(couples)\n",
    "\n",
    "data = pd.DataFrame(data, columns=['user', 'positive', 'negative'])\n",
    "\n",
    "data"
   ]
  },
  {
   "cell_type": "code",
   "execution_count": 7,
   "metadata": {},
   "outputs": [
    {
     "name": "stdout",
     "output_type": "stream",
     "text": [
      "cuda\n"
     ]
    }
   ],
   "source": [
    "import torch\n",
    "import torch.nn as nn\n",
    "import torch.optim as optim\n",
    "from torch.utils.data import DataLoader, Dataset\n",
    "from tqdm.auto import tqdm\n",
    "\n",
    "torch.manual_seed(42)\n",
    "DEVICE = torch.device('cuda' if torch.cuda.is_available() else 'cpu')\n",
    "print(DEVICE)\n",
    "\n",
    "class NeuMF(nn.Module):\n",
    "    def __init__(self, num_factors, num_users, num_items, hiddens, **kwargs) -> None:\n",
    "        super().__init__(**kwargs)\n",
    "\n",
    "        self.P = nn.Embedding(num_users, num_factors)\n",
    "        self.Q = nn.Embedding(num_items, num_factors)\n",
    "\n",
    "        self.U = nn.Embedding(num_users, num_factors)\n",
    "        self.V = nn.Embedding(num_items, num_factors)\n",
    "\n",
    "        self.mlp = nn.Sequential()\n",
    "        for h in hiddens:\n",
    "            self.mlp.add_module('linear', nn.LazyLinear(h))\n",
    "            self.mlp.add_module('relu', nn.ReLU())\n",
    "        \n",
    "        self.prediction = nn.LazyLinear(1, bias=False)\n",
    "        self.output = nn.Sigmoid()\n",
    "\n",
    "    def forward(self, user_id, item_id):\n",
    "        p_mf = self.P(user_id)\n",
    "        q_mf = self.Q(item_id)\n",
    "        gmf = p_mf * q_mf\n",
    "\n",
    "        p_mlp = self.U(user_id)\n",
    "        q_mlp = self.V(item_id)\n",
    "        mlp = self.mlp(torch.cat([p_mlp, q_mlp], dim=1))\n",
    "\n",
    "        con_res = torch.cat([gmf, mlp], dim=1)\n",
    "        con_res = self.prediction(con_res)\n",
    "        con_res = self.output(con_res)\n",
    "\n",
    "        return con_res\n",
    "\n",
    "\n",
    "class BPRLoss(nn.Module):\n",
    "    def __init__(self, **kwargs) -> None:\n",
    "        super().__init__(**kwargs)\n",
    "\n",
    "    def forward(self, positive, negative):\n",
    "        return - torch.sum(torch.log(torch.sigmoid(positive - negative)), dim=0, keepdim=True)\n",
    "    \n",
    "\n",
    "class PairwiseDataset(Dataset):\n",
    "    def __init__(self, data, num_users, num_items) -> None:\n",
    "        super().__init__()\n",
    "\n",
    "        self.data = data\n",
    "        self.num_users = num_users\n",
    "        self.num_items = num_items\n",
    "\n",
    "    def __len__(self):\n",
    "        return len(self.data)\n",
    "\n",
    "    def __getitem__(self, idx):\n",
    "        row = self.data.iloc[idx]\n",
    "        row = torch.from_numpy(row.to_numpy()).long()\n",
    "        return row\n",
    "\n",
    "\n",
    "def train(model, loss, optimizer, data_loader, num_epochs):\n",
    "    for _ in (t := tqdm(range(num_epochs))):\n",
    "        model.train()\n",
    "        total_loss = 0\n",
    "\n",
    "        for d in (b := tqdm(data_loader, leave=False)):\n",
    "            d = d.to(DEVICE)\n",
    "            user = d[:, 0]\n",
    "            positive = d[:, 1]\n",
    "            negative = d[:, 2]\n",
    "\n",
    "            optimizer.zero_grad()\n",
    "            positive = model(user, positive)\n",
    "            negative = model(user, negative)\n",
    "            l = loss(positive, negative)\n",
    "            l.backward()\n",
    "            optimizer.step()\n",
    "            total_loss += l.item()\n",
    "            b.set_postfix(loss=l.item())\n",
    "\n",
    "        t.set_postfix(loss=total_loss / len(data_loader))"
   ]
  },
  {
   "cell_type": "code",
   "execution_count": 8,
   "metadata": {},
   "outputs": [
    {
     "name": "stderr",
     "output_type": "stream",
     "text": [
      "/home/riccardo/repos/playngo_challenge_generator/.conda/lib/python3.10/site-packages/torch/nn/modules/lazy.py:181: UserWarning: Lazy modules are a new feature under heavy development so changes to the API or functionality can happen at any moment.\n",
      "  warnings.warn('Lazy modules are a new feature under heavy development '\n"
     ]
    },
    {
     "data": {
      "application/vnd.jupyter.widget-view+json": {
       "model_id": "04ae70658ce549e49f1821b089c53c2d",
       "version_major": 2,
       "version_minor": 0
      },
      "text/plain": [
       "  0%|          | 0/20 [00:00<?, ?it/s]"
      ]
     },
     "metadata": {},
     "output_type": "display_data"
    },
    {
     "data": {
      "application/vnd.jupyter.widget-view+json": {
       "model_id": "188aafc3784145789b980276d7bfbf60",
       "version_major": 2,
       "version_minor": 0
      },
      "text/plain": [
       "  0%|          | 0/578 [00:00<?, ?it/s]"
      ]
     },
     "metadata": {},
     "output_type": "display_data"
    },
    {
     "data": {
      "application/vnd.jupyter.widget-view+json": {
       "model_id": "007b27deecb244938214db0a68fdd3e4",
       "version_major": 2,
       "version_minor": 0
      },
      "text/plain": [
       "  0%|          | 0/578 [00:00<?, ?it/s]"
      ]
     },
     "metadata": {},
     "output_type": "display_data"
    },
    {
     "data": {
      "application/vnd.jupyter.widget-view+json": {
       "model_id": "b029c88901cf4c9ca0b12895596368e8",
       "version_major": 2,
       "version_minor": 0
      },
      "text/plain": [
       "  0%|          | 0/578 [00:00<?, ?it/s]"
      ]
     },
     "metadata": {},
     "output_type": "display_data"
    },
    {
     "data": {
      "application/vnd.jupyter.widget-view+json": {
       "model_id": "62ddc863d3674670b0e18317dd51d466",
       "version_major": 2,
       "version_minor": 0
      },
      "text/plain": [
       "  0%|          | 0/578 [00:00<?, ?it/s]"
      ]
     },
     "metadata": {},
     "output_type": "display_data"
    },
    {
     "data": {
      "application/vnd.jupyter.widget-view+json": {
       "model_id": "92390556be4c43a086649dd5ff821ef6",
       "version_major": 2,
       "version_minor": 0
      },
      "text/plain": [
       "  0%|          | 0/578 [00:00<?, ?it/s]"
      ]
     },
     "metadata": {},
     "output_type": "display_data"
    },
    {
     "data": {
      "application/vnd.jupyter.widget-view+json": {
       "model_id": "6d6bc9b4cbbc4404931110f8b653e076",
       "version_major": 2,
       "version_minor": 0
      },
      "text/plain": [
       "  0%|          | 0/578 [00:00<?, ?it/s]"
      ]
     },
     "metadata": {},
     "output_type": "display_data"
    },
    {
     "data": {
      "application/vnd.jupyter.widget-view+json": {
       "model_id": "22771baeff754640832c5d392cdd5a07",
       "version_major": 2,
       "version_minor": 0
      },
      "text/plain": [
       "  0%|          | 0/578 [00:00<?, ?it/s]"
      ]
     },
     "metadata": {},
     "output_type": "display_data"
    },
    {
     "data": {
      "application/vnd.jupyter.widget-view+json": {
       "model_id": "01eb2ef851b64e90b6ce490d09381454",
       "version_major": 2,
       "version_minor": 0
      },
      "text/plain": [
       "  0%|          | 0/578 [00:00<?, ?it/s]"
      ]
     },
     "metadata": {},
     "output_type": "display_data"
    },
    {
     "data": {
      "application/vnd.jupyter.widget-view+json": {
       "model_id": "024e50732e0941d7b013227d543a4990",
       "version_major": 2,
       "version_minor": 0
      },
      "text/plain": [
       "  0%|          | 0/578 [00:00<?, ?it/s]"
      ]
     },
     "metadata": {},
     "output_type": "display_data"
    },
    {
     "data": {
      "application/vnd.jupyter.widget-view+json": {
       "model_id": "02e4ade8f7f84742a47143df80599975",
       "version_major": 2,
       "version_minor": 0
      },
      "text/plain": [
       "  0%|          | 0/578 [00:00<?, ?it/s]"
      ]
     },
     "metadata": {},
     "output_type": "display_data"
    },
    {
     "data": {
      "application/vnd.jupyter.widget-view+json": {
       "model_id": "02973bda39bd42f2a466750246937f15",
       "version_major": 2,
       "version_minor": 0
      },
      "text/plain": [
       "  0%|          | 0/578 [00:00<?, ?it/s]"
      ]
     },
     "metadata": {},
     "output_type": "display_data"
    },
    {
     "data": {
      "application/vnd.jupyter.widget-view+json": {
       "model_id": "8276ff9742a74bcb97c110f5c69837bc",
       "version_major": 2,
       "version_minor": 0
      },
      "text/plain": [
       "  0%|          | 0/578 [00:00<?, ?it/s]"
      ]
     },
     "metadata": {},
     "output_type": "display_data"
    },
    {
     "data": {
      "application/vnd.jupyter.widget-view+json": {
       "model_id": "9e82b49192d940138ec8289f800d0a3d",
       "version_major": 2,
       "version_minor": 0
      },
      "text/plain": [
       "  0%|          | 0/578 [00:00<?, ?it/s]"
      ]
     },
     "metadata": {},
     "output_type": "display_data"
    },
    {
     "data": {
      "application/vnd.jupyter.widget-view+json": {
       "model_id": "d087bb33147e41c2a4407a3c37c4361c",
       "version_major": 2,
       "version_minor": 0
      },
      "text/plain": [
       "  0%|          | 0/578 [00:00<?, ?it/s]"
      ]
     },
     "metadata": {},
     "output_type": "display_data"
    },
    {
     "data": {
      "application/vnd.jupyter.widget-view+json": {
       "model_id": "e20188f96efd4285a8f60ce8b3e70a0c",
       "version_major": 2,
       "version_minor": 0
      },
      "text/plain": [
       "  0%|          | 0/578 [00:00<?, ?it/s]"
      ]
     },
     "metadata": {},
     "output_type": "display_data"
    },
    {
     "data": {
      "application/vnd.jupyter.widget-view+json": {
       "model_id": "115eed71e08845c4979542d95e8ecf6c",
       "version_major": 2,
       "version_minor": 0
      },
      "text/plain": [
       "  0%|          | 0/578 [00:00<?, ?it/s]"
      ]
     },
     "metadata": {},
     "output_type": "display_data"
    },
    {
     "data": {
      "application/vnd.jupyter.widget-view+json": {
       "model_id": "4a50f2704fca45e6b0b54ab03a686ef5",
       "version_major": 2,
       "version_minor": 0
      },
      "text/plain": [
       "  0%|          | 0/578 [00:00<?, ?it/s]"
      ]
     },
     "metadata": {},
     "output_type": "display_data"
    },
    {
     "data": {
      "application/vnd.jupyter.widget-view+json": {
       "model_id": "ce703785dcd644bbb05b8177eede8bb4",
       "version_major": 2,
       "version_minor": 0
      },
      "text/plain": [
       "  0%|          | 0/578 [00:00<?, ?it/s]"
      ]
     },
     "metadata": {},
     "output_type": "display_data"
    },
    {
     "data": {
      "application/vnd.jupyter.widget-view+json": {
       "model_id": "6038d650a91346e68b970e9d2de2e4a1",
       "version_major": 2,
       "version_minor": 0
      },
      "text/plain": [
       "  0%|          | 0/578 [00:00<?, ?it/s]"
      ]
     },
     "metadata": {},
     "output_type": "display_data"
    },
    {
     "data": {
      "application/vnd.jupyter.widget-view+json": {
       "model_id": "e2bf02657ca64e818d14801f470bf591",
       "version_major": 2,
       "version_minor": 0
      },
      "text/plain": [
       "  0%|          | 0/578 [00:00<?, ?it/s]"
      ]
     },
     "metadata": {},
     "output_type": "display_data"
    }
   ],
   "source": [
    "num_users = user_missions_matrix.shape[0]\n",
    "num_items = user_missions_matrix.shape[1]\n",
    "\n",
    "model = NeuMF(num_factors=10, num_users=num_users, num_items=num_items, hiddens=[16, 16, 16]).to(DEVICE)\n",
    "\n",
    "loss = BPRLoss()\n",
    "optimizer = optim.Adam(model.parameters(), lr=0.01, weight_decay=1e-5)\n",
    "data_loader = DataLoader(PairwiseDataset(data, num_users, num_items), batch_size=64, shuffle=True)\n",
    "\n",
    "train(model, loss, optimizer, data_loader, num_epochs=20)"
   ]
  },
  {
   "cell_type": "code",
   "execution_count": 9,
   "metadata": {},
   "outputs": [],
   "source": [
    "class Recommender:\n",
    "    def __init__(self, model, user_missions_matrix) -> None:\n",
    "        self.model = model\n",
    "        self.user_missions_matrix = user_missions_matrix\n",
    "    \n",
    "    def recommend(self, user_id, top_k=10):\n",
    "        user = torch.tensor([user_id] * self.user_missions_matrix.shape[1], device=DEVICE)\n",
    "        items = torch.arange(self.user_missions_matrix.shape[1], device=DEVICE)\n",
    "        scores: np.ndarray = self.model(user, items).squeeze().detach().cpu().numpy()\n",
    "        rank = scores.argsort()[::-1][:top_k]\n",
    "\n",
    "        return pd.Series(data=scores[rank], index=rank, name='score')\n",
    "    \n",
    "recommender = Recommender(model, user_missions_matrix)"
   ]
  },
  {
   "cell_type": "code",
   "execution_count": 10,
   "metadata": {},
   "outputs": [],
   "source": [
    "test_tensor = torch.tensor(test_dataset[['user', 'missionId']].to_numpy(), device=DEVICE).long()\n",
    "\n",
    "model.eval()\n",
    "with torch.no_grad():\n",
    "    scores = model(test_tensor[:, 0], test_tensor[:, 1]).squeeze().cpu().numpy()\n",
    "\n",
    "test_dataset['score'] = scores"
   ]
  },
  {
   "cell_type": "code",
   "execution_count": 11,
   "metadata": {},
   "outputs": [],
   "source": [
    "class LogisticRegression(nn.Module):\n",
    "    def __init__(self, num_users, num_items) -> None:\n",
    "        super().__init__()\n",
    "\n",
    "        self.user = nn.Embedding(num_users, 1)\n",
    "        self.item = nn.Embedding(num_items, 1)\n",
    "        self.bias = nn.Parameter(torch.zeros(1))\n",
    "        self.output = nn.Sigmoid()\n",
    "\n",
    "    def forward(self, user_id, item_id):\n",
    "        user = self.user(user_id)\n",
    "        item = self.item(item_id)\n",
    "        x = user + item + self.bias\n",
    "        x = self.output(x)\n",
    "        return x.view(-1)\n",
    "    \n",
    "    def fit(self, data_loader: DataLoader, num_epochs):\n",
    "        criterion = nn.BCELoss()\n",
    "        optimizer = optim.Adam(self.parameters(), lr=0.01)\n",
    "\n",
    "        for _ in (t := tqdm(range(num_epochs))):\n",
    "            self.train()\n",
    "            total_loss = 0\n",
    "\n",
    "            for d in (b := tqdm(data_loader, leave=False)):\n",
    "                d = d.to(DEVICE)\n",
    "                user = d[:, 0]\n",
    "                item = d[:, 1]\n",
    "                target = d[:, 2].float()\n",
    "\n",
    "                optimizer.zero_grad()\n",
    "                output = self(user, item)\n",
    "                loss = criterion(output, target)\n",
    "                loss.backward()\n",
    "                optimizer.step()\n",
    "                total_loss += loss.item()\n",
    "                b.set_postfix(loss=loss.item())\n",
    "\n",
    "            t.set_postfix(loss=total_loss / len(data_loader))\n",
    "    \n",
    "\n",
    "class LogisticRegressionDataset(Dataset):\n",
    "    def __init__(self, data, num_users, num_items) -> None:\n",
    "        super().__init__()\n",
    "\n",
    "        self.data = data\n",
    "        self.num_users = num_users\n",
    "        self.num_items = num_items\n",
    "\n",
    "    def __len__(self):\n",
    "        return len(self.data)\n",
    "\n",
    "    def __getitem__(self, idx):\n",
    "        row = self.data.iloc[idx]\n",
    "        row = torch.from_numpy(row.to_numpy()).long()\n",
    "        return row\n"
   ]
  },
  {
   "cell_type": "code",
   "execution_count": 12,
   "metadata": {},
   "outputs": [
    {
     "data": {
      "application/vnd.jupyter.widget-view+json": {
       "model_id": "5c9bf01c3994495eae0b5d9b979666b5",
       "version_major": 2,
       "version_minor": 0
      },
      "text/plain": [
       "  0%|          | 0/20 [00:00<?, ?it/s]"
      ]
     },
     "metadata": {},
     "output_type": "display_data"
    },
    {
     "data": {
      "application/vnd.jupyter.widget-view+json": {
       "model_id": "a7e8574485a94fd19a4c8d4c12a40e70",
       "version_major": 2,
       "version_minor": 0
      },
      "text/plain": [
       "  0%|          | 0/70 [00:00<?, ?it/s]"
      ]
     },
     "metadata": {},
     "output_type": "display_data"
    },
    {
     "data": {
      "application/vnd.jupyter.widget-view+json": {
       "model_id": "5de22eaf590f45aebc9ed7aeefc51bc5",
       "version_major": 2,
       "version_minor": 0
      },
      "text/plain": [
       "  0%|          | 0/70 [00:00<?, ?it/s]"
      ]
     },
     "metadata": {},
     "output_type": "display_data"
    },
    {
     "data": {
      "application/vnd.jupyter.widget-view+json": {
       "model_id": "9b3f1d4c091b4e2eba7ed86365b2e129",
       "version_major": 2,
       "version_minor": 0
      },
      "text/plain": [
       "  0%|          | 0/70 [00:00<?, ?it/s]"
      ]
     },
     "metadata": {},
     "output_type": "display_data"
    },
    {
     "data": {
      "application/vnd.jupyter.widget-view+json": {
       "model_id": "4f878214a9094e2ca00e88f042f1418e",
       "version_major": 2,
       "version_minor": 0
      },
      "text/plain": [
       "  0%|          | 0/70 [00:00<?, ?it/s]"
      ]
     },
     "metadata": {},
     "output_type": "display_data"
    },
    {
     "data": {
      "application/vnd.jupyter.widget-view+json": {
       "model_id": "fa98e484280643cfb1f8cac54dfee6e4",
       "version_major": 2,
       "version_minor": 0
      },
      "text/plain": [
       "  0%|          | 0/70 [00:00<?, ?it/s]"
      ]
     },
     "metadata": {},
     "output_type": "display_data"
    },
    {
     "data": {
      "application/vnd.jupyter.widget-view+json": {
       "model_id": "3db2961d7020408e9961c86fad96b98d",
       "version_major": 2,
       "version_minor": 0
      },
      "text/plain": [
       "  0%|          | 0/70 [00:00<?, ?it/s]"
      ]
     },
     "metadata": {},
     "output_type": "display_data"
    },
    {
     "data": {
      "application/vnd.jupyter.widget-view+json": {
       "model_id": "8980a53bbdc24d64b05824661487f748",
       "version_major": 2,
       "version_minor": 0
      },
      "text/plain": [
       "  0%|          | 0/70 [00:00<?, ?it/s]"
      ]
     },
     "metadata": {},
     "output_type": "display_data"
    },
    {
     "data": {
      "application/vnd.jupyter.widget-view+json": {
       "model_id": "61dd905104cd4433bae9a9f723446a49",
       "version_major": 2,
       "version_minor": 0
      },
      "text/plain": [
       "  0%|          | 0/70 [00:00<?, ?it/s]"
      ]
     },
     "metadata": {},
     "output_type": "display_data"
    },
    {
     "data": {
      "application/vnd.jupyter.widget-view+json": {
       "model_id": "3d0e4d0c82e4447bbb1b9d32b8d7370c",
       "version_major": 2,
       "version_minor": 0
      },
      "text/plain": [
       "  0%|          | 0/70 [00:00<?, ?it/s]"
      ]
     },
     "metadata": {},
     "output_type": "display_data"
    },
    {
     "data": {
      "application/vnd.jupyter.widget-view+json": {
       "model_id": "883d8f6b153445ab83b3b47c3e1e7470",
       "version_major": 2,
       "version_minor": 0
      },
      "text/plain": [
       "  0%|          | 0/70 [00:00<?, ?it/s]"
      ]
     },
     "metadata": {},
     "output_type": "display_data"
    },
    {
     "data": {
      "application/vnd.jupyter.widget-view+json": {
       "model_id": "33d9804e20bc410c82aae8ebcee16c3a",
       "version_major": 2,
       "version_minor": 0
      },
      "text/plain": [
       "  0%|          | 0/70 [00:00<?, ?it/s]"
      ]
     },
     "metadata": {},
     "output_type": "display_data"
    },
    {
     "data": {
      "application/vnd.jupyter.widget-view+json": {
       "model_id": "e7a05fee3c514938926a24e3385b3454",
       "version_major": 2,
       "version_minor": 0
      },
      "text/plain": [
       "  0%|          | 0/70 [00:00<?, ?it/s]"
      ]
     },
     "metadata": {},
     "output_type": "display_data"
    },
    {
     "data": {
      "application/vnd.jupyter.widget-view+json": {
       "model_id": "e17a146821644ab8a8ddc7460c581812",
       "version_major": 2,
       "version_minor": 0
      },
      "text/plain": [
       "  0%|          | 0/70 [00:00<?, ?it/s]"
      ]
     },
     "metadata": {},
     "output_type": "display_data"
    },
    {
     "data": {
      "application/vnd.jupyter.widget-view+json": {
       "model_id": "bf0edd3b2b6a445dae46adcab909101d",
       "version_major": 2,
       "version_minor": 0
      },
      "text/plain": [
       "  0%|          | 0/70 [00:00<?, ?it/s]"
      ]
     },
     "metadata": {},
     "output_type": "display_data"
    },
    {
     "data": {
      "application/vnd.jupyter.widget-view+json": {
       "model_id": "0dfe6ed26eca44eb81840047985050d1",
       "version_major": 2,
       "version_minor": 0
      },
      "text/plain": [
       "  0%|          | 0/70 [00:00<?, ?it/s]"
      ]
     },
     "metadata": {},
     "output_type": "display_data"
    },
    {
     "data": {
      "application/vnd.jupyter.widget-view+json": {
       "model_id": "ae56f5dce6a64a2286f355526f7ac4a1",
       "version_major": 2,
       "version_minor": 0
      },
      "text/plain": [
       "  0%|          | 0/70 [00:00<?, ?it/s]"
      ]
     },
     "metadata": {},
     "output_type": "display_data"
    },
    {
     "data": {
      "application/vnd.jupyter.widget-view+json": {
       "model_id": "99bd4fba1f67468a9b62e815a4a73ca0",
       "version_major": 2,
       "version_minor": 0
      },
      "text/plain": [
       "  0%|          | 0/70 [00:00<?, ?it/s]"
      ]
     },
     "metadata": {},
     "output_type": "display_data"
    },
    {
     "data": {
      "application/vnd.jupyter.widget-view+json": {
       "model_id": "69992ccb12e745c4a6a7abf89c71bd45",
       "version_major": 2,
       "version_minor": 0
      },
      "text/plain": [
       "  0%|          | 0/70 [00:00<?, ?it/s]"
      ]
     },
     "metadata": {},
     "output_type": "display_data"
    },
    {
     "data": {
      "application/vnd.jupyter.widget-view+json": {
       "model_id": "a9d4f8404639474eaf8444cce1cf1bdf",
       "version_major": 2,
       "version_minor": 0
      },
      "text/plain": [
       "  0%|          | 0/70 [00:00<?, ?it/s]"
      ]
     },
     "metadata": {},
     "output_type": "display_data"
    },
    {
     "data": {
      "application/vnd.jupyter.widget-view+json": {
       "model_id": "b977d9fea68c41adbfe6739b60d192bc",
       "version_major": 2,
       "version_minor": 0
      },
      "text/plain": [
       "  0%|          | 0/70 [00:00<?, ?it/s]"
      ]
     },
     "metadata": {},
     "output_type": "display_data"
    }
   ],
   "source": [
    "lr = LogisticRegression(num_users, num_items).to(DEVICE)\n",
    "data_loader = DataLoader(LogisticRegressionDataset(test_dataset[['user', 'missionId', 'satisfied']], num_users, num_items), batch_size=64, shuffle=True)\n",
    "\n",
    "lr.fit(data_loader, num_epochs=20)\n",
    "\n",
    "lr.eval()\n",
    "with torch.no_grad():\n",
    "    scores = lr(test_tensor[:, 0], test_tensor[:, 1]).squeeze().cpu().numpy()\n",
    "\n",
    "test_dataset['score_lr'] = scores"
   ]
  },
  {
   "cell_type": "code",
   "execution_count": 13,
   "metadata": {},
   "outputs": [
    {
     "data": {
      "text/plain": [
       "<Axes: ylabel='Frequency'>"
      ]
     },
     "execution_count": 13,
     "metadata": {},
     "output_type": "execute_result"
    },
    {
     "data": {
      "image/png": "[encoded data removed]",
      "text/plain": [
       "<Figure size 640x480 with 1 Axes>"
      ]
     },
     "metadata": {},
     "output_type": "display_data"
    }
   ],
   "source": [
    "test_dataset.loc[test_dataset['satisfied'] == 0, 'score_lr'].plot.hist(bins=100, label='Negative')"
   ]
  },
  {
   "cell_type": "code",
   "execution_count": 14,
   "metadata": {},
   "outputs": [
    {
     "data": {
      "image/png": "[encoded data removed]",
      "text/plain": [
       "<Figure size 640x480 with 1 Axes>"
      ]
     },
     "metadata": {},
     "output_type": "display_data"
    }
   ],
   "source": [
    "from sklearn.metrics import roc_curve, precision_recall_curve, auc\n",
    "from matplotlib import pyplot as plt\n",
    "\n",
    "fpr, tpr, _ = roc_curve(test_dataset['satisfied'], test_dataset['score'])\n",
    "fpr_lr, tpr_lr, _ = roc_curve(test_dataset['satisfied'], test_dataset['score_lr'])\n",
    "\n",
    "plt.plot(fpr, tpr, label='NeuMF (AUC: {:.2f})'.format(auc(fpr, tpr)))\n",
    "plt.plot(fpr_lr, tpr_lr, label='Logistic Regression (AUC: {:.2f})'.format(auc(fpr_lr, tpr_lr)))\n",
    "plt.xlabel('False Positive Rate')\n",
    "plt.ylabel('True Positive Rate')\n",
    "plt.legend()\n",
    "plt.show()"
   ]
  },
  {
   "cell_type": "code",
   "execution_count": 15,
   "metadata": {},
   "outputs": [
    {
     "data": {
      "image/png": "[encoded data removed]",
      "text/plain": [
       "<Figure size 640x480 with 1 Axes>"
      ]
     },
     "metadata": {},
     "output_type": "display_data"
    }
   ],
   "source": [
    "precision, recall, _ = precision_recall_curve(test_dataset['satisfied'], test_dataset['score'])\n",
    "precision_lr, recall_lr, _ = precision_recall_curve(test_dataset['satisfied'], test_dataset['score_lr'])\n",
    "\n",
    "plt.plot(recall, precision, label='NeuMF (AUC: {:.2f})'.format(auc(recall, precision)))\n",
    "plt.plot(recall_lr, precision_lr, label='Logistic Regression (AUC: {:.2f})'.format(auc(recall_lr, precision_lr)))\n",
    "plt.xlabel('Recall')\n",
    "plt.ylabel('Precision')\n",
    "plt.legend()\n",
    "plt.show()"
   ]
  }
 ],
 "metadata": {
  "kernelspec": {
   "display_name": "Python 3",
   "language": "python",
   "name": "python3"
  },
  "language_info": {
   "codemirror_mode": {
    "name": "ipython",
    "version": 3
   },
   "file_extension": ".py",
   "mimetype": "text/x-python",
   "name": "python",
   "nbconvert_exporter": "python",
   "pygments_lexer": "ipython3",
   "version": "3.10.14"
  }
 },
 "nbformat": 4,
 "nbformat_minor": 2
}
