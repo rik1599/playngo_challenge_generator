{
 "cells": [
  {
   "cell_type": "code",
   "execution_count": 1,
   "metadata": {},
   "outputs": [],
   "source": [
    "import torch\n",
    "import torch.nn as nn\n",
    "import numpy as np\n",
    "import pandas as pd\n",
    "from torch.utils.data import Dataset, DataLoader\n",
    "from sklearn.model_selection import GroupShuffleSplit\n",
    "from sklearn.metrics import roc_auc_score"
   ]
  },
  {
   "cell_type": "code",
   "execution_count": 2,
   "metadata": {},
   "outputs": [
    {
     "name": "stdout",
     "output_type": "stream",
     "text": [
      "cuda\n"
     ]
    }
   ],
   "source": [
    "# The model\n",
    "\n",
    "DEVICE = torch.device('cuda' if torch.cuda.is_available() else 'cpu')\n",
    "print(DEVICE)\n",
    "\n",
    "class TwoWayFM(nn.Module):\n",
    "    def __init__(self, d, k) -> None:\n",
    "        super(TwoWayFM, self).__init__()\n",
    "\n",
    "        self.w0 = nn.Linear(1, 1, bias=True)\n",
    "        self.w = nn.Embedding(d, 1)\n",
    "        self.V = nn.Embedding(d, k)\n",
    "        self.sigmoid = nn.Sigmoid()\n",
    "\n",
    "    def forward(self, x):\n",
    "        square_of_sum = torch.sum(self.V(x), dim=1) ** 2\n",
    "        sum_of_square = torch.sum(self.V(x) ** 2, dim=1)\n",
    "        x = self.w0(torch.sum(self.w(x), dim=1)) + 0.5 * (square_of_sum - sum_of_square).sum(dim=1, keepdim=True)\n",
    "        return self.sigmoid(x)\n",
    "    \n",
    "\n",
    "class TwoWayFMDataset(Dataset):\n",
    "    def __init__(self, X: pd.DataFrame) -> None:\n",
    "        self.X = X.copy()\n",
    "        user_padding = self.X['user_id'].nunique()\n",
    "        self.X['item_id'] = self.X['item_id'] + user_padding # padding item_id\n",
    "\n",
    "    def __len__(self):\n",
    "        return len(self.X)\n",
    "\n",
    "    def __getitem__(self, idx):\n",
    "        row = self.X.iloc[idx]\n",
    "        X = torch.tensor([row['user_id'], row['item_id']], dtype=torch.long)\n",
    "        y = torch.tensor([row['rating']], dtype=torch.float32)\n",
    "        return X, y"
   ]
  },
  {
   "cell_type": "code",
   "execution_count": 3,
   "metadata": {},
   "outputs": [
    {
     "data": {
      "text/html": [
       "<div>\n",
       "<style scoped>\n",
       "    .dataframe tbody tr th:only-of-type {\n",
       "        vertical-align: middle;\n",
       "    }\n",
       "\n",
       "    .dataframe tbody tr th {\n",
       "        vertical-align: top;\n",
       "    }\n",
       "\n",
       "    .dataframe thead th {\n",
       "        text-align: right;\n",
       "    }\n",
       "</style>\n",
       "<table border=\"1\" class=\"dataframe\">\n",
       "  <thead>\n",
       "    <tr style=\"text-align: right;\">\n",
       "      <th></th>\n",
       "      <th>user_id</th>\n",
       "      <th>item_id</th>\n",
       "      <th>rating</th>\n",
       "    </tr>\n",
       "  </thead>\n",
       "  <tbody>\n",
       "    <tr>\n",
       "      <th>0</th>\n",
       "      <td>44</td>\n",
       "      <td>585</td>\n",
       "      <td>1</td>\n",
       "    </tr>\n",
       "    <tr>\n",
       "      <th>1</th>\n",
       "      <td>47</td>\n",
       "      <td>1645</td>\n",
       "      <td>1</td>\n",
       "    </tr>\n",
       "    <tr>\n",
       "      <th>2</th>\n",
       "      <td>64</td>\n",
       "      <td>384</td>\n",
       "      <td>0</td>\n",
       "    </tr>\n",
       "    <tr>\n",
       "      <th>3</th>\n",
       "      <td>67</td>\n",
       "      <td>967</td>\n",
       "      <td>0</td>\n",
       "    </tr>\n",
       "    <tr>\n",
       "      <th>4</th>\n",
       "      <td>67</td>\n",
       "      <td>1785</td>\n",
       "      <td>0</td>\n",
       "    </tr>\n",
       "    <tr>\n",
       "      <th>...</th>\n",
       "      <td>...</td>\n",
       "      <td>...</td>\n",
       "      <td>...</td>\n",
       "    </tr>\n",
       "    <tr>\n",
       "      <th>49995</th>\n",
       "      <td>52</td>\n",
       "      <td>1366</td>\n",
       "      <td>0</td>\n",
       "    </tr>\n",
       "    <tr>\n",
       "      <th>49996</th>\n",
       "      <td>28</td>\n",
       "      <td>1431</td>\n",
       "      <td>0</td>\n",
       "    </tr>\n",
       "    <tr>\n",
       "      <th>49997</th>\n",
       "      <td>97</td>\n",
       "      <td>413</td>\n",
       "      <td>0</td>\n",
       "    </tr>\n",
       "    <tr>\n",
       "      <th>49998</th>\n",
       "      <td>89</td>\n",
       "      <td>891</td>\n",
       "      <td>1</td>\n",
       "    </tr>\n",
       "    <tr>\n",
       "      <th>49999</th>\n",
       "      <td>43</td>\n",
       "      <td>667</td>\n",
       "      <td>1</td>\n",
       "    </tr>\n",
       "  </tbody>\n",
       "</table>\n",
       "<p>50000 rows × 3 columns</p>\n",
       "</div>"
      ],
      "text/plain": [
       "       user_id  item_id  rating\n",
       "0           44      585       1\n",
       "1           47     1645       1\n",
       "2           64      384       0\n",
       "3           67      967       0\n",
       "4           67     1785       0\n",
       "...        ...      ...     ...\n",
       "49995       52     1366       0\n",
       "49996       28     1431       0\n",
       "49997       97      413       0\n",
       "49998       89      891       1\n",
       "49999       43      667       1\n",
       "\n",
       "[50000 rows x 3 columns]"
      ]
     },
     "execution_count": 3,
     "metadata": {},
     "output_type": "execute_result"
    }
   ],
   "source": [
    "# Generate synthetic data\n",
    "\n",
    "np.random.seed(0)\n",
    "users = 100\n",
    "items = 2000\n",
    "events = 50000\n",
    "\n",
    "user_ids = np.random.randint(0, users, events)\n",
    "item_ids = np.random.randint(0, items, events)\n",
    "y = np.random.randint(0, 2, events)\n",
    "\n",
    "X = pd.DataFrame({'user_id': user_ids, 'item_id': item_ids, 'rating': y})\n",
    "\n",
    "assert X['user_id'].nunique() == users, f'Number of users is not correct, given: {X[\"user_id\"].nunique()}, expected: {users}'\n",
    "assert X['item_id'].nunique() == items, f'Number of items is not correct, given: {X[\"item_id\"].nunique()}, expected: {items}'\n",
    "\n",
    "X"
   ]
  },
  {
   "cell_type": "code",
   "execution_count": 4,
   "metadata": {},
   "outputs": [],
   "source": [
    "gs = GroupShuffleSplit(n_splits=1, test_size=0.2, random_state=0)\n",
    "train_idx, test_idx = next(gs.split(X, groups=X['user_id']))\n",
    "\n",
    "train = X.iloc[train_idx]\n",
    "test = X.iloc[test_idx]\n",
    "\n",
    "train_dataset = TwoWayFMDataset(train)\n",
    "test_dataset = TwoWayFMDataset(test)"
   ]
  },
  {
   "cell_type": "code",
   "execution_count": 5,
   "metadata": {},
   "outputs": [
    {
     "data": {
      "text/plain": [
       "TwoWayFM(\n",
       "  (w0): Linear(in_features=1, out_features=1, bias=True)\n",
       "  (w): Embedding(2100, 1)\n",
       "  (V): Embedding(2100, 32)\n",
       "  (sigmoid): Sigmoid()\n",
       ")"
      ]
     },
     "execution_count": 5,
     "metadata": {},
     "output_type": "execute_result"
    }
   ],
   "source": [
    "FM = TwoWayFM(users + items, 32).to(DEVICE)\n",
    "\n",
    "FM"
   ]
  },
  {
   "cell_type": "code",
   "execution_count": 6,
   "metadata": {},
   "outputs": [
    {
     "data": {
      "application/vnd.jupyter.widget-view+json": {
       "model_id": "931188dde8eb459da9702471f9566290",
       "version_major": 2,
       "version_minor": 0
      },
      "text/plain": [
       "  0%|          | 0/10 [00:00<?, ?it/s]"
      ]
     },
     "metadata": {},
     "output_type": "display_data"
    },
    {
     "name": "stdout",
     "output_type": "stream",
     "text": [
      "AUC: 0.4949\n"
     ]
    }
   ],
   "source": [
    "from tqdm.auto import tqdm\n",
    "\n",
    "train_loader = DataLoader(train_dataset, batch_size=32, shuffle=True)\n",
    "test_loader = DataLoader(test_dataset, batch_size=32, shuffle=False)\n",
    "\n",
    "criterion = nn.BCELoss()\n",
    "optimizer = torch.optim.Adam(FM.parameters(), lr=0.001)\n",
    "\n",
    "for epoch in tqdm(range(1, 11)):\n",
    "    FM.train()\n",
    "    for X, y in train_loader:\n",
    "        X = X.to(DEVICE)\n",
    "        y = y.to(DEVICE)\n",
    "        optimizer.zero_grad()\n",
    "        y_hat = FM(X)\n",
    "        loss = criterion(y_hat, y)\n",
    "        loss.backward()\n",
    "        optimizer.step()\n",
    "    \n",
    "    if epoch % 10 != 0:\n",
    "        continue\n",
    "\n",
    "    FM.eval()\n",
    "    preds = []\n",
    "    targets = []\n",
    "    with torch.no_grad():\n",
    "        for X, y in test_loader:\n",
    "            X = X.to(DEVICE)\n",
    "            y_hat = FM(X)\n",
    "            preds.extend(y_hat.cpu().detach().numpy())\n",
    "            targets.extend(y)\n",
    "\n",
    "    auc = roc_auc_score(targets, preds)\n",
    "    print(f'AUC: {auc:.4f}')\n"
   ]
  }
 ],
 "metadata": {
  "kernelspec": {
   "display_name": "Python 3",
   "language": "python",
   "name": "python3"
  },
  "language_info": {
   "codemirror_mode": {
    "name": "ipython",
    "version": 3
   },
   "file_extension": ".py",
   "mimetype": "text/x-python",
   "name": "python",
   "nbconvert_exporter": "python",
   "pygments_lexer": "ipython3",
   "version": "3.10.14"
  }
 },
 "nbformat": 4,
 "nbformat_minor": 2
}
