{
 "cells": [
  {
   "cell_type": "code",
   "execution_count": 1,
   "metadata": {},
   "outputs": [],
   "source": [
    "import zipfile\n",
    "\n",
    "with zipfile.ZipFile('./../data/earth_day_missions.csv.zip', 'r') as myzip:\n",
    "    myzip.extract('earth_day_missions.csv', './../data/')\n",
    "    myzip.close()"
   ]
  },
  {
   "cell_type": "code",
   "execution_count": 2,
   "metadata": {},
   "outputs": [
    {
     "data": {
      "text/html": [
       "<div>\n",
       "<style scoped>\n",
       "    .dataframe tbody tr th:only-of-type {\n",
       "        vertical-align: middle;\n",
       "    }\n",
       "\n",
       "    .dataframe tbody tr th {\n",
       "        vertical-align: top;\n",
       "    }\n",
       "\n",
       "    .dataframe thead th {\n",
       "        text-align: right;\n",
       "    }\n",
       "</style>\n",
       "<table border=\"1\" class=\"dataframe\">\n",
       "  <thead>\n",
       "    <tr style=\"text-align: right;\">\n",
       "      <th></th>\n",
       "      <th>start_date</th>\n",
       "      <th>user</th>\n",
       "      <th>missionId</th>\n",
       "      <th>missionType</th>\n",
       "      <th>missionSubType</th>\n",
       "      <th>period</th>\n",
       "      <th>target</th>\n",
       "      <th>title</th>\n",
       "      <th>satisfied</th>\n",
       "    </tr>\n",
       "  </thead>\n",
       "  <tbody>\n",
       "    <tr>\n",
       "      <th>0</th>\n",
       "      <td>2024-03-25</td>\n",
       "      <td>21190</td>\n",
       "      <td>30</td>\n",
       "      <td>TICKET</td>\n",
       "      <td>TICKET</td>\n",
       "      <td>CUSTOM</td>\n",
       "      <td>1</td>\n",
       "      <td>ticket</td>\n",
       "      <td>True</td>\n",
       "    </tr>\n",
       "    <tr>\n",
       "      <th>1</th>\n",
       "      <td>2024-03-25</td>\n",
       "      <td>18882</td>\n",
       "      <td>30</td>\n",
       "      <td>TICKET</td>\n",
       "      <td>TICKET</td>\n",
       "      <td>CUSTOM</td>\n",
       "      <td>1</td>\n",
       "      <td>ticket</td>\n",
       "      <td>True</td>\n",
       "    </tr>\n",
       "    <tr>\n",
       "      <th>2</th>\n",
       "      <td>2024-03-25</td>\n",
       "      <td>17304</td>\n",
       "      <td>14</td>\n",
       "      <td>MEASURE</td>\n",
       "      <td>TYPEFORM_BASE</td>\n",
       "      <td>CUSTOM</td>\n",
       "      <td>1</td>\n",
       "      <td>calculate_carbon_footprint</td>\n",
       "      <td>True</td>\n",
       "    </tr>\n",
       "    <tr>\n",
       "      <th>3</th>\n",
       "      <td>2024-03-25</td>\n",
       "      <td>17304</td>\n",
       "      <td>16</td>\n",
       "      <td>LEARN</td>\n",
       "      <td>JOURNEY</td>\n",
       "      <td>CUSTOM</td>\n",
       "      <td>1</td>\n",
       "      <td>complete_journey</td>\n",
       "      <td>True</td>\n",
       "    </tr>\n",
       "    <tr>\n",
       "      <th>4</th>\n",
       "      <td>2024-03-25</td>\n",
       "      <td>17304</td>\n",
       "      <td>30</td>\n",
       "      <td>TICKET</td>\n",
       "      <td>TICKET</td>\n",
       "      <td>CUSTOM</td>\n",
       "      <td>1</td>\n",
       "      <td>ticket</td>\n",
       "      <td>True</td>\n",
       "    </tr>\n",
       "    <tr>\n",
       "      <th>...</th>\n",
       "      <td>...</td>\n",
       "      <td>...</td>\n",
       "      <td>...</td>\n",
       "      <td>...</td>\n",
       "      <td>...</td>\n",
       "      <td>...</td>\n",
       "      <td>...</td>\n",
       "      <td>...</td>\n",
       "      <td>...</td>\n",
       "    </tr>\n",
       "    <tr>\n",
       "      <th>45115</th>\n",
       "      <td>2024-04-20</td>\n",
       "      <td>8951</td>\n",
       "      <td>28</td>\n",
       "      <td>LEARN</td>\n",
       "      <td>DAILYEPISODE</td>\n",
       "      <td>DAILY</td>\n",
       "      <td>1</td>\n",
       "      <td>watch_the_daily_episode</td>\n",
       "      <td>True</td>\n",
       "    </tr>\n",
       "    <tr>\n",
       "      <th>45116</th>\n",
       "      <td>2024-04-20</td>\n",
       "      <td>8951</td>\n",
       "      <td>32</td>\n",
       "      <td>CHECKIN</td>\n",
       "      <td>CHECKIN</td>\n",
       "      <td>DAILY</td>\n",
       "      <td>1</td>\n",
       "      <td>do_checkin</td>\n",
       "      <td>True</td>\n",
       "    </tr>\n",
       "    <tr>\n",
       "      <th>45117</th>\n",
       "      <td>2024-04-20</td>\n",
       "      <td>22776</td>\n",
       "      <td>3</td>\n",
       "      <td>CHECKIN</td>\n",
       "      <td>CHECKIN</td>\n",
       "      <td>DAILY</td>\n",
       "      <td>1</td>\n",
       "      <td>do_checkin</td>\n",
       "      <td>True</td>\n",
       "    </tr>\n",
       "    <tr>\n",
       "      <th>45118</th>\n",
       "      <td>2024-04-20</td>\n",
       "      <td>19837</td>\n",
       "      <td>28</td>\n",
       "      <td>LEARN</td>\n",
       "      <td>DAILYEPISODE</td>\n",
       "      <td>DAILY</td>\n",
       "      <td>1</td>\n",
       "      <td>watch_the_daily_episode</td>\n",
       "      <td>True</td>\n",
       "    </tr>\n",
       "    <tr>\n",
       "      <th>45119</th>\n",
       "      <td>2024-04-20</td>\n",
       "      <td>6713</td>\n",
       "      <td>23</td>\n",
       "      <td>CHECKIN</td>\n",
       "      <td>CHECKIN</td>\n",
       "      <td>DAILY</td>\n",
       "      <td>1</td>\n",
       "      <td>do_checkin</td>\n",
       "      <td>True</td>\n",
       "    </tr>\n",
       "  </tbody>\n",
       "</table>\n",
       "<p>45120 rows × 9 columns</p>\n",
       "</div>"
      ],
      "text/plain": [
       "      start_date   user  missionId missionType missionSubType  period  target  \\\n",
       "0     2024-03-25  21190         30      TICKET         TICKET  CUSTOM       1   \n",
       "1     2024-03-25  18882         30      TICKET         TICKET  CUSTOM       1   \n",
       "2     2024-03-25  17304         14     MEASURE  TYPEFORM_BASE  CUSTOM       1   \n",
       "3     2024-03-25  17304         16       LEARN        JOURNEY  CUSTOM       1   \n",
       "4     2024-03-25  17304         30      TICKET         TICKET  CUSTOM       1   \n",
       "...          ...    ...        ...         ...            ...     ...     ...   \n",
       "45115 2024-04-20   8951         28       LEARN   DAILYEPISODE   DAILY       1   \n",
       "45116 2024-04-20   8951         32     CHECKIN        CHECKIN   DAILY       1   \n",
       "45117 2024-04-20  22776          3     CHECKIN        CHECKIN   DAILY       1   \n",
       "45118 2024-04-20  19837         28       LEARN   DAILYEPISODE   DAILY       1   \n",
       "45119 2024-04-20   6713         23     CHECKIN        CHECKIN   DAILY       1   \n",
       "\n",
       "                            title  satisfied  \n",
       "0                          ticket       True  \n",
       "1                          ticket       True  \n",
       "2      calculate_carbon_footprint       True  \n",
       "3                complete_journey       True  \n",
       "4                          ticket       True  \n",
       "...                           ...        ...  \n",
       "45115     watch_the_daily_episode       True  \n",
       "45116                  do_checkin       True  \n",
       "45117                  do_checkin       True  \n",
       "45118     watch_the_daily_episode       True  \n",
       "45119                  do_checkin       True  \n",
       "\n",
       "[45120 rows x 9 columns]"
      ]
     },
     "execution_count": 2,
     "metadata": {},
     "output_type": "execute_result"
    }
   ],
   "source": [
    "import pandas as pd\n",
    "import numpy as np\n",
    "\n",
    "df = pd.read_csv('./../data/earth_day_missions.csv', index_col=0, low_memory=False)\n",
    "df = df[~df['ignored']]\n",
    "df = df[['start_date', 'user', 'missionId', 'missionType', 'missionSubType', 'period', 'target', 'title', 'satisfied']]\n",
    "\n",
    "df['start_date'] = pd.to_datetime(df['start_date'])\n",
    "df['user'] = df['user'].astype('category').cat.codes\n",
    "df['missionId'] = df['missionId'].astype('category').cat.codes\n",
    "df['missionType'] = df['missionType'].astype('category')\n",
    "df['missionSubType'] = df['missionSubType'].astype('category')\n",
    "df['period'] = df['period'].astype('category')\n",
    "\n",
    "df = df.sort_values(by=['start_date'], ignore_index=True)\n",
    "\n",
    "df"
   ]
  },
  {
   "cell_type": "code",
   "execution_count": 3,
   "metadata": {},
   "outputs": [
    {
     "data": {
      "text/html": [
       "<div>\n",
       "<style scoped>\n",
       "    .dataframe tbody tr th:only-of-type {\n",
       "        vertical-align: middle;\n",
       "    }\n",
       "\n",
       "    .dataframe tbody tr th {\n",
       "        vertical-align: top;\n",
       "    }\n",
       "\n",
       "    .dataframe thead th {\n",
       "        text-align: right;\n",
       "    }\n",
       "</style>\n",
       "<table border=\"1\" class=\"dataframe\">\n",
       "  <thead>\n",
       "    <tr style=\"text-align: right;\">\n",
       "      <th></th>\n",
       "      <th></th>\n",
       "      <th></th>\n",
       "      <th></th>\n",
       "      <th></th>\n",
       "      <th>satisfied</th>\n",
       "      <th>False</th>\n",
       "      <th>True</th>\n",
       "    </tr>\n",
       "    <tr>\n",
       "      <th>missionId</th>\n",
       "      <th>title</th>\n",
       "      <th>missionType</th>\n",
       "      <th>missionSubType</th>\n",
       "      <th>period</th>\n",
       "      <th>target</th>\n",
       "      <th></th>\n",
       "      <th></th>\n",
       "    </tr>\n",
       "  </thead>\n",
       "  <tbody>\n",
       "    <tr>\n",
       "      <th>8</th>\n",
       "      <th>log_1_action</th>\n",
       "      <th>ACT</th>\n",
       "      <th>ALL</th>\n",
       "      <th>DAILY</th>\n",
       "      <th>1</th>\n",
       "      <td>0</td>\n",
       "      <td>636</td>\n",
       "    </tr>\n",
       "    <tr>\n",
       "      <th>24</th>\n",
       "      <th>log_2_action</th>\n",
       "      <th>ACT</th>\n",
       "      <th>ALL</th>\n",
       "      <th>DAILY</th>\n",
       "      <th>2</th>\n",
       "      <td>113</td>\n",
       "      <td>1087</td>\n",
       "    </tr>\n",
       "    <tr>\n",
       "      <th>18</th>\n",
       "      <th>log_3_action</th>\n",
       "      <th>ACT</th>\n",
       "      <th>ALL</th>\n",
       "      <th>DAILY</th>\n",
       "      <th>3</th>\n",
       "      <td>115</td>\n",
       "      <td>517</td>\n",
       "    </tr>\n",
       "    <tr>\n",
       "      <th>33</th>\n",
       "      <th>log_2_action2_consecutive</th>\n",
       "      <th>ACT</th>\n",
       "      <th>ALL</th>\n",
       "      <th>WEEKLY</th>\n",
       "      <th>2</th>\n",
       "      <td>1425</td>\n",
       "      <td>190</td>\n",
       "    </tr>\n",
       "    <tr>\n",
       "      <th>25</th>\n",
       "      <th>log_1_action_energy</th>\n",
       "      <th>ACT</th>\n",
       "      <th>ENERGY</th>\n",
       "      <th>DAILY</th>\n",
       "      <th>1</th>\n",
       "      <td>0</td>\n",
       "      <td>101</td>\n",
       "    </tr>\n",
       "    <tr>\n",
       "      <th>21</th>\n",
       "      <th>log_2_action_energy</th>\n",
       "      <th>ACT</th>\n",
       "      <th>ENERGY</th>\n",
       "      <th>DAILY</th>\n",
       "      <th>2</th>\n",
       "      <td>48</td>\n",
       "      <td>814</td>\n",
       "    </tr>\n",
       "    <tr>\n",
       "      <th>26</th>\n",
       "      <th>log_1_action_environment</th>\n",
       "      <th>ACT</th>\n",
       "      <th>ENVIRONMENT</th>\n",
       "      <th>DAILY</th>\n",
       "      <th>1</th>\n",
       "      <td>0</td>\n",
       "      <td>554</td>\n",
       "    </tr>\n",
       "    <tr>\n",
       "      <th>11</th>\n",
       "      <th>log_1_action_vegetarian</th>\n",
       "      <th>ACT</th>\n",
       "      <th>FIXED</th>\n",
       "      <th>DAILY</th>\n",
       "      <th>1</th>\n",
       "      <td>0</td>\n",
       "      <td>98</td>\n",
       "    </tr>\n",
       "    <tr>\n",
       "      <th>31</th>\n",
       "      <th>log_action_take5minutesshower</th>\n",
       "      <th>ACT</th>\n",
       "      <th>FIXED</th>\n",
       "      <th>DAILY</th>\n",
       "      <th>1</th>\n",
       "      <td>0</td>\n",
       "      <td>101</td>\n",
       "    </tr>\n",
       "    <tr>\n",
       "      <th>29</th>\n",
       "      <th>log_2_action_vegetarian</th>\n",
       "      <th>ACT</th>\n",
       "      <th>FIXED</th>\n",
       "      <th>WEEKLY</th>\n",
       "      <th>2</th>\n",
       "      <td>134</td>\n",
       "      <td>225</td>\n",
       "    </tr>\n",
       "    <tr>\n",
       "      <th>2</th>\n",
       "      <th>log_1_action_food</th>\n",
       "      <th>ACT</th>\n",
       "      <th>FOOD</th>\n",
       "      <th>DAILY</th>\n",
       "      <th>1</th>\n",
       "      <td>0</td>\n",
       "      <td>383</td>\n",
       "    </tr>\n",
       "    <tr>\n",
       "      <th>13</th>\n",
       "      <th>log_1_action_food</th>\n",
       "      <th>ACT</th>\n",
       "      <th>FOOD</th>\n",
       "      <th>DAILY</th>\n",
       "      <th>1</th>\n",
       "      <td>0</td>\n",
       "      <td>119</td>\n",
       "    </tr>\n",
       "    <tr>\n",
       "      <th>7</th>\n",
       "      <th>log_2_action_mobility</th>\n",
       "      <th>ACT</th>\n",
       "      <th>MOBILITY</th>\n",
       "      <th>WEEKLY</th>\n",
       "      <th>2</th>\n",
       "      <td>61</td>\n",
       "      <td>310</td>\n",
       "    </tr>\n",
       "    <tr>\n",
       "      <th>0</th>\n",
       "      <th>log_1_action_purchase</th>\n",
       "      <th>ACT</th>\n",
       "      <th>PURCHASE</th>\n",
       "      <th>DAILY</th>\n",
       "      <th>1</th>\n",
       "      <td>0</td>\n",
       "      <td>494</td>\n",
       "    </tr>\n",
       "    <tr>\n",
       "      <th>6</th>\n",
       "      <th>log_1_action_social</th>\n",
       "      <th>ACT</th>\n",
       "      <th>SOCIAL</th>\n",
       "      <th>DAILY</th>\n",
       "      <th>1</th>\n",
       "      <td>0</td>\n",
       "      <td>108</td>\n",
       "    </tr>\n",
       "    <tr>\n",
       "      <th>34</th>\n",
       "      <th>log_1_action_water</th>\n",
       "      <th>ACT</th>\n",
       "      <th>WATER</th>\n",
       "      <th>DAILY</th>\n",
       "      <th>1</th>\n",
       "      <td>0</td>\n",
       "      <td>184</td>\n",
       "    </tr>\n",
       "    <tr>\n",
       "      <th>35</th>\n",
       "      <th>log_2_action_water</th>\n",
       "      <th>ACT</th>\n",
       "      <th>WATER</th>\n",
       "      <th>DAILY</th>\n",
       "      <th>2</th>\n",
       "      <td>11</td>\n",
       "      <td>293</td>\n",
       "    </tr>\n",
       "    <tr>\n",
       "      <th>3</th>\n",
       "      <th>do_checkin</th>\n",
       "      <th>CHECKIN</th>\n",
       "      <th>CHECKIN</th>\n",
       "      <th>DAILY</th>\n",
       "      <th>1</th>\n",
       "      <td>0</td>\n",
       "      <td>169</td>\n",
       "    </tr>\n",
       "    <tr>\n",
       "      <th>5</th>\n",
       "      <th>do_checkin</th>\n",
       "      <th>CHECKIN</th>\n",
       "      <th>CHECKIN</th>\n",
       "      <th>DAILY</th>\n",
       "      <th>1</th>\n",
       "      <td>0</td>\n",
       "      <td>152</td>\n",
       "    </tr>\n",
       "    <tr>\n",
       "      <th>10</th>\n",
       "      <th>do_checkin</th>\n",
       "      <th>CHECKIN</th>\n",
       "      <th>CHECKIN</th>\n",
       "      <th>DAILY</th>\n",
       "      <th>1</th>\n",
       "      <td>0</td>\n",
       "      <td>212</td>\n",
       "    </tr>\n",
       "    <tr>\n",
       "      <th>12</th>\n",
       "      <th>do_checkin</th>\n",
       "      <th>CHECKIN</th>\n",
       "      <th>CHECKIN</th>\n",
       "      <th>DAILY</th>\n",
       "      <th>1</th>\n",
       "      <td>0</td>\n",
       "      <td>215</td>\n",
       "    </tr>\n",
       "    <tr>\n",
       "      <th>15</th>\n",
       "      <th>do_checkin</th>\n",
       "      <th>CHECKIN</th>\n",
       "      <th>CHECKIN</th>\n",
       "      <th>DAILY</th>\n",
       "      <th>1</th>\n",
       "      <td>0</td>\n",
       "      <td>112</td>\n",
       "    </tr>\n",
       "    <tr>\n",
       "      <th>17</th>\n",
       "      <th>do_checkin</th>\n",
       "      <th>CHECKIN</th>\n",
       "      <th>CHECKIN</th>\n",
       "      <th>DAILY</th>\n",
       "      <th>1</th>\n",
       "      <td>0</td>\n",
       "      <td>221</td>\n",
       "    </tr>\n",
       "    <tr>\n",
       "      <th>20</th>\n",
       "      <th>do_checkin</th>\n",
       "      <th>CHECKIN</th>\n",
       "      <th>CHECKIN</th>\n",
       "      <th>DAILY</th>\n",
       "      <th>1</th>\n",
       "      <td>0</td>\n",
       "      <td>158</td>\n",
       "    </tr>\n",
       "    <tr>\n",
       "      <th>22</th>\n",
       "      <th>do_checkin</th>\n",
       "      <th>CHECKIN</th>\n",
       "      <th>CHECKIN</th>\n",
       "      <th>DAILY</th>\n",
       "      <th>1</th>\n",
       "      <td>0</td>\n",
       "      <td>76</td>\n",
       "    </tr>\n",
       "    <tr>\n",
       "      <th>23</th>\n",
       "      <th>do_checkin</th>\n",
       "      <th>CHECKIN</th>\n",
       "      <th>CHECKIN</th>\n",
       "      <th>DAILY</th>\n",
       "      <th>1</th>\n",
       "      <td>0</td>\n",
       "      <td>137</td>\n",
       "    </tr>\n",
       "    <tr>\n",
       "      <th>32</th>\n",
       "      <th>do_checkin</th>\n",
       "      <th>CHECKIN</th>\n",
       "      <th>CHECKIN</th>\n",
       "      <th>DAILY</th>\n",
       "      <th>1</th>\n",
       "      <td>0</td>\n",
       "      <td>178</td>\n",
       "    </tr>\n",
       "    <tr>\n",
       "      <th>28</th>\n",
       "      <th>watch_the_daily_episode</th>\n",
       "      <th>LEARN</th>\n",
       "      <th>DAILYEPISODE</th>\n",
       "      <th>DAILY</th>\n",
       "      <th>1</th>\n",
       "      <td>0</td>\n",
       "      <td>4927</td>\n",
       "    </tr>\n",
       "    <tr>\n",
       "      <th>4</th>\n",
       "      <th>watch_the_daily_episode_2</th>\n",
       "      <th>LEARN</th>\n",
       "      <th>DAILYEPISODE</th>\n",
       "      <th>WEEKLY</th>\n",
       "      <th>2</th>\n",
       "      <td>376</td>\n",
       "      <td>72</td>\n",
       "    </tr>\n",
       "    <tr>\n",
       "      <th>19</th>\n",
       "      <th>watch_the_daily_episode_3</th>\n",
       "      <th>LEARN</th>\n",
       "      <th>DAILYEPISODE</th>\n",
       "      <th>WEEKLY</th>\n",
       "      <th>3</th>\n",
       "      <td>294</td>\n",
       "      <td>73</td>\n",
       "    </tr>\n",
       "    <tr>\n",
       "      <th>27</th>\n",
       "      <th>watch_the_daily_episode_3_consecutive</th>\n",
       "      <th>LEARN</th>\n",
       "      <th>DAILYEPISODE</th>\n",
       "      <th>WEEKLY</th>\n",
       "      <th>3</th>\n",
       "      <td>954</td>\n",
       "      <td>106</td>\n",
       "    </tr>\n",
       "    <tr>\n",
       "      <th>16</th>\n",
       "      <th>complete_journey</th>\n",
       "      <th>LEARN</th>\n",
       "      <th>JOURNEY</th>\n",
       "      <th>CUSTOM</th>\n",
       "      <th>1</th>\n",
       "      <td>0</td>\n",
       "      <td>997</td>\n",
       "    </tr>\n",
       "    <tr>\n",
       "      <th>14</th>\n",
       "      <th>calculate_carbon_footprint</th>\n",
       "      <th>MEASURE</th>\n",
       "      <th>TYPEFORM_BASE</th>\n",
       "      <th>CUSTOM</th>\n",
       "      <th>1</th>\n",
       "      <td>0</td>\n",
       "      <td>2003</td>\n",
       "    </tr>\n",
       "    <tr>\n",
       "      <th>1</th>\n",
       "      <th>fill_survey</th>\n",
       "      <th>SURVEY</th>\n",
       "      <th>SURVEY</th>\n",
       "      <th>WEEKLY</th>\n",
       "      <th>1</th>\n",
       "      <td>0</td>\n",
       "      <td>1338</td>\n",
       "    </tr>\n",
       "    <tr>\n",
       "      <th>9</th>\n",
       "      <th>fill_survey</th>\n",
       "      <th>SURVEY</th>\n",
       "      <th>SURVEY</th>\n",
       "      <th>WEEKLY</th>\n",
       "      <th>1</th>\n",
       "      <td>0</td>\n",
       "      <td>997</td>\n",
       "    </tr>\n",
       "    <tr>\n",
       "      <th>30</th>\n",
       "      <th>ticket</th>\n",
       "      <th>TICKET</th>\n",
       "      <th>TICKET</th>\n",
       "      <th>CUSTOM</th>\n",
       "      <th>1</th>\n",
       "      <td>0</td>\n",
       "      <td>23232</td>\n",
       "    </tr>\n",
       "  </tbody>\n",
       "</table>\n",
       "</div>"
      ],
      "text/plain": [
       "satisfied                                                                                 False  \\\n",
       "missionId title                                 missionType missionSubType period target          \n",
       "8         log_1_action                          ACT         ALL            DAILY  1           0   \n",
       "24        log_2_action                          ACT         ALL            DAILY  2         113   \n",
       "18        log_3_action                          ACT         ALL            DAILY  3         115   \n",
       "33        log_2_action2_consecutive             ACT         ALL            WEEKLY 2        1425   \n",
       "25        log_1_action_energy                   ACT         ENERGY         DAILY  1           0   \n",
       "21        log_2_action_energy                   ACT         ENERGY         DAILY  2          48   \n",
       "26        log_1_action_environment              ACT         ENVIRONMENT    DAILY  1           0   \n",
       "11        log_1_action_vegetarian               ACT         FIXED          DAILY  1           0   \n",
       "31        log_action_take5minutesshower         ACT         FIXED          DAILY  1           0   \n",
       "29        log_2_action_vegetarian               ACT         FIXED          WEEKLY 2         134   \n",
       "2         log_1_action_food                     ACT         FOOD           DAILY  1           0   \n",
       "13        log_1_action_food                     ACT         FOOD           DAILY  1           0   \n",
       "7         log_2_action_mobility                 ACT         MOBILITY       WEEKLY 2          61   \n",
       "0         log_1_action_purchase                 ACT         PURCHASE       DAILY  1           0   \n",
       "6         log_1_action_social                   ACT         SOCIAL         DAILY  1           0   \n",
       "34        log_1_action_water                    ACT         WATER          DAILY  1           0   \n",
       "35        log_2_action_water                    ACT         WATER          DAILY  2          11   \n",
       "3         do_checkin                            CHECKIN     CHECKIN        DAILY  1           0   \n",
       "5         do_checkin                            CHECKIN     CHECKIN        DAILY  1           0   \n",
       "10        do_checkin                            CHECKIN     CHECKIN        DAILY  1           0   \n",
       "12        do_checkin                            CHECKIN     CHECKIN        DAILY  1           0   \n",
       "15        do_checkin                            CHECKIN     CHECKIN        DAILY  1           0   \n",
       "17        do_checkin                            CHECKIN     CHECKIN        DAILY  1           0   \n",
       "20        do_checkin                            CHECKIN     CHECKIN        DAILY  1           0   \n",
       "22        do_checkin                            CHECKIN     CHECKIN        DAILY  1           0   \n",
       "23        do_checkin                            CHECKIN     CHECKIN        DAILY  1           0   \n",
       "32        do_checkin                            CHECKIN     CHECKIN        DAILY  1           0   \n",
       "28        watch_the_daily_episode               LEARN       DAILYEPISODE   DAILY  1           0   \n",
       "4         watch_the_daily_episode_2             LEARN       DAILYEPISODE   WEEKLY 2         376   \n",
       "19        watch_the_daily_episode_3             LEARN       DAILYEPISODE   WEEKLY 3         294   \n",
       "27        watch_the_daily_episode_3_consecutive LEARN       DAILYEPISODE   WEEKLY 3         954   \n",
       "16        complete_journey                      LEARN       JOURNEY        CUSTOM 1           0   \n",
       "14        calculate_carbon_footprint            MEASURE     TYPEFORM_BASE  CUSTOM 1           0   \n",
       "1         fill_survey                           SURVEY      SURVEY         WEEKLY 1           0   \n",
       "9         fill_survey                           SURVEY      SURVEY         WEEKLY 1           0   \n",
       "30        ticket                                TICKET      TICKET         CUSTOM 1           0   \n",
       "\n",
       "satisfied                                                                                 True   \n",
       "missionId title                                 missionType missionSubType period target         \n",
       "8         log_1_action                          ACT         ALL            DAILY  1         636  \n",
       "24        log_2_action                          ACT         ALL            DAILY  2        1087  \n",
       "18        log_3_action                          ACT         ALL            DAILY  3         517  \n",
       "33        log_2_action2_consecutive             ACT         ALL            WEEKLY 2         190  \n",
       "25        log_1_action_energy                   ACT         ENERGY         DAILY  1         101  \n",
       "21        log_2_action_energy                   ACT         ENERGY         DAILY  2         814  \n",
       "26        log_1_action_environment              ACT         ENVIRONMENT    DAILY  1         554  \n",
       "11        log_1_action_vegetarian               ACT         FIXED          DAILY  1          98  \n",
       "31        log_action_take5minutesshower         ACT         FIXED          DAILY  1         101  \n",
       "29        log_2_action_vegetarian               ACT         FIXED          WEEKLY 2         225  \n",
       "2         log_1_action_food                     ACT         FOOD           DAILY  1         383  \n",
       "13        log_1_action_food                     ACT         FOOD           DAILY  1         119  \n",
       "7         log_2_action_mobility                 ACT         MOBILITY       WEEKLY 2         310  \n",
       "0         log_1_action_purchase                 ACT         PURCHASE       DAILY  1         494  \n",
       "6         log_1_action_social                   ACT         SOCIAL         DAILY  1         108  \n",
       "34        log_1_action_water                    ACT         WATER          DAILY  1         184  \n",
       "35        log_2_action_water                    ACT         WATER          DAILY  2         293  \n",
       "3         do_checkin                            CHECKIN     CHECKIN        DAILY  1         169  \n",
       "5         do_checkin                            CHECKIN     CHECKIN        DAILY  1         152  \n",
       "10        do_checkin                            CHECKIN     CHECKIN        DAILY  1         212  \n",
       "12        do_checkin                            CHECKIN     CHECKIN        DAILY  1         215  \n",
       "15        do_checkin                            CHECKIN     CHECKIN        DAILY  1         112  \n",
       "17        do_checkin                            CHECKIN     CHECKIN        DAILY  1         221  \n",
       "20        do_checkin                            CHECKIN     CHECKIN        DAILY  1         158  \n",
       "22        do_checkin                            CHECKIN     CHECKIN        DAILY  1          76  \n",
       "23        do_checkin                            CHECKIN     CHECKIN        DAILY  1         137  \n",
       "32        do_checkin                            CHECKIN     CHECKIN        DAILY  1         178  \n",
       "28        watch_the_daily_episode               LEARN       DAILYEPISODE   DAILY  1        4927  \n",
       "4         watch_the_daily_episode_2             LEARN       DAILYEPISODE   WEEKLY 2          72  \n",
       "19        watch_the_daily_episode_3             LEARN       DAILYEPISODE   WEEKLY 3          73  \n",
       "27        watch_the_daily_episode_3_consecutive LEARN       DAILYEPISODE   WEEKLY 3         106  \n",
       "16        complete_journey                      LEARN       JOURNEY        CUSTOM 1         997  \n",
       "14        calculate_carbon_footprint            MEASURE     TYPEFORM_BASE  CUSTOM 1        2003  \n",
       "1         fill_survey                           SURVEY      SURVEY         WEEKLY 1        1338  \n",
       "9         fill_survey                           SURVEY      SURVEY         WEEKLY 1         997  \n",
       "30        ticket                                TICKET      TICKET         CUSTOM 1       23232  "
      ]
     },
     "execution_count": 3,
     "metadata": {},
     "output_type": "execute_result"
    }
   ],
   "source": [
    "summary = df.groupby(['missionId', 'title', 'missionType', 'missionSubType', 'period', 'target', 'satisfied'], observed=True).size().unstack(fill_value=0)\n",
    "summary.sort_index(level=[2, 3, 4, 5], inplace=True)\n",
    "\n",
    "summary"
   ]
  },
  {
   "cell_type": "code",
   "execution_count": 4,
   "metadata": {},
   "outputs": [],
   "source": [
    "import torch\n",
    "import torch.nn as nn\n",
    "import torch.optim as optim\n",
    "from torch.utils.data import DataLoader, Dataset\n",
    "from tqdm.auto import tqdm\n",
    "\n",
    "DEVICE = torch.device('cuda' if torch.cuda.is_available() else 'cpu')\n",
    "\n",
    "class LogisticRegression(nn.Module):\n",
    "    def __init__(self, num_users, num_items) -> None:\n",
    "        super().__init__()\n",
    "\n",
    "        self.user = nn.Embedding(num_users, 1)\n",
    "        self.item = nn.Embedding(num_items, 1)\n",
    "        self.bias = nn.Parameter(torch.zeros(1))\n",
    "        self.output = nn.Sigmoid()\n",
    "\n",
    "    def forward(self, user_id, item_id):\n",
    "        user = self.user(user_id)\n",
    "        item = self.item(item_id)\n",
    "        x = user + item + self.bias\n",
    "        x = self.output(x)\n",
    "        return x.view(-1)\n",
    "    \n",
    "    def fit(self, data_loader: DataLoader, num_epochs):\n",
    "        criterion = nn.BCELoss()\n",
    "        optimizer = optim.Adam(self.parameters(), lr=0.01)\n",
    "\n",
    "        for _ in (t := tqdm(range(num_epochs))):\n",
    "            self.train()\n",
    "            total_loss = 0\n",
    "\n",
    "            for d in (b := tqdm(data_loader, leave=False)):\n",
    "                d = d.to(DEVICE)\n",
    "                user = d[:, 0]\n",
    "                item = d[:, 1]\n",
    "                target = d[:, 2].float()\n",
    "\n",
    "                optimizer.zero_grad()\n",
    "                output = self(user, item)\n",
    "                loss = criterion(output, target)\n",
    "                loss.backward()\n",
    "                optimizer.step()\n",
    "                total_loss += loss.item()\n",
    "                b.set_postfix(loss=loss.item())\n",
    "\n",
    "            t.set_postfix(loss=total_loss / len(data_loader))\n",
    "    \n",
    "\n",
    "class LogisticRegressionDataset(Dataset):\n",
    "    def __init__(self, data) -> None:\n",
    "        super().__init__()\n",
    "\n",
    "        self.data = data\n",
    "\n",
    "    def __len__(self):\n",
    "        return len(self.data)\n",
    "\n",
    "    def __getitem__(self, idx):\n",
    "        row: pd.Series = self.data.iloc[idx]\n",
    "        row = torch.from_numpy(row.to_numpy()).long()\n",
    "        return row\n"
   ]
  },
  {
   "cell_type": "code",
   "execution_count": 5,
   "metadata": {},
   "outputs": [
    {
     "data": {
      "text/html": [
       "<div>\n",
       "<style scoped>\n",
       "    .dataframe tbody tr th:only-of-type {\n",
       "        vertical-align: middle;\n",
       "    }\n",
       "\n",
       "    .dataframe tbody tr th {\n",
       "        vertical-align: top;\n",
       "    }\n",
       "\n",
       "    .dataframe thead th {\n",
       "        text-align: right;\n",
       "    }\n",
       "</style>\n",
       "<table border=\"1\" class=\"dataframe\">\n",
       "  <thead>\n",
       "    <tr style=\"text-align: right;\">\n",
       "      <th></th>\n",
       "      <th>user</th>\n",
       "      <th>missionId</th>\n",
       "      <th>satisfied</th>\n",
       "    </tr>\n",
       "  </thead>\n",
       "  <tbody>\n",
       "    <tr>\n",
       "      <th>0</th>\n",
       "      <td>21190</td>\n",
       "      <td>30</td>\n",
       "      <td>1</td>\n",
       "    </tr>\n",
       "    <tr>\n",
       "      <th>1</th>\n",
       "      <td>18882</td>\n",
       "      <td>30</td>\n",
       "      <td>1</td>\n",
       "    </tr>\n",
       "    <tr>\n",
       "      <th>2</th>\n",
       "      <td>17304</td>\n",
       "      <td>14</td>\n",
       "      <td>1</td>\n",
       "    </tr>\n",
       "    <tr>\n",
       "      <th>3</th>\n",
       "      <td>17304</td>\n",
       "      <td>16</td>\n",
       "      <td>1</td>\n",
       "    </tr>\n",
       "    <tr>\n",
       "      <th>4</th>\n",
       "      <td>17304</td>\n",
       "      <td>30</td>\n",
       "      <td>1</td>\n",
       "    </tr>\n",
       "    <tr>\n",
       "      <th>...</th>\n",
       "      <td>...</td>\n",
       "      <td>...</td>\n",
       "      <td>...</td>\n",
       "    </tr>\n",
       "    <tr>\n",
       "      <th>41771</th>\n",
       "      <td>8951</td>\n",
       "      <td>28</td>\n",
       "      <td>1</td>\n",
       "    </tr>\n",
       "    <tr>\n",
       "      <th>41772</th>\n",
       "      <td>8951</td>\n",
       "      <td>32</td>\n",
       "      <td>1</td>\n",
       "    </tr>\n",
       "    <tr>\n",
       "      <th>41773</th>\n",
       "      <td>22776</td>\n",
       "      <td>3</td>\n",
       "      <td>1</td>\n",
       "    </tr>\n",
       "    <tr>\n",
       "      <th>41774</th>\n",
       "      <td>19837</td>\n",
       "      <td>28</td>\n",
       "      <td>1</td>\n",
       "    </tr>\n",
       "    <tr>\n",
       "      <th>41775</th>\n",
       "      <td>6713</td>\n",
       "      <td>23</td>\n",
       "      <td>1</td>\n",
       "    </tr>\n",
       "  </tbody>\n",
       "</table>\n",
       "<p>41776 rows × 3 columns</p>\n",
       "</div>"
      ],
      "text/plain": [
       "        user  missionId  satisfied\n",
       "0      21190         30          1\n",
       "1      18882         30          1\n",
       "2      17304         14          1\n",
       "3      17304         16          1\n",
       "4      17304         30          1\n",
       "...      ...        ...        ...\n",
       "41771   8951         28          1\n",
       "41772   8951         32          1\n",
       "41773  22776          3          1\n",
       "41774  19837         28          1\n",
       "41775   6713         23          1\n",
       "\n",
       "[41776 rows x 3 columns]"
      ]
     },
     "execution_count": 5,
     "metadata": {},
     "output_type": "execute_result"
    }
   ],
   "source": [
    "dataset = df[['user', 'missionId', 'satisfied']] \\\n",
    "    .drop_duplicates(subset=['user', 'missionId'], keep='last') \\\n",
    "    .astype(int) \\\n",
    "    .reset_index(drop=True)\n",
    "\n",
    "dataset"
   ]
  },
  {
   "cell_type": "code",
   "execution_count": 6,
   "metadata": {},
   "outputs": [
    {
     "data": {
      "application/vnd.jupyter.widget-view+json": {
       "model_id": "a845e9ba7a724e998c96802b31bfcb86",
       "version_major": 2,
       "version_minor": 0
      },
      "text/plain": [
       "  0%|          | 0/5 [00:00<?, ?it/s]"
      ]
     },
     "metadata": {},
     "output_type": "display_data"
    },
    {
     "data": {
      "application/vnd.jupyter.widget-view+json": {
       "model_id": "c90385896bd34fa69919372a1fd037c7",
       "version_major": 2,
       "version_minor": 0
      },
      "text/plain": [
       "  0%|          | 0/523 [00:00<?, ?it/s]"
      ]
     },
     "metadata": {},
     "output_type": "display_data"
    },
    {
     "data": {
      "application/vnd.jupyter.widget-view+json": {
       "model_id": "790398b28709404baa03bf3de5f00563",
       "version_major": 2,
       "version_minor": 0
      },
      "text/plain": [
       "  0%|          | 0/523 [00:00<?, ?it/s]"
      ]
     },
     "metadata": {},
     "output_type": "display_data"
    },
    {
     "data": {
      "application/vnd.jupyter.widget-view+json": {
       "model_id": "f42a9b5f54db40be80ef7ac772aa1388",
       "version_major": 2,
       "version_minor": 0
      },
      "text/plain": [
       "  0%|          | 0/523 [00:00<?, ?it/s]"
      ]
     },
     "metadata": {},
     "output_type": "display_data"
    },
    {
     "data": {
      "application/vnd.jupyter.widget-view+json": {
       "model_id": "c00ef5794c164974981f81c8bc26a96c",
       "version_major": 2,
       "version_minor": 0
      },
      "text/plain": [
       "  0%|          | 0/523 [00:00<?, ?it/s]"
      ]
     },
     "metadata": {},
     "output_type": "display_data"
    },
    {
     "data": {
      "application/vnd.jupyter.widget-view+json": {
       "model_id": "441b412b1cdb44ceb0f0c950b67dc28f",
       "version_major": 2,
       "version_minor": 0
      },
      "text/plain": [
       "  0%|          | 0/523 [00:00<?, ?it/s]"
      ]
     },
     "metadata": {},
     "output_type": "display_data"
    },
    {
     "data": {
      "application/vnd.jupyter.widget-view+json": {
       "model_id": "f137abf0e6de44c38233c04d743f100d",
       "version_major": 2,
       "version_minor": 0
      },
      "text/plain": [
       "  0%|          | 0/5 [00:00<?, ?it/s]"
      ]
     },
     "metadata": {},
     "output_type": "display_data"
    },
    {
     "data": {
      "application/vnd.jupyter.widget-view+json": {
       "model_id": "ab415899038746c9a17472b638a3e120",
       "version_major": 2,
       "version_minor": 0
      },
      "text/plain": [
       "  0%|          | 0/523 [00:00<?, ?it/s]"
      ]
     },
     "metadata": {},
     "output_type": "display_data"
    },
    {
     "data": {
      "application/vnd.jupyter.widget-view+json": {
       "model_id": "06512041815543eda990263805b4e245",
       "version_major": 2,
       "version_minor": 0
      },
      "text/plain": [
       "  0%|          | 0/523 [00:00<?, ?it/s]"
      ]
     },
     "metadata": {},
     "output_type": "display_data"
    },
    {
     "data": {
      "application/vnd.jupyter.widget-view+json": {
       "model_id": "db1eb6f41ca84e0ba2b469cf73c1a762",
       "version_major": 2,
       "version_minor": 0
      },
      "text/plain": [
       "  0%|          | 0/523 [00:00<?, ?it/s]"
      ]
     },
     "metadata": {},
     "output_type": "display_data"
    },
    {
     "data": {
      "application/vnd.jupyter.widget-view+json": {
       "model_id": "c885f2fcf7c2451eac203db0cde6a993",
       "version_major": 2,
       "version_minor": 0
      },
      "text/plain": [
       "  0%|          | 0/523 [00:00<?, ?it/s]"
      ]
     },
     "metadata": {},
     "output_type": "display_data"
    },
    {
     "data": {
      "application/vnd.jupyter.widget-view+json": {
       "model_id": "84905e56ad4044d9afae651465199ffa",
       "version_major": 2,
       "version_minor": 0
      },
      "text/plain": [
       "  0%|          | 0/523 [00:00<?, ?it/s]"
      ]
     },
     "metadata": {},
     "output_type": "display_data"
    },
    {
     "data": {
      "application/vnd.jupyter.widget-view+json": {
       "model_id": "8f4d64d86e234205b512cb20a9d94182",
       "version_major": 2,
       "version_minor": 0
      },
      "text/plain": [
       "  0%|          | 0/5 [00:00<?, ?it/s]"
      ]
     },
     "metadata": {},
     "output_type": "display_data"
    },
    {
     "data": {
      "application/vnd.jupyter.widget-view+json": {
       "model_id": "3a4e731f062943ca9b39d02600bb219a",
       "version_major": 2,
       "version_minor": 0
      },
      "text/plain": [
       "  0%|          | 0/523 [00:00<?, ?it/s]"
      ]
     },
     "metadata": {},
     "output_type": "display_data"
    },
    {
     "data": {
      "application/vnd.jupyter.widget-view+json": {
       "model_id": "da75711adf0a45c2912af91b84f2c430",
       "version_major": 2,
       "version_minor": 0
      },
      "text/plain": [
       "  0%|          | 0/523 [00:00<?, ?it/s]"
      ]
     },
     "metadata": {},
     "output_type": "display_data"
    },
    {
     "data": {
      "application/vnd.jupyter.widget-view+json": {
       "model_id": "78b3622cf7ee47908b02a4b7520e2a46",
       "version_major": 2,
       "version_minor": 0
      },
      "text/plain": [
       "  0%|          | 0/523 [00:00<?, ?it/s]"
      ]
     },
     "metadata": {},
     "output_type": "display_data"
    },
    {
     "data": {
      "application/vnd.jupyter.widget-view+json": {
       "model_id": "8f81089d36f64f2aba24177994823d73",
       "version_major": 2,
       "version_minor": 0
      },
      "text/plain": [
       "  0%|          | 0/523 [00:00<?, ?it/s]"
      ]
     },
     "metadata": {},
     "output_type": "display_data"
    },
    {
     "data": {
      "application/vnd.jupyter.widget-view+json": {
       "model_id": "1cdc1577d6df4566950921aebc356718",
       "version_major": 2,
       "version_minor": 0
      },
      "text/plain": [
       "  0%|          | 0/523 [00:00<?, ?it/s]"
      ]
     },
     "metadata": {},
     "output_type": "display_data"
    },
    {
     "data": {
      "application/vnd.jupyter.widget-view+json": {
       "model_id": "326a1ffe7587431781982c3f7cdab5d6",
       "version_major": 2,
       "version_minor": 0
      },
      "text/plain": [
       "  0%|          | 0/5 [00:00<?, ?it/s]"
      ]
     },
     "metadata": {},
     "output_type": "display_data"
    },
    {
     "data": {
      "application/vnd.jupyter.widget-view+json": {
       "model_id": "22daf2cf7d2c4b6582fb31465284e403",
       "version_major": 2,
       "version_minor": 0
      },
      "text/plain": [
       "  0%|          | 0/523 [00:00<?, ?it/s]"
      ]
     },
     "metadata": {},
     "output_type": "display_data"
    },
    {
     "data": {
      "application/vnd.jupyter.widget-view+json": {
       "model_id": "0d723a2ba2604ef3a2da406608649a1e",
       "version_major": 2,
       "version_minor": 0
      },
      "text/plain": [
       "  0%|          | 0/523 [00:00<?, ?it/s]"
      ]
     },
     "metadata": {},
     "output_type": "display_data"
    },
    {
     "data": {
      "application/vnd.jupyter.widget-view+json": {
       "model_id": "523febf9e74b48109a8c1c3d6f16f394",
       "version_major": 2,
       "version_minor": 0
      },
      "text/plain": [
       "  0%|          | 0/523 [00:00<?, ?it/s]"
      ]
     },
     "metadata": {},
     "output_type": "display_data"
    },
    {
     "data": {
      "application/vnd.jupyter.widget-view+json": {
       "model_id": "a22f24d1b4704c46a7299fc722ff74e1",
       "version_major": 2,
       "version_minor": 0
      },
      "text/plain": [
       "  0%|          | 0/523 [00:00<?, ?it/s]"
      ]
     },
     "metadata": {},
     "output_type": "display_data"
    },
    {
     "data": {
      "application/vnd.jupyter.widget-view+json": {
       "model_id": "b49565e0a2bc4184b539043e537aa597",
       "version_major": 2,
       "version_minor": 0
      },
      "text/plain": [
       "  0%|          | 0/523 [00:00<?, ?it/s]"
      ]
     },
     "metadata": {},
     "output_type": "display_data"
    },
    {
     "data": {
      "application/vnd.jupyter.widget-view+json": {
       "model_id": "ab4080b37d9f40e49e40531829e23436",
       "version_major": 2,
       "version_minor": 0
      },
      "text/plain": [
       "  0%|          | 0/5 [00:00<?, ?it/s]"
      ]
     },
     "metadata": {},
     "output_type": "display_data"
    },
    {
     "data": {
      "application/vnd.jupyter.widget-view+json": {
       "model_id": "bff0c7d5aac74622ac0df091b547dc4e",
       "version_major": 2,
       "version_minor": 0
      },
      "text/plain": [
       "  0%|          | 0/523 [00:00<?, ?it/s]"
      ]
     },
     "metadata": {},
     "output_type": "display_data"
    },
    {
     "data": {
      "application/vnd.jupyter.widget-view+json": {
       "model_id": "6d9b7d1760554765b2f01f8a8a2d0173",
       "version_major": 2,
       "version_minor": 0
      },
      "text/plain": [
       "  0%|          | 0/523 [00:00<?, ?it/s]"
      ]
     },
     "metadata": {},
     "output_type": "display_data"
    },
    {
     "data": {
      "application/vnd.jupyter.widget-view+json": {
       "model_id": "941dd2e916054be4be953a2023823ed3",
       "version_major": 2,
       "version_minor": 0
      },
      "text/plain": [
       "  0%|          | 0/523 [00:00<?, ?it/s]"
      ]
     },
     "metadata": {},
     "output_type": "display_data"
    },
    {
     "data": {
      "application/vnd.jupyter.widget-view+json": {
       "model_id": "6ab7c84bd80c46a991b8d587417a984f",
       "version_major": 2,
       "version_minor": 0
      },
      "text/plain": [
       "  0%|          | 0/523 [00:00<?, ?it/s]"
      ]
     },
     "metadata": {},
     "output_type": "display_data"
    },
    {
     "data": {
      "application/vnd.jupyter.widget-view+json": {
       "model_id": "ed54a70b7b5141b283a72e4f6b425b28",
       "version_major": 2,
       "version_minor": 0
      },
      "text/plain": [
       "  0%|          | 0/523 [00:00<?, ?it/s]"
      ]
     },
     "metadata": {},
     "output_type": "display_data"
    },
    {
     "data": {
      "text/html": [
       "<div>\n",
       "<style scoped>\n",
       "    .dataframe tbody tr th:only-of-type {\n",
       "        vertical-align: middle;\n",
       "    }\n",
       "\n",
       "    .dataframe tbody tr th {\n",
       "        vertical-align: top;\n",
       "    }\n",
       "\n",
       "    .dataframe thead th {\n",
       "        text-align: right;\n",
       "    }\n",
       "</style>\n",
       "<table border=\"1\" class=\"dataframe\">\n",
       "  <thead>\n",
       "    <tr style=\"text-align: right;\">\n",
       "      <th></th>\n",
       "      <th>roc_auc</th>\n",
       "      <th>roc_auc_baseline</th>\n",
       "      <th>pr_auc</th>\n",
       "      <th>pr_auc_baseline</th>\n",
       "    </tr>\n",
       "  </thead>\n",
       "  <tbody>\n",
       "    <tr>\n",
       "      <th>0</th>\n",
       "      <td>0.9925</td>\n",
       "      <td>0.5</td>\n",
       "      <td>0.9993</td>\n",
       "      <td>0.9579</td>\n",
       "    </tr>\n",
       "    <tr>\n",
       "      <th>1</th>\n",
       "      <td>0.9928</td>\n",
       "      <td>0.5</td>\n",
       "      <td>0.9993</td>\n",
       "      <td>0.9579</td>\n",
       "    </tr>\n",
       "    <tr>\n",
       "      <th>2</th>\n",
       "      <td>0.9927</td>\n",
       "      <td>0.5</td>\n",
       "      <td>0.9993</td>\n",
       "      <td>0.9579</td>\n",
       "    </tr>\n",
       "    <tr>\n",
       "      <th>3</th>\n",
       "      <td>0.9934</td>\n",
       "      <td>0.5</td>\n",
       "      <td>0.9994</td>\n",
       "      <td>0.9579</td>\n",
       "    </tr>\n",
       "    <tr>\n",
       "      <th>4</th>\n",
       "      <td>0.9923</td>\n",
       "      <td>0.5</td>\n",
       "      <td>0.9993</td>\n",
       "      <td>0.9579</td>\n",
       "    </tr>\n",
       "  </tbody>\n",
       "</table>\n",
       "</div>"
      ],
      "text/plain": [
       "   roc_auc  roc_auc_baseline  pr_auc  pr_auc_baseline\n",
       "0   0.9925               0.5  0.9993           0.9579\n",
       "1   0.9928               0.5  0.9993           0.9579\n",
       "2   0.9927               0.5  0.9993           0.9579\n",
       "3   0.9934               0.5  0.9994           0.9579\n",
       "4   0.9923               0.5  0.9993           0.9579"
      ]
     },
     "execution_count": 6,
     "metadata": {},
     "output_type": "execute_result"
    }
   ],
   "source": [
    "from sklearn.model_selection import StratifiedKFold\n",
    "from sklearn.metrics import roc_curve, precision_recall_curve, auc\n",
    "\n",
    "skf = StratifiedKFold(n_splits=5, shuffle=True, random_state=42)\n",
    "metrics = []\n",
    "\n",
    "for train_index, test_index in skf.split(np.zeros(len(dataset)), dataset['satisfied']):\n",
    "    train_dataset = LogisticRegressionDataset(dataset.loc[train_index, ['user', 'missionId', 'satisfied']])\n",
    "    test_tensor = torch.from_numpy(dataset.loc[test_index, ['user', 'missionId']].to_numpy()).long().to(DEVICE)\n",
    "\n",
    "    lr = LogisticRegression(dataset['user'].nunique(), dataset['missionId'].nunique()).to(DEVICE)\n",
    "    train_loader = DataLoader(train_dataset, batch_size=64, shuffle=True)\n",
    "    lr.fit(train_loader, 5)\n",
    "\n",
    "    lr.eval()\n",
    "    with torch.no_grad():\n",
    "        output = lr(test_tensor[:, 0], test_tensor[:, 1]).cpu().numpy()\n",
    "    \n",
    "    dataset.loc[test_index, 'prediction'] = output\n",
    "    \n",
    "    all_ones = np.ones_like(output)\n",
    "    fpr, tpr, _ = roc_curve(dataset.loc[test_index, 'satisfied'], dataset.loc[test_index, 'prediction'])\n",
    "    fpr_baseline, tpr_baseline, _ = roc_curve(dataset.loc[test_index, 'satisfied'], all_ones)\n",
    "\n",
    "    precision, recall, _ = precision_recall_curve(dataset.loc[test_index, 'satisfied'], dataset.loc[test_index, 'prediction'])\n",
    "    precision_baseline, recall_baseline, _ = precision_recall_curve(dataset.loc[test_index, 'satisfied'], all_ones)\n",
    "\n",
    "    metrics.append({\n",
    "        'roc_auc': auc(fpr, tpr),\n",
    "        'roc_auc_baseline': auc(fpr_baseline, tpr_baseline),\n",
    "        'pr_auc': auc(recall, precision),\n",
    "        'pr_auc_baseline': auc(recall_baseline, precision_baseline),\n",
    "    })\n",
    "\n",
    "metrics = pd.DataFrame(metrics)\n",
    "metrics.round(4)"
   ]
  },
  {
   "cell_type": "code",
   "execution_count": 7,
   "metadata": {},
   "outputs": [
    {
     "data": {
      "image/png": "[encoded data removed]",
      "text/plain": [
       "<Figure size 1000x500 with 2 Axes>"
      ]
     },
     "metadata": {},
     "output_type": "display_data"
    }
   ],
   "source": [
    "from matplotlib import pyplot as plt\n",
    "\n",
    "roc_auc = metrics['roc_auc'].mean()\n",
    "pr_auc = metrics['pr_auc'].mean()\n",
    "\n",
    "roc_auc_baseline = metrics['roc_auc_baseline'].mean()\n",
    "pr_auc_baseline = metrics['pr_auc_baseline'].mean()\n",
    "\n",
    "plt.figure(figsize=(10, 5))\n",
    "plt.subplot(1, 2, 1)\n",
    "plt.plot(fpr, tpr, label=f'ROC AUC = {roc_auc:.2f}')\n",
    "plt.plot(fpr_baseline, tpr_baseline, label=f'ROC AUC Baseline = {roc_auc_baseline:.2f}')\n",
    "plt.plot([0, 1], [0, 1], 'k--')\n",
    "plt.xlabel('False Positive Rate')\n",
    "plt.ylabel('True Positive Rate')\n",
    "plt.legend()\n",
    "plt.title('ROC Curve')\n",
    "\n",
    "plt.subplot(1, 2, 2)\n",
    "plt.plot(recall, precision, label=f'PR AUC = {pr_auc:.2f}')\n",
    "plt.plot(recall_baseline, precision_baseline, label=f'PR AUC Baseline = {pr_auc_baseline:.2f}')\n",
    "plt.hlines(y=dataset['satisfied'].mean(), xmin=0, xmax=1, linestyles='dashed', colors='black', label=f'Baseline {dataset[\"satisfied\"].mean():.2f}')\n",
    "plt.xlim([0, 1.05])\n",
    "plt.ylim([0, 1.05])\n",
    "plt.xlabel('Recall')\n",
    "plt.ylabel('Precision')\n",
    "plt.legend()\n",
    "plt.title('Precision-Recall Curve')\n",
    "\n",
    "plt.tight_layout()\n",
    "plt.show()"
   ]
  }
 ],
 "metadata": {
  "kernelspec": {
   "display_name": "Python 3",
   "language": "python",
   "name": "python3"
  },
  "language_info": {
   "codemirror_mode": {
    "name": "ipython",
    "version": 3
   },
   "file_extension": ".py",
   "mimetype": "text/x-python",
   "name": "python",
   "nbconvert_exporter": "python",
   "pygments_lexer": "ipython3",
   "version": "3.12.6"
  }
 },
 "nbformat": 4,
 "nbformat_minor": 2
}
