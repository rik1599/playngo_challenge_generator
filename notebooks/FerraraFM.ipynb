{
 "cells": [
  {
   "cell_type": "code",
   "execution_count": null,
   "metadata": {},
   "outputs": [],
   "source": [
    "import sys\n",
    "sys.path.append('..')"
   ]
  },
  {
   "cell_type": "code",
   "execution_count": null,
   "metadata": {},
   "outputs": [],
   "source": [
    "import json\n",
    "\n",
    "file = open('../data/Ferrara2023-citizens-individualChallenges.json')\n",
    "file = [json.loads(line) for line in file]\n",
    "filtered_data = [{\n",
    "    'user': data['playerId'],\n",
    "    'start': data['concept']['start'],\n",
    "    'counter': data['concept']['fields']['counterName'],\n",
    "    'target': data['concept']['fields']['target'],\n",
    "    'periodTarget': data['concept']['fields']['periodTarget'],\n",
    "    'completed': data['concept']['completed'],\n",
    "} for data in file]"
   ]
  },
  {
   "cell_type": "code",
   "execution_count": null,
   "metadata": {},
   "outputs": [],
   "source": [
    "import pandas as pd\n",
    "import numpy as np\n",
    "\n",
    "\n",
    "df = pd.DataFrame(filtered_data)\n",
    "df.dropna(subset=['counter'], inplace=True)\n",
    "df.fillna(0, inplace=True)\n",
    "df['target'] = df['target'].astype(int)\n",
    "df['periodTarget'] = df['periodTarget'].astype(int)\n",
    "\n",
    "df['start'] = pd.to_datetime(df['start'])\n",
    "df['month'] = df['start'].dt.strftime('%B')\n",
    "df = df[df['start'] < '2023-09-24'] # Last week of data is incomplete\n",
    "\n",
    "df"
   ]
  },
  {
   "cell_type": "code",
   "execution_count": null,
   "metadata": {},
   "outputs": [],
   "source": [
    "import matplotlib.pyplot as plt\n",
    "\n",
    "_, ax = plt.subplots(1, 2, figsize=(14, 6))\n",
    "\n",
    "df['completed'].value_counts().plot(kind='bar', ax=ax[0])\n",
    "df.groupby('start').size().plot(ax=ax[1])\n",
    "\n",
    "ax2 = ax[1].twiny()\n",
    "df.groupby(['start', 'completed']).size().unstack().plot(kind='bar', ax=ax2, color=['red', 'green'])\n",
    "ax2.set_xticks([])\n",
    "\n",
    "plt.show()"
   ]
  },
  {
   "cell_type": "code",
   "execution_count": null,
   "metadata": {},
   "outputs": [],
   "source": [
    "from sklearn.preprocessing import OrdinalEncoder\n",
    "\n",
    "FEATURES = ['user', 'challenge', 'month']\n",
    "\n",
    "dataset = df[[\n",
    "    'start',\n",
    "    *FEATURES,\n",
    "    'completed'\n",
    "]].copy()\n",
    "\n",
    "dataset.sort_values(by=['start', 'user'], inplace=True, ignore_index=True)\n",
    "\n",
    "encoder = OrdinalEncoder()\n",
    "_ = encoder.fit_transform(dataset.drop(columns=['start', 'completed']), dataset['completed'])\n",
    "features_dims = np.array([len(enc) for enc in encoder.categories_])\n",
    "num_features = sum(features_dims)\n",
    "\n",
    "print(features_dims)\n",
    "num_features"
   ]
  },
  {
   "cell_type": "code",
   "execution_count": null,
   "metadata": {},
   "outputs": [],
   "source": [
    "def train_test_split(df: pd.DataFrame):\n",
    "    dates = np.sort(df['start'].unique())\n",
    "\n",
    "    test = df[df['start'].isin(dates[-2:])]\n",
    "    return test\n",
    "\n",
    "dataset.sort_values(by=['start'], inplace=True)\n",
    "test = dataset.groupby('user').apply(train_test_split, include_groups=False).reset_index().set_index('level_1')\n",
    "train = dataset.drop(test.index)\n",
    "\n",
    "train.drop(columns=['start'], inplace=True)\n",
    "test.drop(columns=['start'], inplace=True)\n",
    "\n",
    "y_train = train.pop('completed').values\n",
    "y_test = test.pop('completed').values\n",
    "\n",
    "X_train = encoder.transform(train)\n",
    "X_test = encoder.transform(test)"
   ]
  },
  {
   "cell_type": "code",
   "execution_count": null,
   "metadata": {},
   "outputs": [],
   "source": [
    "from src.FactorizationMachine import TwoWayFMDataset, TwoWayFM, fit, predict\n",
    "\n",
    "train_dataset = TwoWayFMDataset(X_train, features_dims, y_train)\n",
    "test_dataset = TwoWayFMDataset(X_test, features_dims)\n",
    "\n",
    "model = TwoWayFM(num_features, 16)\n",
    "\n",
    "fit(model, train_dataset, 10, 16)\n",
    "\n",
    "y_pred = predict(model, test_dataset)"
   ]
  },
  {
   "cell_type": "code",
   "execution_count": null,
   "metadata": {},
   "outputs": [],
   "source": [
    "from sklearn.metrics import roc_curve, auc, precision_recall_curve\n",
    "from matplotlib import pyplot as plt\n",
    "\n",
    "fig, (ax1, ax2) = plt.subplots(1, 2, figsize=(14, 6))\n",
    "\n",
    "fpr, tpr, _ = roc_curve(y_test, y_pred)\n",
    "ax1.plot(fpr, tpr)\n",
    "ax1.set_xlabel('False Positive Rate')\n",
    "ax1.set_ylabel('True Positive Rate')\n",
    "ax1.set_title('ROC Curve')\n",
    "ax1.plot([0, 1], [0, 1], 'k--')\n",
    "\n",
    "precision, recall, _ = precision_recall_curve(y_test, y_pred)\n",
    "ax2.plot(recall, precision)\n",
    "ax2.set_xlabel('Recall')\n",
    "ax2.set_ylabel('Precision')\n",
    "ax2.set_title('Precision-Recall Curve')\n",
    "\n",
    "plt.show()\n",
    "\n",
    "print('ROC AUC score', auc(fpr, tpr).round(2))\n",
    "print('Precision-Recall AUC score', auc(recall, precision).round(2))"
   ]
  },
  {
   "cell_type": "code",
   "execution_count": null,
   "metadata": {},
   "outputs": [],
   "source": [
    "from sklearn.metrics import classification_report\n",
    "\n",
    "y_pred = np.array(y_pred) > 0.5\n",
    "\n",
    "print(classification_report(y_test, y_pred))"
   ]
  },
  {
   "cell_type": "code",
   "execution_count": null,
   "metadata": {},
   "outputs": [],
   "source": [
    "from itertools import product\n",
    "\n",
    "queries = list(product(\n",
    "    range(len(encoder.categories_[0])),\n",
    "    range(len(encoder.categories_[1])),\n",
    "    [5]\n",
    "))\n",
    "\n",
    "queries = TwoWayFMDataset(queries, features_dims)\n",
    "\n",
    "predictions = predict(model, queries)\n",
    "\n",
    "rec_df = pd.DataFrame(queries.X, columns=FEATURES)\n",
    "\n",
    "rec_df['rating'] = predictions\n",
    "\n",
    "rec_df[FEATURES] = encoder.inverse_transform(rec_df[FEATURES])\n",
    "rec_df['counter'] = rec_df['challenge'].str.split('/').str[0]\n",
    "rec_df"
   ]
  },
  {
   "cell_type": "code",
   "execution_count": null,
   "metadata": {},
   "outputs": [],
   "source": [
    "top_k = rec_df.groupby(['user', 'counter']).apply(lambda x: x.nlargest(5, 'rating'), include_groups=False).reset_index()\n",
    "top_k"
   ]
  },
  {
   "cell_type": "code",
   "execution_count": null,
   "metadata": {},
   "outputs": [],
   "source": [
    "train['completed'] = y_train\n",
    "\n",
    "train[train['user'] == 'u_0160059b315d4a9087e16cc31f7c7695']"
   ]
  }
 ],
 "metadata": {
  "kernelspec": {
   "display_name": "Python 3",
   "language": "python",
   "name": "python3"
  },
  "language_info": {
   "codemirror_mode": {
    "name": "ipython",
    "version": 3
   },
   "file_extension": ".py",
   "mimetype": "text/x-python",
   "name": "python",
   "nbconvert_exporter": "python",
   "pygments_lexer": "ipython3",
   "version": "3.10.14"
  }
 },
 "nbformat": 4,
 "nbformat_minor": 2
}
