{
 "cells": [
  {
   "cell_type": "code",
   "execution_count": 1,
   "metadata": {},
   "outputs": [
    {
     "data": {
      "text/html": [
       "<div>\n",
       "<style scoped>\n",
       "    .dataframe tbody tr th:only-of-type {\n",
       "        vertical-align: middle;\n",
       "    }\n",
       "\n",
       "    .dataframe tbody tr th {\n",
       "        vertical-align: top;\n",
       "    }\n",
       "\n",
       "    .dataframe thead th {\n",
       "        text-align: right;\n",
       "    }\n",
       "</style>\n",
       "<table border=\"1\" class=\"dataframe\">\n",
       "  <thead>\n",
       "    <tr style=\"text-align: right;\">\n",
       "      <th></th>\n",
       "      <th>user_id</th>\n",
       "      <th>counter</th>\n",
       "      <th>target</th>\n",
       "      <th>periodTarget</th>\n",
       "      <th>start</th>\n",
       "      <th>completed</th>\n",
       "      <th>discrimination</th>\n",
       "    </tr>\n",
       "  </thead>\n",
       "  <tbody>\n",
       "    <tr>\n",
       "      <th>0</th>\n",
       "      <td>u_0bea6988-bd00-4aa6-a456-4285744356ee</td>\n",
       "      <td>Walk_Km</td>\n",
       "      <td>1</td>\n",
       "      <td>1</td>\n",
       "      <td>2023-04-23 22:00:00</td>\n",
       "      <td>True</td>\n",
       "      <td>0.016393</td>\n",
       "    </tr>\n",
       "    <tr>\n",
       "      <th>1</th>\n",
       "      <td>u_f4b95ec9-5f53-48d8-8adf-fa61be00c967</td>\n",
       "      <td>green leaves_repetitive</td>\n",
       "      <td>30</td>\n",
       "      <td>2</td>\n",
       "      <td>2023-04-23 22:00:00</td>\n",
       "      <td>True</td>\n",
       "      <td>0.038314</td>\n",
       "    </tr>\n",
       "    <tr>\n",
       "      <th>2</th>\n",
       "      <td>u_f2d8d95d-6cc9-4e8e-b97d-88d0c1b0ae27</td>\n",
       "      <td>green leaves_repetitive</td>\n",
       "      <td>30</td>\n",
       "      <td>2</td>\n",
       "      <td>2023-04-23 22:00:00</td>\n",
       "      <td>True</td>\n",
       "      <td>0.038314</td>\n",
       "    </tr>\n",
       "    <tr>\n",
       "      <th>3</th>\n",
       "      <td>u_f2d8d95d-6cc9-4e8e-b97d-88d0c1b0ae27</td>\n",
       "      <td>Walk_Km</td>\n",
       "      <td>1</td>\n",
       "      <td>1</td>\n",
       "      <td>2023-04-23 22:00:00</td>\n",
       "      <td>True</td>\n",
       "      <td>0.016393</td>\n",
       "    </tr>\n",
       "    <tr>\n",
       "      <th>4</th>\n",
       "      <td>u_e4a7a7fcd26644e9961e3e05bf98454e</td>\n",
       "      <td>green leaves_repetitive</td>\n",
       "      <td>30</td>\n",
       "      <td>2</td>\n",
       "      <td>2023-04-23 22:00:00</td>\n",
       "      <td>True</td>\n",
       "      <td>0.038314</td>\n",
       "    </tr>\n",
       "    <tr>\n",
       "      <th>...</th>\n",
       "      <td>...</td>\n",
       "      <td>...</td>\n",
       "      <td>...</td>\n",
       "      <td>...</td>\n",
       "      <td>...</td>\n",
       "      <td>...</td>\n",
       "      <td>...</td>\n",
       "    </tr>\n",
       "    <tr>\n",
       "      <th>5839</th>\n",
       "      <td>u_54061e0911df4785a154a10fdf6def06</td>\n",
       "      <td>green leaves_repetitive</td>\n",
       "      <td>1</td>\n",
       "      <td>5</td>\n",
       "      <td>2023-09-10 22:00:00</td>\n",
       "      <td>False</td>\n",
       "      <td>0.003193</td>\n",
       "    </tr>\n",
       "    <tr>\n",
       "      <th>5840</th>\n",
       "      <td>u_54061e0911df4785a154a10fdf6def06</td>\n",
       "      <td>Walk_Km</td>\n",
       "      <td>1</td>\n",
       "      <td>1</td>\n",
       "      <td>2023-09-10 22:00:00</td>\n",
       "      <td>False</td>\n",
       "      <td>0.016393</td>\n",
       "    </tr>\n",
       "    <tr>\n",
       "      <th>5841</th>\n",
       "      <td>u_53b60c2f-f860-47ef-a905-7ee29bea6494</td>\n",
       "      <td>green leaves_repetitive</td>\n",
       "      <td>5</td>\n",
       "      <td>6</td>\n",
       "      <td>2023-09-10 22:00:00</td>\n",
       "      <td>True</td>\n",
       "      <td>0.019157</td>\n",
       "    </tr>\n",
       "    <tr>\n",
       "      <th>5842</th>\n",
       "      <td>u_613e047decb94956a13fd01c7ddb0252</td>\n",
       "      <td>green leaves_repetitive</td>\n",
       "      <td>3</td>\n",
       "      <td>5</td>\n",
       "      <td>2023-09-10 22:00:00</td>\n",
       "      <td>False</td>\n",
       "      <td>0.009579</td>\n",
       "    </tr>\n",
       "    <tr>\n",
       "      <th>5843</th>\n",
       "      <td>u_fa4965a5298e44e985afad963ee4acc8</td>\n",
       "      <td>green leaves_repetitive</td>\n",
       "      <td>7</td>\n",
       "      <td>6</td>\n",
       "      <td>2023-09-10 22:00:00</td>\n",
       "      <td>False</td>\n",
       "      <td>0.026820</td>\n",
       "    </tr>\n",
       "  </tbody>\n",
       "</table>\n",
       "<p>5844 rows × 7 columns</p>\n",
       "</div>"
      ],
      "text/plain": [
       "                                     user_id                  counter  target  \\\n",
       "0     u_0bea6988-bd00-4aa6-a456-4285744356ee                  Walk_Km       1   \n",
       "1     u_f4b95ec9-5f53-48d8-8adf-fa61be00c967  green leaves_repetitive      30   \n",
       "2     u_f2d8d95d-6cc9-4e8e-b97d-88d0c1b0ae27  green leaves_repetitive      30   \n",
       "3     u_f2d8d95d-6cc9-4e8e-b97d-88d0c1b0ae27                  Walk_Km       1   \n",
       "4         u_e4a7a7fcd26644e9961e3e05bf98454e  green leaves_repetitive      30   \n",
       "...                                      ...                      ...     ...   \n",
       "5839      u_54061e0911df4785a154a10fdf6def06  green leaves_repetitive       1   \n",
       "5840      u_54061e0911df4785a154a10fdf6def06                  Walk_Km       1   \n",
       "5841  u_53b60c2f-f860-47ef-a905-7ee29bea6494  green leaves_repetitive       5   \n",
       "5842      u_613e047decb94956a13fd01c7ddb0252  green leaves_repetitive       3   \n",
       "5843      u_fa4965a5298e44e985afad963ee4acc8  green leaves_repetitive       7   \n",
       "\n",
       "      periodTarget               start  completed  discrimination  \n",
       "0                1 2023-04-23 22:00:00       True        0.016393  \n",
       "1                2 2023-04-23 22:00:00       True        0.038314  \n",
       "2                2 2023-04-23 22:00:00       True        0.038314  \n",
       "3                1 2023-04-23 22:00:00       True        0.016393  \n",
       "4                2 2023-04-23 22:00:00       True        0.038314  \n",
       "...            ...                 ...        ...             ...  \n",
       "5839             5 2023-09-10 22:00:00      False        0.003193  \n",
       "5840             1 2023-09-10 22:00:00      False        0.016393  \n",
       "5841             6 2023-09-10 22:00:00       True        0.019157  \n",
       "5842             5 2023-09-10 22:00:00      False        0.009579  \n",
       "5843             6 2023-09-10 22:00:00      False        0.026820  \n",
       "\n",
       "[5844 rows x 7 columns]"
      ]
     },
     "execution_count": 1,
     "metadata": {},
     "output_type": "execute_result"
    }
   ],
   "source": [
    "import json\n",
    "import pandas as pd\n",
    "import numpy as np\n",
    "\n",
    "data = [json.loads(line) for line in open('../data/Ferrara2023-citizens-individualChallenges.json')]\n",
    "data = [d for d in data if d['concept']['modelName'] != 'survey' and d['concept']['state'] in ['COMPLETED', 'FAILED']]\n",
    "filtered_data = [\n",
    "    {\n",
    "        'user_id': d['playerId'],\n",
    "        'counter': d['concept']['fields']['counterName'],\n",
    "        'target': int(d['concept']['fields']['target']),\n",
    "        'periodTarget': d['concept']['fields']['periodTarget'],\n",
    "        'start': d['concept']['start'],\n",
    "        'completed': d['concept']['completed'],\n",
    "    }\n",
    "    for d in data\n",
    "]\n",
    "\n",
    "df = pd.DataFrame(filtered_data)\n",
    "df['start'] = pd.to_datetime(df['start'])\n",
    "\n",
    "df = df[df['start'] < '2023-09-17']\n",
    "df = df.groupby(['user_id', 'counter']).filter(lambda x: len(x) > 1)\n",
    "\n",
    "df['periodTarget'] = df['periodTarget'].fillna(1).astype(int)\n",
    "df['user_id'] = df['user_id'].astype('category')\n",
    "df['counter'] = df.apply(lambda x: f\"{x['counter']}_repetitive\" if x['periodTarget'] > 1 else x['counter'], axis=1)\n",
    "df['counter'] = df['counter'].astype('category')\n",
    "\n",
    "df['discrimination'] = df['target'] * df['periodTarget']\n",
    "df['discrimination'] = df.groupby('counter', observed=False)['discrimination'].transform(lambda x: x / x.max())\n",
    "\n",
    "df.sort_values('start', ascending=True, inplace=True, ignore_index=True)\n",
    "\n",
    "df"
   ]
  },
  {
   "cell_type": "code",
   "execution_count": 2,
   "metadata": {},
   "outputs": [
    {
     "data": {
      "image/png": "[encoded data removed]",
      "text/plain": [
       "<Figure size 2000x800 with 3 Axes>"
      ]
     },
     "metadata": {},
     "output_type": "display_data"
    }
   ],
   "source": [
    "import matplotlib.pyplot as plt\n",
    "\n",
    "fig, (ax1, ax2) = plt.subplots(1, 2, figsize=(20, 8))\n",
    "\n",
    "df['completed'].value_counts().plot(kind='bar', ax=ax1)\n",
    "ax1.set_title('Number of challenges completed')\n",
    "ax1.set_xlabel('Challenges completed')\n",
    "ax1.set_ylabel('Number of challenges')\n",
    "\n",
    "df.groupby('start').size().plot(ax=ax2)\n",
    "ax3 = ax2.twiny()\n",
    "df.groupby(['start', 'completed']).size().unstack().plot(ax=ax3, legend=True, stacked=False, kind='bar', color=['red', 'green'])\n",
    "ax3.set_xlabel('')\n",
    "ax3.set_xticks([])\n",
    "\n",
    "ax2.set_title('Number of challenges per week')\n",
    "ax2.set_xlabel('Start date')\n",
    "ax2.set_ylabel('Number of challenges')\n",
    "\n",
    "plt.show()"
   ]
  },
  {
   "cell_type": "code",
   "execution_count": 3,
   "metadata": {},
   "outputs": [
    {
     "data": {
      "text/html": [
       "<div>\n",
       "<style scoped>\n",
       "    .dataframe tbody tr th:only-of-type {\n",
       "        vertical-align: middle;\n",
       "    }\n",
       "\n",
       "    .dataframe tbody tr th {\n",
       "        vertical-align: top;\n",
       "    }\n",
       "\n",
       "    .dataframe thead th {\n",
       "        text-align: right;\n",
       "    }\n",
       "</style>\n",
       "<table border=\"1\" class=\"dataframe\">\n",
       "  <thead>\n",
       "    <tr style=\"text-align: right;\">\n",
       "      <th></th>\n",
       "      <th>user_id</th>\n",
       "      <th>counter</th>\n",
       "      <th>discrimination</th>\n",
       "      <th>completed</th>\n",
       "    </tr>\n",
       "  </thead>\n",
       "  <tbody>\n",
       "    <tr>\n",
       "      <th>0</th>\n",
       "      <td>12</td>\n",
       "      <td>1</td>\n",
       "      <td>0.016393</td>\n",
       "      <td>1</td>\n",
       "    </tr>\n",
       "    <tr>\n",
       "      <th>1</th>\n",
       "      <td>188</td>\n",
       "      <td>3</td>\n",
       "      <td>0.038314</td>\n",
       "      <td>1</td>\n",
       "    </tr>\n",
       "    <tr>\n",
       "      <th>2</th>\n",
       "      <td>186</td>\n",
       "      <td>3</td>\n",
       "      <td>0.038314</td>\n",
       "      <td>1</td>\n",
       "    </tr>\n",
       "    <tr>\n",
       "      <th>3</th>\n",
       "      <td>186</td>\n",
       "      <td>1</td>\n",
       "      <td>0.016393</td>\n",
       "      <td>1</td>\n",
       "    </tr>\n",
       "    <tr>\n",
       "      <th>4</th>\n",
       "      <td>178</td>\n",
       "      <td>3</td>\n",
       "      <td>0.038314</td>\n",
       "      <td>1</td>\n",
       "    </tr>\n",
       "    <tr>\n",
       "      <th>...</th>\n",
       "      <td>...</td>\n",
       "      <td>...</td>\n",
       "      <td>...</td>\n",
       "      <td>...</td>\n",
       "    </tr>\n",
       "    <tr>\n",
       "      <th>5839</th>\n",
       "      <td>61</td>\n",
       "      <td>3</td>\n",
       "      <td>0.003193</td>\n",
       "      <td>0</td>\n",
       "    </tr>\n",
       "    <tr>\n",
       "      <th>5840</th>\n",
       "      <td>61</td>\n",
       "      <td>1</td>\n",
       "      <td>0.016393</td>\n",
       "      <td>0</td>\n",
       "    </tr>\n",
       "    <tr>\n",
       "      <th>5841</th>\n",
       "      <td>60</td>\n",
       "      <td>3</td>\n",
       "      <td>0.019157</td>\n",
       "      <td>1</td>\n",
       "    </tr>\n",
       "    <tr>\n",
       "      <th>5842</th>\n",
       "      <td>71</td>\n",
       "      <td>3</td>\n",
       "      <td>0.009579</td>\n",
       "      <td>0</td>\n",
       "    </tr>\n",
       "    <tr>\n",
       "      <th>5843</th>\n",
       "      <td>193</td>\n",
       "      <td>3</td>\n",
       "      <td>0.026820</td>\n",
       "      <td>0</td>\n",
       "    </tr>\n",
       "  </tbody>\n",
       "</table>\n",
       "<p>5844 rows × 4 columns</p>\n",
       "</div>"
      ],
      "text/plain": [
       "      user_id  counter  discrimination  completed\n",
       "0          12        1        0.016393          1\n",
       "1         188        3        0.038314          1\n",
       "2         186        3        0.038314          1\n",
       "3         186        1        0.016393          1\n",
       "4         178        3        0.038314          1\n",
       "...       ...      ...             ...        ...\n",
       "5839       61        3        0.003193          0\n",
       "5840       61        1        0.016393          0\n",
       "5841       60        3        0.019157          1\n",
       "5842       71        3        0.009579          0\n",
       "5843      193        3        0.026820          0\n",
       "\n",
       "[5844 rows x 4 columns]"
      ]
     },
     "execution_count": 3,
     "metadata": {},
     "output_type": "execute_result"
    }
   ],
   "source": [
    "dataset = pd.DataFrame({\n",
    "    'user_id': df['user_id'].cat.codes,\n",
    "    'counter': df['counter'].cat.codes,\n",
    "    'discrimination': df['discrimination'],\n",
    "    'completed': df['completed'].astype(int),\n",
    "})\n",
    "\n",
    "dataset"
   ]
  },
  {
   "cell_type": "code",
   "execution_count": 4,
   "metadata": {},
   "outputs": [
    {
     "name": "stdout",
     "output_type": "stream",
     "text": [
      "cuda\n"
     ]
    }
   ],
   "source": [
    "import torch\n",
    "import torch.nn as nn\n",
    "import torch.optim as optim\n",
    "from torch.utils.data import DataLoader, Dataset\n",
    "from tqdm.auto import tqdm\n",
    "\n",
    "torch.manual_seed(0)\n",
    "DEVICE = torch.device('cuda' if torch.cuda.is_available() else 'cpu')\n",
    "print(DEVICE)\n",
    "\n",
    "class Model(nn.Module):\n",
    "    def __init__(self, n_users, n_indicator, n_hidden: int = 16, layers: list = [16, 8, 4], dropout: float = 0.2):\n",
    "        super(Model, self).__init__()\n",
    "        self.user_embedding = nn.Embedding(n_users, n_hidden)\n",
    "        self.indicator_embedding = nn.Embedding(n_indicator, n_hidden)\n",
    "\n",
    "        self.feedforward = nn.Sequential()\n",
    "        for i, (in_layer, out_layer) in enumerate(zip([n_hidden, *layers], layers)):\n",
    "            self.feedforward.add_module(f'linear_{i}', nn.Linear(in_layer, out_layer))\n",
    "            self.feedforward.add_module(f'activation_{i}', nn.ReLU())\n",
    "            self.feedforward.add_module(f'dropout_{i}', nn.Dropout(dropout))\n",
    "        self.feedforward.add_module('output', nn.Linear(layers[-1], 1))\n",
    "        \n",
    "        self.fc = nn.Linear(2, 1)\n",
    "\n",
    "    def forward(self, user, indicator, discrimination):\n",
    "        user = self.user_embedding(user)\n",
    "        indicator = self.indicator_embedding(indicator)\n",
    "        x = user - indicator\n",
    "        x = self.feedforward(x)\n",
    "        x = torch.cat([x, discrimination.view(-1, 1)], dim=1)\n",
    "        x = self.fc(x)\n",
    "        return torch.sigmoid(x).view(-1)\n",
    "    \n",
    "    def fit(self, X: pd.DataFrame, y: pd.Series, epochs: int = 10, batch_size: int = 32, lr: float = 0.01):\n",
    "        self.train()\n",
    "        optimizer = optim.Adam(self.parameters(), lr=lr)\n",
    "        criterion = nn.BCELoss()\n",
    "        dataloader = DataLoader(Dataset(X, y), batch_size=batch_size, shuffle=False)\n",
    "        \n",
    "        for _ in (t := tqdm(range(epochs))):\n",
    "            epoch_loss = 0\n",
    "            for data in tqdm(dataloader, leave=False):\n",
    "                user, indicator, discrimination, target = (d.to(DEVICE) for d in data)\n",
    "                optimizer.zero_grad()\n",
    "                output = self(user, indicator, discrimination)\n",
    "                loss: torch.Tensor = criterion(output, target)\n",
    "                loss.backward()\n",
    "                optimizer.step()\n",
    "                epoch_loss += loss.item()\n",
    "            t.set_postfix({'loss': epoch_loss / len(dataloader)})\n",
    "    \n",
    "    @torch.no_grad()\n",
    "    def predict(self, X: pd.DataFrame, batch_size: int = 32):\n",
    "        self.eval()\n",
    "        dataloader = DataLoader(Dataset(X), batch_size=batch_size, shuffle=False)\n",
    "        predictions = torch.tensor([]).to(DEVICE)\n",
    "        for data in tqdm(dataloader):\n",
    "            user, indicator, discrimination = (d.to(DEVICE) for d in data)\n",
    "            output = self(user, indicator, discrimination)\n",
    "            predictions = torch.cat([predictions, output])\n",
    "        return predictions.detach().cpu().numpy()\n",
    "\n",
    "class Dataset(Dataset):\n",
    "    def __init__(self, X: pd.DataFrame, y: pd.Series = None):\n",
    "        self.dataset = X\n",
    "        self.y = y\n",
    "    \n",
    "    def __len__(self):\n",
    "        return len(self.dataset)\n",
    "    \n",
    "    def __getitem__(self, idx):\n",
    "        X = self.dataset.iloc[idx]\n",
    "        X = (\n",
    "            torch.scalar_tensor(X['user_id'], dtype=torch.long),\n",
    "            torch.scalar_tensor(X['counter'], dtype=torch.long),\n",
    "            torch.scalar_tensor(X['discrimination'], dtype=torch.float32)\n",
    "        )\n",
    "\n",
    "        if self.y is None:\n",
    "            return X\n",
    "        \n",
    "        return tuple([*X, torch.scalar_tensor(self.y.iloc[idx])])\n",
    "\n",
    "n_users = dataset['user_id'].max() + 1\n",
    "n_indicator = dataset['counter'].max() + 1"
   ]
  },
  {
   "cell_type": "code",
   "execution_count": 5,
   "metadata": {},
   "outputs": [],
   "source": [
    "test_df = dataset.groupby(['user_id', 'counter']).tail(1)\n",
    "train_df = dataset.drop(test_df.index)\n",
    "\n",
    "Y_hat_df = test_df[['completed']].copy()"
   ]
  },
  {
   "cell_type": "code",
   "execution_count": 6,
   "metadata": {},
   "outputs": [
    {
     "data": {
      "application/vnd.jupyter.widget-view+json": {
       "model_id": "47e898677f88460ca4da19589f6a792b",
       "version_major": 2,
       "version_minor": 0
      },
      "text/plain": [
       "  0%|          | 0/15 [00:00<?, ?it/s]"
      ]
     },
     "metadata": {},
     "output_type": "display_data"
    },
    {
     "data": {
      "application/vnd.jupyter.widget-view+json": {
       "model_id": "167392045b134a439829f9b62f7db5b1",
       "version_major": 2,
       "version_minor": 0
      },
      "text/plain": [
       "  0%|          | 0/168 [00:00<?, ?it/s]"
      ]
     },
     "metadata": {},
     "output_type": "display_data"
    },
    {
     "data": {
      "application/vnd.jupyter.widget-view+json": {
       "model_id": "4063050d9ce541338a7d172640b61eff",
       "version_major": 2,
       "version_minor": 0
      },
      "text/plain": [
       "  0%|          | 0/168 [00:00<?, ?it/s]"
      ]
     },
     "metadata": {},
     "output_type": "display_data"
    },
    {
     "data": {
      "application/vnd.jupyter.widget-view+json": {
       "model_id": "8836f69e9e47450ca7c9a756c661d024",
       "version_major": 2,
       "version_minor": 0
      },
      "text/plain": [
       "  0%|          | 0/168 [00:00<?, ?it/s]"
      ]
     },
     "metadata": {},
     "output_type": "display_data"
    },
    {
     "data": {
      "application/vnd.jupyter.widget-view+json": {
       "model_id": "787e5c44072245c6b593bf3b3461fc2f",
       "version_major": 2,
       "version_minor": 0
      },
      "text/plain": [
       "  0%|          | 0/168 [00:00<?, ?it/s]"
      ]
     },
     "metadata": {},
     "output_type": "display_data"
    },
    {
     "data": {
      "application/vnd.jupyter.widget-view+json": {
       "model_id": "2df0829677834b9db1c74dfb572c4803",
       "version_major": 2,
       "version_minor": 0
      },
      "text/plain": [
       "  0%|          | 0/168 [00:00<?, ?it/s]"
      ]
     },
     "metadata": {},
     "output_type": "display_data"
    },
    {
     "data": {
      "application/vnd.jupyter.widget-view+json": {
       "model_id": "4c399d92785549a19dbf30788805b2dd",
       "version_major": 2,
       "version_minor": 0
      },
      "text/plain": [
       "  0%|          | 0/168 [00:00<?, ?it/s]"
      ]
     },
     "metadata": {},
     "output_type": "display_data"
    },
    {
     "data": {
      "application/vnd.jupyter.widget-view+json": {
       "model_id": "734244d858be49169dcf3275c21f42f7",
       "version_major": 2,
       "version_minor": 0
      },
      "text/plain": [
       "  0%|          | 0/168 [00:00<?, ?it/s]"
      ]
     },
     "metadata": {},
     "output_type": "display_data"
    },
    {
     "data": {
      "application/vnd.jupyter.widget-view+json": {
       "model_id": "62ade316a9f743fea134221107da335e",
       "version_major": 2,
       "version_minor": 0
      },
      "text/plain": [
       "  0%|          | 0/168 [00:00<?, ?it/s]"
      ]
     },
     "metadata": {},
     "output_type": "display_data"
    },
    {
     "data": {
      "application/vnd.jupyter.widget-view+json": {
       "model_id": "a33f8962a31e49f79260474b7364f72d",
       "version_major": 2,
       "version_minor": 0
      },
      "text/plain": [
       "  0%|          | 0/168 [00:00<?, ?it/s]"
      ]
     },
     "metadata": {},
     "output_type": "display_data"
    },
    {
     "data": {
      "application/vnd.jupyter.widget-view+json": {
       "model_id": "221b0ad3bbc84f9ebe9f5d72fda0a4ac",
       "version_major": 2,
       "version_minor": 0
      },
      "text/plain": [
       "  0%|          | 0/168 [00:00<?, ?it/s]"
      ]
     },
     "metadata": {},
     "output_type": "display_data"
    },
    {
     "data": {
      "application/vnd.jupyter.widget-view+json": {
       "model_id": "99bd136dcd26494c84008b0a57e224bb",
       "version_major": 2,
       "version_minor": 0
      },
      "text/plain": [
       "  0%|          | 0/168 [00:00<?, ?it/s]"
      ]
     },
     "metadata": {},
     "output_type": "display_data"
    },
    {
     "data": {
      "application/vnd.jupyter.widget-view+json": {
       "model_id": "5a948a0c3f5048dea7fba239e33ac89f",
       "version_major": 2,
       "version_minor": 0
      },
      "text/plain": [
       "  0%|          | 0/168 [00:00<?, ?it/s]"
      ]
     },
     "metadata": {},
     "output_type": "display_data"
    },
    {
     "data": {
      "application/vnd.jupyter.widget-view+json": {
       "model_id": "d81db6430a024a8f9c65a3bbd151857e",
       "version_major": 2,
       "version_minor": 0
      },
      "text/plain": [
       "  0%|          | 0/168 [00:00<?, ?it/s]"
      ]
     },
     "metadata": {},
     "output_type": "display_data"
    },
    {
     "data": {
      "application/vnd.jupyter.widget-view+json": {
       "model_id": "0b6e9cad43dd47d88fb5e0288d845e9b",
       "version_major": 2,
       "version_minor": 0
      },
      "text/plain": [
       "  0%|          | 0/168 [00:00<?, ?it/s]"
      ]
     },
     "metadata": {},
     "output_type": "display_data"
    },
    {
     "data": {
      "application/vnd.jupyter.widget-view+json": {
       "model_id": "afc609637d6a4c9bb39a2a5251d1b062",
       "version_major": 2,
       "version_minor": 0
      },
      "text/plain": [
       "  0%|          | 0/168 [00:00<?, ?it/s]"
      ]
     },
     "metadata": {},
     "output_type": "display_data"
    },
    {
     "data": {
      "application/vnd.jupyter.widget-view+json": {
       "model_id": "b32092c9cc0146c99a1be693417cd91b",
       "version_major": 2,
       "version_minor": 0
      },
      "text/plain": [
       "  0%|          | 0/15 [00:00<?, ?it/s]"
      ]
     },
     "metadata": {},
     "output_type": "display_data"
    },
    {
     "data": {
      "text/html": [
       "<div>\n",
       "<style scoped>\n",
       "    .dataframe tbody tr th:only-of-type {\n",
       "        vertical-align: middle;\n",
       "    }\n",
       "\n",
       "    .dataframe tbody tr th {\n",
       "        vertical-align: top;\n",
       "    }\n",
       "\n",
       "    .dataframe thead th {\n",
       "        text-align: right;\n",
       "    }\n",
       "</style>\n",
       "<table border=\"1\" class=\"dataframe\">\n",
       "  <thead>\n",
       "    <tr style=\"text-align: right;\">\n",
       "      <th></th>\n",
       "      <th>completed</th>\n",
       "      <th>model</th>\n",
       "    </tr>\n",
       "  </thead>\n",
       "  <tbody>\n",
       "    <tr>\n",
       "      <th>240</th>\n",
       "      <td>0</td>\n",
       "      <td>4.986938e-01</td>\n",
       "    </tr>\n",
       "    <tr>\n",
       "      <th>410</th>\n",
       "      <td>0</td>\n",
       "      <td>4.652078e-01</td>\n",
       "    </tr>\n",
       "    <tr>\n",
       "      <th>550</th>\n",
       "      <td>1</td>\n",
       "      <td>4.470277e-01</td>\n",
       "    </tr>\n",
       "    <tr>\n",
       "      <th>565</th>\n",
       "      <td>0</td>\n",
       "      <td>1.389942e-10</td>\n",
       "    </tr>\n",
       "    <tr>\n",
       "      <th>629</th>\n",
       "      <td>1</td>\n",
       "      <td>9.577098e-01</td>\n",
       "    </tr>\n",
       "    <tr>\n",
       "      <th>...</th>\n",
       "      <td>...</td>\n",
       "      <td>...</td>\n",
       "    </tr>\n",
       "    <tr>\n",
       "      <th>5839</th>\n",
       "      <td>0</td>\n",
       "      <td>5.014168e-04</td>\n",
       "    </tr>\n",
       "    <tr>\n",
       "      <th>5840</th>\n",
       "      <td>0</td>\n",
       "      <td>5.442780e-08</td>\n",
       "    </tr>\n",
       "    <tr>\n",
       "      <th>5841</th>\n",
       "      <td>1</td>\n",
       "      <td>3.348119e-01</td>\n",
       "    </tr>\n",
       "    <tr>\n",
       "      <th>5842</th>\n",
       "      <td>0</td>\n",
       "      <td>3.786923e-01</td>\n",
       "    </tr>\n",
       "    <tr>\n",
       "      <th>5843</th>\n",
       "      <td>0</td>\n",
       "      <td>4.590806e-01</td>\n",
       "    </tr>\n",
       "  </tbody>\n",
       "</table>\n",
       "<p>472 rows × 2 columns</p>\n",
       "</div>"
      ],
      "text/plain": [
       "      completed         model\n",
       "240           0  4.986938e-01\n",
       "410           0  4.652078e-01\n",
       "550           1  4.470277e-01\n",
       "565           0  1.389942e-10\n",
       "629           1  9.577098e-01\n",
       "...         ...           ...\n",
       "5839          0  5.014168e-04\n",
       "5840          0  5.442780e-08\n",
       "5841          1  3.348119e-01\n",
       "5842          0  3.786923e-01\n",
       "5843          0  4.590806e-01\n",
       "\n",
       "[472 rows x 2 columns]"
      ]
     },
     "execution_count": 6,
     "metadata": {},
     "output_type": "execute_result"
    }
   ],
   "source": [
    "model = Model(n_users, n_indicator, n_hidden=32, dropout=0.5)\n",
    "model.to(DEVICE)\n",
    "\n",
    "model.fit(train_df[['user_id', 'counter', 'discrimination']], train_df['completed'], epochs=15, batch_size=32, lr=0.01)\n",
    "Y_hat_df['model'] = model.predict(test_df[['user_id', 'counter', 'discrimination']])\n",
    "\n",
    "Y_hat_df"
   ]
  },
  {
   "cell_type": "code",
   "execution_count": 7,
   "metadata": {},
   "outputs": [],
   "source": [
    "# Logistic regression\n",
    "\n",
    "from sklearn.linear_model import LogisticRegression\n",
    "from sklearn.compose import ColumnTransformer\n",
    "from sklearn.preprocessing import OneHotEncoder\n",
    "from sklearn.pipeline import Pipeline\n",
    "\n",
    "X = train_df[['user_id', 'counter', 'discrimination']]\n",
    "y = train_df['completed']\n",
    "\n",
    "preprocessor = ColumnTransformer(\n",
    "    transformers=[\n",
    "        ('user_id', OneHotEncoder(), ['user_id']),\n",
    "        ('counter', OneHotEncoder(), ['counter']),\n",
    "    ]\n",
    ")\n",
    "\n",
    "pipeline = Pipeline([\n",
    "    ('preprocessor', preprocessor),\n",
    "    ('classifier', LogisticRegression())\n",
    "])\n",
    "\n",
    "pipeline.fit(X, y)\n",
    "\n",
    "test_X = test_df[['user_id', 'counter', 'discrimination']]\n",
    "test_y = test_df['completed']\n",
    "\n",
    "Y_hat_df['logistic'] = pipeline.predict_proba(test_X)[:, 1]"
   ]
  },
  {
   "cell_type": "code",
   "execution_count": 8,
   "metadata": {},
   "outputs": [
    {
     "data": {
      "image/png": "[encoded data removed]",
      "text/plain": [
       "<Figure size 2000x800 with 2 Axes>"
      ]
     },
     "metadata": {},
     "output_type": "display_data"
    }
   ],
   "source": [
    "from sklearn.metrics import roc_curve, precision_recall_curve, auc\n",
    "from matplotlib import pyplot as plt\n",
    "\n",
    "fig, (ax1, ax2) = plt.subplots(1, 2, figsize=(20, 8))\n",
    "\n",
    "fpr, tpr, _ = roc_curve(Y_hat_df['completed'], Y_hat_df['model'])\n",
    "ax1.plot(fpr, tpr, label=f\"Model AUC: {auc(fpr, tpr):.2f}\")\n",
    "\n",
    "fpr, tpr, _ = roc_curve(Y_hat_df['completed'], Y_hat_df['logistic'])\n",
    "ax1.plot(fpr, tpr, label=f\"Logistic AUC: {auc(fpr, tpr):.2f}\")\n",
    "\n",
    "ax1.plot([0, 1], [0, 1], linestyle='--', color='black')\n",
    "ax1.set_title('ROC curve')\n",
    "ax1.set_xlabel('False positive rate')\n",
    "ax1.set_ylabel('True positive rate')\n",
    "ax1.legend()\n",
    "\n",
    "precision, recall, _ = precision_recall_curve(Y_hat_df['completed'], Y_hat_df['model'])\n",
    "ax2.plot(recall, precision, label=f\"Model AUC: {auc(recall, precision):.2f}\")\n",
    "\n",
    "precision, recall, _ = precision_recall_curve(Y_hat_df['completed'], Y_hat_df['logistic'])\n",
    "ax2.plot(recall, precision, label=f\"Logistic AUC: {auc(recall, precision):.2f}\")\n",
    "\n",
    "ax2.set_title('Precision-Recall curve')\n",
    "ax2.set_xlabel('Recall')\n",
    "ax2.set_ylabel('Precision')\n",
    "ax2.set_xlim(0, 1)\n",
    "ax2.set_ylim(0, 1)\n",
    "ax2.legend()\n",
    "\n",
    "plt.show()"
   ]
  },
  {
   "cell_type": "code",
   "execution_count": 15,
   "metadata": {},
   "outputs": [
    {
     "data": {
      "application/vnd.jupyter.widget-view+json": {
       "model_id": "2ef8212e939748d3ac633db032836538",
       "version_major": 2,
       "version_minor": 0
      },
      "text/plain": [
       "  0%|          | 0/243 [00:00<?, ?it/s]"
      ]
     },
     "metadata": {},
     "output_type": "display_data"
    },
    {
     "data": {
      "text/html": [
       "<div>\n",
       "<style scoped>\n",
       "    .dataframe tbody tr th:only-of-type {\n",
       "        vertical-align: middle;\n",
       "    }\n",
       "\n",
       "    .dataframe tbody tr th {\n",
       "        vertical-align: top;\n",
       "    }\n",
       "\n",
       "    .dataframe thead th {\n",
       "        text-align: right;\n",
       "    }\n",
       "</style>\n",
       "<table border=\"1\" class=\"dataframe\">\n",
       "  <thead>\n",
       "    <tr style=\"text-align: right;\">\n",
       "      <th></th>\n",
       "      <th>user_id</th>\n",
       "      <th>counter</th>\n",
       "      <th>discrimination</th>\n",
       "      <th>model</th>\n",
       "    </tr>\n",
       "  </thead>\n",
       "  <tbody>\n",
       "    <tr>\n",
       "      <th>0</th>\n",
       "      <td>0</td>\n",
       "      <td>0</td>\n",
       "      <td>0.000000</td>\n",
       "      <td>0.237966</td>\n",
       "    </tr>\n",
       "    <tr>\n",
       "      <th>1</th>\n",
       "      <td>0</td>\n",
       "      <td>0</td>\n",
       "      <td>0.111111</td>\n",
       "      <td>0.228817</td>\n",
       "    </tr>\n",
       "    <tr>\n",
       "      <th>2</th>\n",
       "      <td>0</td>\n",
       "      <td>0</td>\n",
       "      <td>0.222222</td>\n",
       "      <td>0.219919</td>\n",
       "    </tr>\n",
       "    <tr>\n",
       "      <th>3</th>\n",
       "      <td>0</td>\n",
       "      <td>0</td>\n",
       "      <td>0.333333</td>\n",
       "      <td>0.211271</td>\n",
       "    </tr>\n",
       "    <tr>\n",
       "      <th>4</th>\n",
       "      <td>0</td>\n",
       "      <td>0</td>\n",
       "      <td>0.444444</td>\n",
       "      <td>0.202876</td>\n",
       "    </tr>\n",
       "    <tr>\n",
       "      <th>...</th>\n",
       "      <td>...</td>\n",
       "      <td>...</td>\n",
       "      <td>...</td>\n",
       "      <td>...</td>\n",
       "    </tr>\n",
       "    <tr>\n",
       "      <th>7755</th>\n",
       "      <td>193</td>\n",
       "      <td>3</td>\n",
       "      <td>0.555556</td>\n",
       "      <td>0.399537</td>\n",
       "    </tr>\n",
       "    <tr>\n",
       "      <th>7756</th>\n",
       "      <td>193</td>\n",
       "      <td>3</td>\n",
       "      <td>0.666667</td>\n",
       "      <td>0.387334</td>\n",
       "    </tr>\n",
       "    <tr>\n",
       "      <th>7757</th>\n",
       "      <td>193</td>\n",
       "      <td>3</td>\n",
       "      <td>0.777778</td>\n",
       "      <td>0.375271</td>\n",
       "    </tr>\n",
       "    <tr>\n",
       "      <th>7758</th>\n",
       "      <td>193</td>\n",
       "      <td>3</td>\n",
       "      <td>0.888889</td>\n",
       "      <td>0.363361</td>\n",
       "    </tr>\n",
       "    <tr>\n",
       "      <th>7759</th>\n",
       "      <td>193</td>\n",
       "      <td>3</td>\n",
       "      <td>1.000000</td>\n",
       "      <td>0.351615</td>\n",
       "    </tr>\n",
       "  </tbody>\n",
       "</table>\n",
       "<p>7760 rows × 4 columns</p>\n",
       "</div>"
      ],
      "text/plain": [
       "      user_id  counter  discrimination     model\n",
       "0           0        0        0.000000  0.237966\n",
       "1           0        0        0.111111  0.228817\n",
       "2           0        0        0.222222  0.219919\n",
       "3           0        0        0.333333  0.211271\n",
       "4           0        0        0.444444  0.202876\n",
       "...       ...      ...             ...       ...\n",
       "7755      193        3        0.555556  0.399537\n",
       "7756      193        3        0.666667  0.387334\n",
       "7757      193        3        0.777778  0.375271\n",
       "7758      193        3        0.888889  0.363361\n",
       "7759      193        3        1.000000  0.351615\n",
       "\n",
       "[7760 rows x 4 columns]"
      ]
     },
     "execution_count": 15,
     "metadata": {},
     "output_type": "execute_result"
    }
   ],
   "source": [
    "users = pd.Series(range(n_users), name='user_id')\n",
    "counters = pd.Series(range(n_indicator), name='counter')\n",
    "difficulty = pd.Series(np.linspace(0, 1, 10), name='discrimination')\n",
    "\n",
    "query = pd.merge(users, counters, how='cross').merge(difficulty, how='cross')\n",
    "\n",
    "query['model'] = model.predict(query)\n",
    "query"
   ]
  }
 ],
 "metadata": {
  "kernelspec": {
   "display_name": "Python 3",
   "language": "python",
   "name": "python3"
  },
  "language_info": {
   "codemirror_mode": {
    "name": "ipython",
    "version": 3
   },
   "file_extension": ".py",
   "mimetype": "text/x-python",
   "name": "python",
   "nbconvert_exporter": "python",
   "pygments_lexer": "ipython3",
   "version": "3.10.14"
  }
 },
 "nbformat": 4,
 "nbformat_minor": 2
}
